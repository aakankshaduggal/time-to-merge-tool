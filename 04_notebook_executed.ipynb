{
 "cells": [
  {
   "cell_type": "markdown",
   "id": "3f5d1031-4a3c-4bd7-9089-4766917156f2",
   "metadata": {},
   "source": [
    "# Run inference on time to merge model trained previously\n",
    "\n",
    "\n",
    "## What we did previously\n",
    "\n",
    "In the previous [notebook](./03_model_training.ipynb) we trained machine learning models to classify a PR's `time_to_merge` into one of the 10 bins (or \"classes\"). We then deployed the model with the highest f1-score as a service using the model saved in s3.\n",
    "\n",
    "## In this step\n",
    "\n",
    "In this notebook, we are going to fetch the model that we previously trained, saved and stored in s3. We will send a payload to this model and see how it performs on the test data.\n",
    "# Time to Merge Prediction Inference Service\n",
    "\n",
    "In the previous notebook, we explored some basic machine learning models for predicting time to merge of a PR."
   ]
  },
  {
   "cell_type": "code",
   "execution_count": 1,
   "id": "091c5463",
   "metadata": {
    "execution": {
     "iopub.execute_input": "2022-12-07T15:29:09.505275Z",
     "iopub.status.busy": "2022-12-07T15:29:09.504946Z",
     "iopub.status.idle": "2022-12-07T15:29:10.442190Z",
     "shell.execute_reply": "2022-12-07T15:29:10.441219Z"
    }
   },
   "outputs": [],
   "source": [
    "import os\n",
    "import sys\n",
    "import gzip\n",
    "import json\n",
    "import boto3\n",
    "import datetime\n",
    "import requests\n",
    "from github import Github\n",
    "from dotenv import load_dotenv, find_dotenv\n",
    "from io import BytesIO\n",
    "\n",
    "import joblib\n",
    "\n",
    "import numpy as np\n",
    "import pandas as pd\n",
    "import ceph_comm\n",
    "import process_pr\n",
    "\n",
    "from sklearn.metrics import classification_report\n",
    "from github_handling import connect_to_source, GITHUB_TIMEOUT_SECONDS, GitHubSingleton, GithubHandler\n",
    "\n",
    "\n",
    "load_dotenv(find_dotenv(), override=True)\n",
    "\n",
    "import warnings\n",
    "warnings.filterwarnings('ignore') \n",
    "\n",
    "from warnings import simplefilter\n",
    "simplefilter(action=\"ignore\", category=pd.errors.PerformanceWarning)"
   ]
  },
  {
   "cell_type": "code",
   "execution_count": 2,
   "id": "e4672acb",
   "metadata": {
    "execution": {
     "iopub.execute_input": "2022-12-07T15:29:10.447358Z",
     "iopub.status.busy": "2022-12-07T15:29:10.446715Z",
     "iopub.status.idle": "2022-12-07T15:29:10.453913Z",
     "shell.execute_reply": "2022-12-07T15:29:10.453112Z"
    }
   },
   "outputs": [],
   "source": [
    "## CEPH Bucket variables\n",
    "## Create a .env file on your local with the correct configs,\n",
    "\n",
    "ACTION = os.getenv(\"ACTION\", 0)\n",
    "ORG = os.getenv(\"GITHUB_ORG\")\n",
    "REPO = os.getenv(\"GITHUB_REPO\")\n",
    "TOKEN = os.getenv(\"GITHUB_ACCESS_TOKEN\") \n",
    "\n",
    "## S3 bucket credentials\n",
    "s3_endpoint_url = os.getenv(\"S3_ENDPOINT_URL\")\n",
    "s3_access_key = os.getenv(\"AWS_ACCESS_KEY_ID\")\n",
    "s3_secret_key = os.getenv(\"AWS_SECRET_ACCESS_KEY\")\n",
    "s3_bucket = os.getenv(\"S3_BUCKET\")\n",
    "\n",
    "s3_input_data_path = os.getenv(\"CEPH_BUCKET_PREFIX\")\n",
    "\n",
    "REMOTE = os.getenv(\"REMOTE\")\n",
    "RAW_DATA_PATH = os.path.join(\n",
    "    s3_input_data_path, \"srcopsmetrics/bot_knowledge\", ORG, REPO, \"PullRequest.json\"\n",
    ")"
   ]
  },
  {
   "cell_type": "code",
   "execution_count": 3,
   "id": "66f1de79-b08e-48c2-9b01-3b5c5c8d23c6",
   "metadata": {
    "execution": {
     "iopub.execute_input": "2022-12-07T15:29:10.457241Z",
     "iopub.status.busy": "2022-12-07T15:29:10.456816Z",
     "iopub.status.idle": "2022-12-07T15:29:11.427015Z",
     "shell.execute_reply": "2022-12-07T15:29:11.426199Z"
    }
   },
   "outputs": [
    {
     "name": "stderr",
     "output_type": "stream",
     "text": [
      "INFO:github_handling: Github Handler __init__: 4782 remaining api calls\n",
      "INFO:github_handling: _is_api_exhausted: 4782 remaining api calls\n",
      "INFO:github_handling: _is_api_exhausted: 4782 remaining api calls\n"
     ]
    }
   ],
   "source": [
    "# Collect PRs and combine them\n",
    "cc = ceph_comm.CephCommunication(s3_endpoint_url, s3_access_key, s3_secret_key, s3_bucket)\n",
    "\n",
    "gs = GitHubSingleton()\n",
    "gh = GithubHandler(gs.github)\n",
    "repo = connect_to_source(ORG+'/'+REPO, gh)\n",
    "prs = repo.get_pulls(state='open')\n",
    "pr_ids = [pr for pr in prs]"
   ]
  },
  {
   "cell_type": "code",
   "execution_count": 4,
   "id": "093e3a43-06ab-41d5-a56f-e8e75680cd40",
   "metadata": {
    "execution": {
     "iopub.execute_input": "2022-12-07T15:29:11.431452Z",
     "iopub.status.busy": "2022-12-07T15:29:11.430645Z",
     "iopub.status.idle": "2022-12-07T15:29:13.461207Z",
     "shell.execute_reply": "2022-12-07T15:29:13.460307Z"
    }
   },
   "outputs": [
    {
     "name": "stderr",
     "output_type": "stream",
     "text": [
      "INFO:github_handling: _is_api_exhausted: 4780 remaining api calls\n"
     ]
    },
    {
     "name": "stdout",
     "output_type": "stream",
     "text": [
      "collected PR oindrilla/srcopsmetrics/bot_knowledge/redhat-et/time-to-merge-tool/PullRequest.json/PRs/48.json\n"
     ]
    }
   ],
   "source": [
    "d = process_pr.parse_pr_with_mi(pr_ids[0], gh)\n",
    "pr_df = pd.DataFrame.from_dict(d, orient=\"index\")\n",
    "pr_df = pr_df.transpose()\n",
    "\n",
    "PR_FILENAME = os.path.join(\"PRs/\"+ str(pr_ids[0].number) + \".json\")\n",
    "print(\"collected PR\", RAW_DATA_PATH+\"/\"+PR_FILENAME)"
   ]
  },
  {
   "cell_type": "code",
   "execution_count": 5,
   "id": "b36bb05d-8fe4-4a85-9288-8a75260e34a6",
   "metadata": {
    "execution": {
     "iopub.execute_input": "2022-12-07T15:29:13.465438Z",
     "iopub.status.busy": "2022-12-07T15:29:13.465129Z",
     "iopub.status.idle": "2022-12-07T15:29:14.016176Z",
     "shell.execute_reply": "2022-12-07T15:29:14.015168Z"
    }
   },
   "outputs": [
    {
     "data": {
      "text/html": [
       "<style>#sk-container-id-1 {color: black;background-color: white;}#sk-container-id-1 pre{padding: 0;}#sk-container-id-1 div.sk-toggleable {background-color: white;}#sk-container-id-1 label.sk-toggleable__label {cursor: pointer;display: block;width: 100%;margin-bottom: 0;padding: 0.3em;box-sizing: border-box;text-align: center;}#sk-container-id-1 label.sk-toggleable__label-arrow:before {content: \"▸\";float: left;margin-right: 0.25em;color: #696969;}#sk-container-id-1 label.sk-toggleable__label-arrow:hover:before {color: black;}#sk-container-id-1 div.sk-estimator:hover label.sk-toggleable__label-arrow:before {color: black;}#sk-container-id-1 div.sk-toggleable__content {max-height: 0;max-width: 0;overflow: hidden;text-align: left;background-color: #f0f8ff;}#sk-container-id-1 div.sk-toggleable__content pre {margin: 0.2em;color: black;border-radius: 0.25em;background-color: #f0f8ff;}#sk-container-id-1 input.sk-toggleable__control:checked~div.sk-toggleable__content {max-height: 200px;max-width: 100%;overflow: auto;}#sk-container-id-1 input.sk-toggleable__control:checked~label.sk-toggleable__label-arrow:before {content: \"▾\";}#sk-container-id-1 div.sk-estimator input.sk-toggleable__control:checked~label.sk-toggleable__label {background-color: #d4ebff;}#sk-container-id-1 div.sk-label input.sk-toggleable__control:checked~label.sk-toggleable__label {background-color: #d4ebff;}#sk-container-id-1 input.sk-hidden--visually {border: 0;clip: rect(1px 1px 1px 1px);clip: rect(1px, 1px, 1px, 1px);height: 1px;margin: -1px;overflow: hidden;padding: 0;position: absolute;width: 1px;}#sk-container-id-1 div.sk-estimator {font-family: monospace;background-color: #f0f8ff;border: 1px dotted black;border-radius: 0.25em;box-sizing: border-box;margin-bottom: 0.5em;}#sk-container-id-1 div.sk-estimator:hover {background-color: #d4ebff;}#sk-container-id-1 div.sk-parallel-item::after {content: \"\";width: 100%;border-bottom: 1px solid gray;flex-grow: 1;}#sk-container-id-1 div.sk-label:hover label.sk-toggleable__label {background-color: #d4ebff;}#sk-container-id-1 div.sk-serial::before {content: \"\";position: absolute;border-left: 1px solid gray;box-sizing: border-box;top: 0;bottom: 0;left: 50%;z-index: 0;}#sk-container-id-1 div.sk-serial {display: flex;flex-direction: column;align-items: center;background-color: white;padding-right: 0.2em;padding-left: 0.2em;position: relative;}#sk-container-id-1 div.sk-item {position: relative;z-index: 1;}#sk-container-id-1 div.sk-parallel {display: flex;align-items: stretch;justify-content: center;background-color: white;position: relative;}#sk-container-id-1 div.sk-item::before, #sk-container-id-1 div.sk-parallel-item::before {content: \"\";position: absolute;border-left: 1px solid gray;box-sizing: border-box;top: 0;bottom: 0;left: 50%;z-index: -1;}#sk-container-id-1 div.sk-parallel-item {display: flex;flex-direction: column;z-index: 1;position: relative;background-color: white;}#sk-container-id-1 div.sk-parallel-item:first-child::after {align-self: flex-end;width: 50%;}#sk-container-id-1 div.sk-parallel-item:last-child::after {align-self: flex-start;width: 50%;}#sk-container-id-1 div.sk-parallel-item:only-child::after {width: 0;}#sk-container-id-1 div.sk-dashed-wrapped {border: 1px dashed gray;margin: 0 0.4em 0.5em 0.4em;box-sizing: border-box;padding-bottom: 0.4em;background-color: white;}#sk-container-id-1 div.sk-label label {font-family: monospace;font-weight: bold;display: inline-block;line-height: 1.2em;}#sk-container-id-1 div.sk-label-container {text-align: center;}#sk-container-id-1 div.sk-container {/* jupyter's `normalize.less` sets `[hidden] { display: none; }` but bootstrap.min.css set `[hidden] { display: none !important; }` so we also need the `!important` here to be able to override the default hidden behavior on the sphinx rendered scikit-learn.org. See: https://github.com/scikit-learn/scikit-learn/issues/21755 */display: inline-block !important;position: relative;}#sk-container-id-1 div.sk-text-repr-fallback {display: none;}</style><div id=\"sk-container-id-1\" class=\"sk-top-container\"><div class=\"sk-text-repr-fallback\"><pre>Pipeline(steps=[(&#x27;extract_features&#x27;,\n",
       "                 ColumnTransformer(transformers=[(&#x27;pr_size&#x27;,\n",
       "                                                  OrdinalEncoder(categories=[[&#x27;XS&#x27;,\n",
       "                                                                              &#x27;S&#x27;,\n",
       "                                                                              &#x27;M&#x27;,\n",
       "                                                                              &#x27;L&#x27;,\n",
       "                                                                              &#x27;XL&#x27;,\n",
       "                                                                              &#x27;XXL&#x27;]]),\n",
       "                                                  [&#x27;size&#x27;]),\n",
       "                                                 (&#x27;created_at_details&#x27;,\n",
       "                                                  DateTimeDetailsTransformer(),\n",
       "                                                  [&#x27;created_at&#x27;]),\n",
       "                                                 (&#x27;n_changed_files&#x27;,\n",
       "                                                  NumChangedFilesTransformer(),\n",
       "                                                  [&#x27;changed_files_number&#x27;]),\n",
       "                                                 (&#x27;body_size&#x27;,\n",
       "                                                  StringLenTransformer(),\n",
       "                                                  [&#x27;body&#x27;]),\n",
       "                                                 (&#x27;n_commits&#x27;, &#x27;p...\n",
       "                                                  TitleWordCountTransformer(words=[&#x27;action&#x27;,\n",
       "                                                                                   &#x27;add&#x27;,\n",
       "                                                                                   &#x27;api&#x27;,\n",
       "                                                                                   &#x27;basic&#x27;,\n",
       "                                                                                   &#x27;best&#x27;,\n",
       "                                                                                   &#x27;callingprs&#x27;,\n",
       "                                                                                   &#x27;changed&#x27;,\n",
       "                                                                                   &#x27;choose&#x27;,\n",
       "                                                                                   &#x27;clean&#x27;,\n",
       "                                                                                   &#x27;cleanup&#x27;,\n",
       "                                                                                   &#x27;comment&#x27;,\n",
       "                                                                                   &#x27;condition&#x27;,\n",
       "                                                                                   &#x27;data&#x27;,\n",
       "                                                                                   &#x27;download&#x27;,\n",
       "                                                                                   &#x27;engineering&#x27;,\n",
       "                                                                                   &#x27;entrypoint&#x27;,\n",
       "                                                                                   &#x27;feature&#x27;,\n",
       "                                                                                   &#x27;fix&#x27;,\n",
       "                                                                                   &#x27;fixed&#x27;,\n",
       "                                                                                   &#x27;functionality&#x27;,\n",
       "                                                                                   &#x27;github&#x27;,\n",
       "                                                                                   &#x27;inference&#x27;,\n",
       "                                                                                   &#x27;inputs&#x27;,\n",
       "                                                                                   &#x27;merge&#x27;,\n",
       "                                                                                   &#x27;mode&#x27;,\n",
       "                                                                                   &#x27;model&#x27;,\n",
       "                                                                                   &#x27;modes&#x27;,\n",
       "                                                                                   &#x27;new&#x27;,\n",
       "                                                                                   &#x27;notebook&#x27;,\n",
       "                                                                                   &#x27;notebook3&#x27;, ...]),\n",
       "                                                  [&#x27;title&#x27;])])),\n",
       "                (&#x27;scale&#x27;, PowerTransformer()), (&#x27;rf&#x27;, GaussianNB())])</pre><b>In a Jupyter environment, please rerun this cell to show the HTML representation or trust the notebook. <br />On GitHub, the HTML representation is unable to render, please try loading this page with nbviewer.org.</b></div><div class=\"sk-container\" hidden><div class=\"sk-item sk-dashed-wrapped\"><div class=\"sk-label-container\"><div class=\"sk-label sk-toggleable\"><input class=\"sk-toggleable__control sk-hidden--visually\" id=\"sk-estimator-id-1\" type=\"checkbox\" ><label for=\"sk-estimator-id-1\" class=\"sk-toggleable__label sk-toggleable__label-arrow\">Pipeline</label><div class=\"sk-toggleable__content\"><pre>Pipeline(steps=[(&#x27;extract_features&#x27;,\n",
       "                 ColumnTransformer(transformers=[(&#x27;pr_size&#x27;,\n",
       "                                                  OrdinalEncoder(categories=[[&#x27;XS&#x27;,\n",
       "                                                                              &#x27;S&#x27;,\n",
       "                                                                              &#x27;M&#x27;,\n",
       "                                                                              &#x27;L&#x27;,\n",
       "                                                                              &#x27;XL&#x27;,\n",
       "                                                                              &#x27;XXL&#x27;]]),\n",
       "                                                  [&#x27;size&#x27;]),\n",
       "                                                 (&#x27;created_at_details&#x27;,\n",
       "                                                  DateTimeDetailsTransformer(),\n",
       "                                                  [&#x27;created_at&#x27;]),\n",
       "                                                 (&#x27;n_changed_files&#x27;,\n",
       "                                                  NumChangedFilesTransformer(),\n",
       "                                                  [&#x27;changed_files_number&#x27;]),\n",
       "                                                 (&#x27;body_size&#x27;,\n",
       "                                                  StringLenTransformer(),\n",
       "                                                  [&#x27;body&#x27;]),\n",
       "                                                 (&#x27;n_commits&#x27;, &#x27;p...\n",
       "                                                  TitleWordCountTransformer(words=[&#x27;action&#x27;,\n",
       "                                                                                   &#x27;add&#x27;,\n",
       "                                                                                   &#x27;api&#x27;,\n",
       "                                                                                   &#x27;basic&#x27;,\n",
       "                                                                                   &#x27;best&#x27;,\n",
       "                                                                                   &#x27;callingprs&#x27;,\n",
       "                                                                                   &#x27;changed&#x27;,\n",
       "                                                                                   &#x27;choose&#x27;,\n",
       "                                                                                   &#x27;clean&#x27;,\n",
       "                                                                                   &#x27;cleanup&#x27;,\n",
       "                                                                                   &#x27;comment&#x27;,\n",
       "                                                                                   &#x27;condition&#x27;,\n",
       "                                                                                   &#x27;data&#x27;,\n",
       "                                                                                   &#x27;download&#x27;,\n",
       "                                                                                   &#x27;engineering&#x27;,\n",
       "                                                                                   &#x27;entrypoint&#x27;,\n",
       "                                                                                   &#x27;feature&#x27;,\n",
       "                                                                                   &#x27;fix&#x27;,\n",
       "                                                                                   &#x27;fixed&#x27;,\n",
       "                                                                                   &#x27;functionality&#x27;,\n",
       "                                                                                   &#x27;github&#x27;,\n",
       "                                                                                   &#x27;inference&#x27;,\n",
       "                                                                                   &#x27;inputs&#x27;,\n",
       "                                                                                   &#x27;merge&#x27;,\n",
       "                                                                                   &#x27;mode&#x27;,\n",
       "                                                                                   &#x27;model&#x27;,\n",
       "                                                                                   &#x27;modes&#x27;,\n",
       "                                                                                   &#x27;new&#x27;,\n",
       "                                                                                   &#x27;notebook&#x27;,\n",
       "                                                                                   &#x27;notebook3&#x27;, ...]),\n",
       "                                                  [&#x27;title&#x27;])])),\n",
       "                (&#x27;scale&#x27;, PowerTransformer()), (&#x27;rf&#x27;, GaussianNB())])</pre></div></div></div><div class=\"sk-serial\"><div class=\"sk-item sk-dashed-wrapped\"><div class=\"sk-label-container\"><div class=\"sk-label sk-toggleable\"><input class=\"sk-toggleable__control sk-hidden--visually\" id=\"sk-estimator-id-2\" type=\"checkbox\" ><label for=\"sk-estimator-id-2\" class=\"sk-toggleable__label sk-toggleable__label-arrow\">extract_features: ColumnTransformer</label><div class=\"sk-toggleable__content\"><pre>ColumnTransformer(transformers=[(&#x27;pr_size&#x27;,\n",
       "                                 OrdinalEncoder(categories=[[&#x27;XS&#x27;, &#x27;S&#x27;, &#x27;M&#x27;,\n",
       "                                                             &#x27;L&#x27;, &#x27;XL&#x27;,\n",
       "                                                             &#x27;XXL&#x27;]]),\n",
       "                                 [&#x27;size&#x27;]),\n",
       "                                (&#x27;created_at_details&#x27;,\n",
       "                                 DateTimeDetailsTransformer(), [&#x27;created_at&#x27;]),\n",
       "                                (&#x27;n_changed_files&#x27;,\n",
       "                                 NumChangedFilesTransformer(),\n",
       "                                 [&#x27;changed_files_number&#x27;]),\n",
       "                                (&#x27;body_size&#x27;, StringLenTransformer(), [&#x27;body&#x27;]),\n",
       "                                (&#x27;n_commits&#x27;, &#x27;passthrough&#x27;,\n",
       "                                 [&#x27;commits_number&#x27;]),\n",
       "                                (&#x27;fi...\n",
       "                                (&#x27;title_word_counter&#x27;,\n",
       "                                 TitleWordCountTransformer(words=[&#x27;action&#x27;,\n",
       "                                                                  &#x27;add&#x27;, &#x27;api&#x27;,\n",
       "                                                                  &#x27;basic&#x27;,\n",
       "                                                                  &#x27;best&#x27;,\n",
       "                                                                  &#x27;callingprs&#x27;,\n",
       "                                                                  &#x27;changed&#x27;,\n",
       "                                                                  &#x27;choose&#x27;,\n",
       "                                                                  &#x27;clean&#x27;,\n",
       "                                                                  &#x27;cleanup&#x27;,\n",
       "                                                                  &#x27;comment&#x27;,\n",
       "                                                                  &#x27;condition&#x27;,\n",
       "                                                                  &#x27;data&#x27;,\n",
       "                                                                  &#x27;download&#x27;,\n",
       "                                                                  &#x27;engineering&#x27;,\n",
       "                                                                  &#x27;entrypoint&#x27;,\n",
       "                                                                  &#x27;feature&#x27;,\n",
       "                                                                  &#x27;fix&#x27;,\n",
       "                                                                  &#x27;fixed&#x27;,\n",
       "                                                                  &#x27;functionality&#x27;,\n",
       "                                                                  &#x27;github&#x27;,\n",
       "                                                                  &#x27;inference&#x27;,\n",
       "                                                                  &#x27;inputs&#x27;,\n",
       "                                                                  &#x27;merge&#x27;,\n",
       "                                                                  &#x27;mode&#x27;,\n",
       "                                                                  &#x27;model&#x27;,\n",
       "                                                                  &#x27;modes&#x27;,\n",
       "                                                                  &#x27;new&#x27;,\n",
       "                                                                  &#x27;notebook&#x27;,\n",
       "                                                                  &#x27;notebook3&#x27;, ...]),\n",
       "                                 [&#x27;title&#x27;])])</pre></div></div></div><div class=\"sk-parallel\"><div class=\"sk-parallel-item\"><div class=\"sk-item\"><div class=\"sk-label-container\"><div class=\"sk-label sk-toggleable\"><input class=\"sk-toggleable__control sk-hidden--visually\" id=\"sk-estimator-id-3\" type=\"checkbox\" ><label for=\"sk-estimator-id-3\" class=\"sk-toggleable__label sk-toggleable__label-arrow\">pr_size</label><div class=\"sk-toggleable__content\"><pre>[&#x27;size&#x27;]</pre></div></div></div><div class=\"sk-serial\"><div class=\"sk-item\"><div class=\"sk-estimator sk-toggleable\"><input class=\"sk-toggleable__control sk-hidden--visually\" id=\"sk-estimator-id-4\" type=\"checkbox\" ><label for=\"sk-estimator-id-4\" class=\"sk-toggleable__label sk-toggleable__label-arrow\">OrdinalEncoder</label><div class=\"sk-toggleable__content\"><pre>OrdinalEncoder(categories=[[&#x27;XS&#x27;, &#x27;S&#x27;, &#x27;M&#x27;, &#x27;L&#x27;, &#x27;XL&#x27;, &#x27;XXL&#x27;]])</pre></div></div></div></div></div></div><div class=\"sk-parallel-item\"><div class=\"sk-item\"><div class=\"sk-label-container\"><div class=\"sk-label sk-toggleable\"><input class=\"sk-toggleable__control sk-hidden--visually\" id=\"sk-estimator-id-5\" type=\"checkbox\" ><label for=\"sk-estimator-id-5\" class=\"sk-toggleable__label sk-toggleable__label-arrow\">created_at_details</label><div class=\"sk-toggleable__content\"><pre>[&#x27;created_at&#x27;]</pre></div></div></div><div class=\"sk-serial\"><div class=\"sk-item\"><div class=\"sk-estimator sk-toggleable\"><input class=\"sk-toggleable__control sk-hidden--visually\" id=\"sk-estimator-id-6\" type=\"checkbox\" ><label for=\"sk-estimator-id-6\" class=\"sk-toggleable__label sk-toggleable__label-arrow\">DateTimeDetailsTransformer</label><div class=\"sk-toggleable__content\"><pre>DateTimeDetailsTransformer()</pre></div></div></div></div></div></div><div class=\"sk-parallel-item\"><div class=\"sk-item\"><div class=\"sk-label-container\"><div class=\"sk-label sk-toggleable\"><input class=\"sk-toggleable__control sk-hidden--visually\" id=\"sk-estimator-id-7\" type=\"checkbox\" ><label for=\"sk-estimator-id-7\" class=\"sk-toggleable__label sk-toggleable__label-arrow\">n_changed_files</label><div class=\"sk-toggleable__content\"><pre>[&#x27;changed_files_number&#x27;]</pre></div></div></div><div class=\"sk-serial\"><div class=\"sk-item\"><div class=\"sk-estimator sk-toggleable\"><input class=\"sk-toggleable__control sk-hidden--visually\" id=\"sk-estimator-id-8\" type=\"checkbox\" ><label for=\"sk-estimator-id-8\" class=\"sk-toggleable__label sk-toggleable__label-arrow\">NumChangedFilesTransformer</label><div class=\"sk-toggleable__content\"><pre>NumChangedFilesTransformer()</pre></div></div></div></div></div></div><div class=\"sk-parallel-item\"><div class=\"sk-item\"><div class=\"sk-label-container\"><div class=\"sk-label sk-toggleable\"><input class=\"sk-toggleable__control sk-hidden--visually\" id=\"sk-estimator-id-9\" type=\"checkbox\" ><label for=\"sk-estimator-id-9\" class=\"sk-toggleable__label sk-toggleable__label-arrow\">body_size</label><div class=\"sk-toggleable__content\"><pre>[&#x27;body&#x27;]</pre></div></div></div><div class=\"sk-serial\"><div class=\"sk-item\"><div class=\"sk-estimator sk-toggleable\"><input class=\"sk-toggleable__control sk-hidden--visually\" id=\"sk-estimator-id-10\" type=\"checkbox\" ><label for=\"sk-estimator-id-10\" class=\"sk-toggleable__label sk-toggleable__label-arrow\">StringLenTransformer</label><div class=\"sk-toggleable__content\"><pre>StringLenTransformer()</pre></div></div></div></div></div></div><div class=\"sk-parallel-item\"><div class=\"sk-item\"><div class=\"sk-label-container\"><div class=\"sk-label sk-toggleable\"><input class=\"sk-toggleable__control sk-hidden--visually\" id=\"sk-estimator-id-11\" type=\"checkbox\" ><label for=\"sk-estimator-id-11\" class=\"sk-toggleable__label sk-toggleable__label-arrow\">n_commits</label><div class=\"sk-toggleable__content\"><pre>[&#x27;commits_number&#x27;]</pre></div></div></div><div class=\"sk-serial\"><div class=\"sk-item\"><div class=\"sk-estimator sk-toggleable\"><input class=\"sk-toggleable__control sk-hidden--visually\" id=\"sk-estimator-id-12\" type=\"checkbox\" ><label for=\"sk-estimator-id-12\" class=\"sk-toggleable__label sk-toggleable__label-arrow\">passthrough</label><div class=\"sk-toggleable__content\"><pre>passthrough</pre></div></div></div></div></div></div><div class=\"sk-parallel-item\"><div class=\"sk-item\"><div class=\"sk-label-container\"><div class=\"sk-label sk-toggleable\"><input class=\"sk-toggleable__control sk-hidden--visually\" id=\"sk-estimator-id-13\" type=\"checkbox\" ><label for=\"sk-estimator-id-13\" class=\"sk-toggleable__label sk-toggleable__label-arrow\">filetype_counter</label><div class=\"sk-toggleable__content\"><pre>[&#x27;changed_files&#x27;]</pre></div></div></div><div class=\"sk-serial\"><div class=\"sk-item\"><div class=\"sk-estimator sk-toggleable\"><input class=\"sk-toggleable__control sk-hidden--visually\" id=\"sk-estimator-id-14\" type=\"checkbox\" ><label for=\"sk-estimator-id-14\" class=\"sk-toggleable__label sk-toggleable__label-arrow\">FileTypeCountTransformer</label><div class=\"sk-toggleable__content\"><pre>FileTypeCountTransformer(file_extensions=[&#x27;.ipynb&#x27;, &#x27;.yaml&#x27;, &#x27;.py&#x27;, &#x27;.sh&#x27;,\n",
       "                                          &#x27;.yml&#x27;, &#x27;.txt&#x27;, &#x27;.md&#x27;, &#x27;LICENSE&#x27;,\n",
       "                                          &#x27;Dockerfile&#x27;, &#x27;Containerfile&#x27;])</pre></div></div></div></div></div></div><div class=\"sk-parallel-item\"><div class=\"sk-item\"><div class=\"sk-label-container\"><div class=\"sk-label sk-toggleable\"><input class=\"sk-toggleable__control sk-hidden--visually\" id=\"sk-estimator-id-15\" type=\"checkbox\" ><label for=\"sk-estimator-id-15\" class=\"sk-toggleable__label sk-toggleable__label-arrow\">title_word_counter</label><div class=\"sk-toggleable__content\"><pre>[&#x27;title&#x27;]</pre></div></div></div><div class=\"sk-serial\"><div class=\"sk-item\"><div class=\"sk-estimator sk-toggleable\"><input class=\"sk-toggleable__control sk-hidden--visually\" id=\"sk-estimator-id-16\" type=\"checkbox\" ><label for=\"sk-estimator-id-16\" class=\"sk-toggleable__label sk-toggleable__label-arrow\">TitleWordCountTransformer</label><div class=\"sk-toggleable__content\"><pre>TitleWordCountTransformer(words=[&#x27;action&#x27;, &#x27;add&#x27;, &#x27;api&#x27;, &#x27;basic&#x27;, &#x27;best&#x27;,\n",
       "                                 &#x27;callingprs&#x27;, &#x27;changed&#x27;, &#x27;choose&#x27;, &#x27;clean&#x27;,\n",
       "                                 &#x27;cleanup&#x27;, &#x27;comment&#x27;, &#x27;condition&#x27;, &#x27;data&#x27;,\n",
       "                                 &#x27;download&#x27;, &#x27;engineering&#x27;, &#x27;entrypoint&#x27;,\n",
       "                                 &#x27;feature&#x27;, &#x27;fix&#x27;, &#x27;fixed&#x27;, &#x27;functionality&#x27;,\n",
       "                                 &#x27;github&#x27;, &#x27;inference&#x27;, &#x27;inputs&#x27;, &#x27;merge&#x27;,\n",
       "                                 &#x27;mode&#x27;, &#x27;model&#x27;, &#x27;modes&#x27;, &#x27;new&#x27;, &#x27;notebook&#x27;,\n",
       "                                 &#x27;notebook3&#x27;, ...])</pre></div></div></div></div></div></div></div></div><div class=\"sk-item\"><div class=\"sk-estimator sk-toggleable\"><input class=\"sk-toggleable__control sk-hidden--visually\" id=\"sk-estimator-id-17\" type=\"checkbox\" ><label for=\"sk-estimator-id-17\" class=\"sk-toggleable__label sk-toggleable__label-arrow\">PowerTransformer</label><div class=\"sk-toggleable__content\"><pre>PowerTransformer()</pre></div></div></div><div class=\"sk-item\"><div class=\"sk-estimator sk-toggleable\"><input class=\"sk-toggleable__control sk-hidden--visually\" id=\"sk-estimator-id-18\" type=\"checkbox\" ><label for=\"sk-estimator-id-18\" class=\"sk-toggleable__label sk-toggleable__label-arrow\">GaussianNB</label><div class=\"sk-toggleable__content\"><pre>GaussianNB()</pre></div></div></div></div></div></div></div>"
      ],
      "text/plain": [
       "Pipeline(steps=[('extract_features',\n",
       "                 ColumnTransformer(transformers=[('pr_size',\n",
       "                                                  OrdinalEncoder(categories=[['XS',\n",
       "                                                                              'S',\n",
       "                                                                              'M',\n",
       "                                                                              'L',\n",
       "                                                                              'XL',\n",
       "                                                                              'XXL']]),\n",
       "                                                  ['size']),\n",
       "                                                 ('created_at_details',\n",
       "                                                  DateTimeDetailsTransformer(),\n",
       "                                                  ['created_at']),\n",
       "                                                 ('n_changed_files',\n",
       "                                                  NumChangedFilesTransformer(),\n",
       "                                                  ['changed_files_number']),\n",
       "                                                 ('body_size',\n",
       "                                                  StringLenTransformer(),\n",
       "                                                  ['body']),\n",
       "                                                 ('n_commits', 'p...\n",
       "                                                  TitleWordCountTransformer(words=['action',\n",
       "                                                                                   'add',\n",
       "                                                                                   'api',\n",
       "                                                                                   'basic',\n",
       "                                                                                   'best',\n",
       "                                                                                   'callingprs',\n",
       "                                                                                   'changed',\n",
       "                                                                                   'choose',\n",
       "                                                                                   'clean',\n",
       "                                                                                   'cleanup',\n",
       "                                                                                   'comment',\n",
       "                                                                                   'condition',\n",
       "                                                                                   'data',\n",
       "                                                                                   'download',\n",
       "                                                                                   'engineering',\n",
       "                                                                                   'entrypoint',\n",
       "                                                                                   'feature',\n",
       "                                                                                   'fix',\n",
       "                                                                                   'fixed',\n",
       "                                                                                   'functionality',\n",
       "                                                                                   'github',\n",
       "                                                                                   'inference',\n",
       "                                                                                   'inputs',\n",
       "                                                                                   'merge',\n",
       "                                                                                   'mode',\n",
       "                                                                                   'model',\n",
       "                                                                                   'modes',\n",
       "                                                                                   'new',\n",
       "                                                                                   'notebook',\n",
       "                                                                                   'notebook3', ...]),\n",
       "                                                  ['title'])])),\n",
       "                ('scale', PowerTransformer()), ('rf', GaussianNB())])"
      ]
     },
     "execution_count": 5,
     "metadata": {},
     "output_type": "execute_result"
    }
   ],
   "source": [
    "## read model\n",
    "MODEL_KEY = os.path.join(s3_input_data_path, ORG, REPO, \"ttm-model\")\n",
    "MODEL_FILENAME = \"model.joblib\"\n",
    "\n",
    "\n",
    "s3_resource = boto3.resource(\n",
    "    \"s3\",\n",
    "    endpoint_url=s3_endpoint_url,\n",
    "    aws_access_key_id=s3_access_key,\n",
    "    aws_secret_access_key=s3_secret_key,\n",
    ")\n",
    "\n",
    "buffer = BytesIO()\n",
    "s3_object = s3_resource.Object(s3_bucket, f\"{MODEL_KEY}/{MODEL_FILENAME}\")\n",
    "s3_object.download_fileobj(buffer)\n",
    "model = joblib.load(buffer)\n",
    "model"
   ]
  },
  {
   "cell_type": "code",
   "execution_count": 6,
   "id": "7c1ec213",
   "metadata": {
    "execution": {
     "iopub.execute_input": "2022-12-07T15:29:14.020672Z",
     "iopub.status.busy": "2022-12-07T15:29:14.020108Z",
     "iopub.status.idle": "2022-12-07T15:29:14.479219Z",
     "shell.execute_reply": "2022-12-07T15:29:14.478520Z"
    }
   },
   "outputs": [],
   "source": [
    "labels = cc.read_from_ceph(MODEL_KEY, \"label-map\")"
   ]
  },
  {
   "cell_type": "code",
   "execution_count": 7,
   "id": "49821583",
   "metadata": {
    "execution": {
     "iopub.execute_input": "2022-12-07T15:29:14.483436Z",
     "iopub.status.busy": "2022-12-07T15:29:14.482880Z",
     "iopub.status.idle": "2022-12-07T15:29:14.534395Z",
     "shell.execute_reply": "2022-12-07T15:29:14.533501Z"
    }
   },
   "outputs": [
    {
     "name": "stdout",
     "output_type": "stream",
     "text": [
      "This PR is predicted to merge in the time frame ['9:57:00 - 20:13:00'](h:m:s) by our model.\n"
     ]
    }
   ],
   "source": [
    "prediction = model.predict(pr_df)\n",
    "label = labels[labels[\"Class_Label\"] == prediction[0]][\"Class_Name\"].values\n",
    "if ACTION:\n",
    "    pr = repo.get_pull(pr_ids[0].number)\n",
    "    pr.create_issue_comment(f\"This PR is predicted to merge in the time frame {label}(h:m:s) by our model.\")\n",
    "else:\n",
    "    print(f\"This PR is predicted to merge in the time frame {label}(h:m:s) by our model.\")\n"
   ]
  },
  {
   "cell_type": "markdown",
   "id": "0b3d3e60-469e-4dd9-aed9-853c05b76ba8",
   "metadata": {},
   "source": [
    "# Conclusion\n",
    "\n",
    "This notebook fetches the saved model from s3 and sends a payload to see how the model is performing on this new data. Additionally, we see that the evaluation scores in the classification report match the ones we saw in the training notebook. So, great, looks like our model are working as expected, and are ready to predict some times to merge for GitHub PRs! "
   ]
  }
 ],
 "metadata": {
  "kernelspec": {
   "display_name": "Python 3 (ipykernel)",
   "language": "python",
   "name": "python3"
  },
  "language_info": {
   "codemirror_mode": {
    "name": "ipython",
    "version": 3
   },
   "file_extension": ".py",
   "mimetype": "text/x-python",
   "name": "python",
   "nbconvert_exporter": "python",
   "pygments_lexer": "ipython3",
   "version": "3.8.8"
  },
  "vscode": {
   "interpreter": {
    "hash": "675feb49d8b9f57a6c7838bbe31323f9ec5521e61f1f5118c23cd9b0b9101d34"
   }
  }
 },
 "nbformat": 4,
 "nbformat_minor": 5
}
