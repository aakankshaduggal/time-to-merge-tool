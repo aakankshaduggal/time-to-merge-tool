{
 "cells": [
  {
   "cell_type": "markdown",
   "id": "6a8d0182",
   "metadata": {
    "tags": []
   },
   "source": [
    "# Feature engineering on extracted Pull Requests data\n",
    "\n",
    "\n",
    "## What we did previously\n",
    "\n",
    "In the previous step, we collected data from a Github repository of choice and store them on S3 storage\n",
    "\n",
    "## In this step\n",
    "\n",
    "In this notebook we will walk through how to start analyzing the PR data collected from a Github repository.\n",
    "\n",
    "We explore the various fields in the PR dataset and the features that we can derive from them in order to frame an a Machine Learning where we predict the time taken to merge a PR."
   ]
  },
  {
   "cell_type": "code",
   "execution_count": 1,
   "id": "dfe11a56",
   "metadata": {
    "execution": {
     "iopub.execute_input": "2022-12-07T15:27:37.636067Z",
     "iopub.status.busy": "2022-12-07T15:27:37.633347Z",
     "iopub.status.idle": "2022-12-07T15:27:39.674758Z",
     "shell.execute_reply": "2022-12-07T15:27:39.673976Z"
    }
   },
   "outputs": [],
   "source": [
    "import os\n",
    "import re\n",
    "import gzip\n",
    "import json\n",
    "import boto3\n",
    "import pathlib\n",
    "import datetime\n",
    "from tqdm import tqdm\n",
    "from io import BytesIO\n",
    "from pathlib import Path\n",
    "from functools import partial\n",
    "from collections import Counter\n",
    "from github import Github\n",
    "\n",
    "import numpy as np\n",
    "import pandas as pd\n",
    "\n",
    "import matplotlib.pyplot as plt\n",
    "import seaborn as sns\n",
    "from wordcloud import STOPWORDS\n",
    "\n",
    "from sklearn.feature_selection import SelectKBest\n",
    "from sklearn.feature_selection import chi2\n",
    "from sklearn.feature_selection import mutual_info_classif, f_classif\n",
    "\n",
    "from dotenv import load_dotenv, find_dotenv\n",
    "import ceph_comm"
   ]
  },
  {
   "cell_type": "code",
   "execution_count": 2,
   "id": "9476e951",
   "metadata": {
    "execution": {
     "iopub.execute_input": "2022-12-07T15:27:39.680967Z",
     "iopub.status.busy": "2022-12-07T15:27:39.679463Z",
     "iopub.status.idle": "2022-12-07T15:27:39.696161Z",
     "shell.execute_reply": "2022-12-07T15:27:39.695466Z"
    }
   },
   "outputs": [
    {
     "data": {
      "text/plain": [
       "True"
      ]
     },
     "execution_count": 2,
     "metadata": {},
     "output_type": "execute_result"
    }
   ],
   "source": [
    "sns.set(rc={\"figure.figsize\": (20, 10)})\n",
    "load_dotenv(find_dotenv(), override=True)"
   ]
  },
  {
   "cell_type": "code",
   "execution_count": 3,
   "id": "9bc3a2c6",
   "metadata": {
    "execution": {
     "iopub.execute_input": "2022-12-07T15:27:39.704785Z",
     "iopub.status.busy": "2022-12-07T15:27:39.703421Z",
     "iopub.status.idle": "2022-12-07T15:27:39.714757Z",
     "shell.execute_reply": "2022-12-07T15:27:39.714128Z"
    }
   },
   "outputs": [],
   "source": [
    "## CEPH Bucket variables\n",
    "## Create a .env file on your local with the correct configs,\n",
    "\n",
    "ORG = os.getenv(\"GITHUB_ORG\")\n",
    "REPO = os.getenv(\"GITHUB_REPO\")\n",
    "\n",
    "## S3 bucket credentials\n",
    "s3_endpoint_url = os.getenv(\"S3_ENDPOINT_URL\")\n",
    "s3_access_key = os.getenv(\"S3_ACCESS_KEY\")\n",
    "s3_secret_key = os.getenv(\"S3_SECRET_KEY\")\n",
    "s3_bucket = os.getenv(\"S3_BUCKET\")\n",
    "\n",
    "REMOTE = os.getenv(\"REMOTE\")\n",
    "\n",
    "s3_input_data_path = os.getenv(\"CEPH_BUCKET_PREFIX\")\n",
    "\n",
    "RAW_DATA_PATH = os.path.join(s3_input_data_path, ORG, REPO)\n",
    "TOKEN = os.getenv(\"GITHUB_ACCESS_TOKEN\")"
   ]
  },
  {
   "cell_type": "code",
   "execution_count": 4,
   "id": "38f32d2b-22dc-419b-b76a-ce41e35ef58e",
   "metadata": {
    "execution": {
     "iopub.execute_input": "2022-12-07T15:27:39.720278Z",
     "iopub.status.busy": "2022-12-07T15:27:39.718601Z",
     "iopub.status.idle": "2022-12-07T15:27:45.508702Z",
     "shell.execute_reply": "2022-12-07T15:27:45.507811Z"
    }
   },
   "outputs": [],
   "source": [
    "# Collect PRs and combine them\n",
    "cc = ceph_comm.CephCommunication(s3_endpoint_url, s3_access_key, s3_secret_key, s3_bucket)\n",
    "\n",
    "# how many files of the given extension were changed in PR\n",
    "CLOSED_PR_IDS_FILENAME = os.path.join(ORG + REPO + \"CLOSED_PR_IDS.parquet\")\n",
    "CLOSED_PRS_KEY = os.path.join(s3_input_data_path, ORG, REPO, \"closed_prs\")\n",
    "PR_ID_DF = cc.read_from_ceph(CLOSED_PRS_KEY, CLOSED_PR_IDS_FILENAME)\n",
    "pr_ids = list(PR_ID_DF['closed_pr_ids'])\n",
    "\n",
    "REPO_PATH = os.path.join(s3_input_data_path, ORG, REPO)\n",
    "\n",
    "appended_prs = []\n",
    "for pr_id in pr_ids:\n",
    "    PR_PATH = os.path.join(REPO_PATH, \"PRs/\"+ str(pr_id) + \".json\")\n",
    "    pr = cc.get_json_from_ceph(PR_PATH)\n",
    "    appended_prs.append(pr)\n",
    "\n",
    "appended_prs = pd.concat(appended_prs)"
   ]
  },
  {
   "cell_type": "code",
   "execution_count": 5,
   "id": "115b9040-4b29-4445-b34a-3c1183707464",
   "metadata": {
    "execution": {
     "iopub.execute_input": "2022-12-07T15:27:45.513015Z",
     "iopub.status.busy": "2022-12-07T15:27:45.512445Z",
     "iopub.status.idle": "2022-12-07T15:27:45.540652Z",
     "shell.execute_reply": "2022-12-07T15:27:45.539738Z"
    }
   },
   "outputs": [
    {
     "data": {
      "text/html": [
       "<div>\n",
       "<style scoped>\n",
       "    .dataframe tbody tr th:only-of-type {\n",
       "        vertical-align: middle;\n",
       "    }\n",
       "\n",
       "    .dataframe tbody tr th {\n",
       "        vertical-align: top;\n",
       "    }\n",
       "\n",
       "    .dataframe thead th {\n",
       "        text-align: right;\n",
       "    }\n",
       "</style>\n",
       "<table border=\"1\" class=\"dataframe\">\n",
       "  <thead>\n",
       "    <tr style=\"text-align: right;\">\n",
       "      <th></th>\n",
       "      <th>title</th>\n",
       "      <th>body</th>\n",
       "      <th>size</th>\n",
       "      <th>created_by</th>\n",
       "      <th>created_at</th>\n",
       "      <th>closed_at</th>\n",
       "      <th>closed_by</th>\n",
       "      <th>merged_at</th>\n",
       "      <th>merged_by</th>\n",
       "      <th>commits_number</th>\n",
       "      <th>changed_files_number</th>\n",
       "      <th>interactions</th>\n",
       "      <th>reviews</th>\n",
       "      <th>labels</th>\n",
       "      <th>commits</th>\n",
       "      <th>changed_files</th>\n",
       "      <th>first_review_at</th>\n",
       "      <th>first_approve_at</th>\n",
       "    </tr>\n",
       "  </thead>\n",
       "  <tbody>\n",
       "    <tr>\n",
       "      <th>0</th>\n",
       "      <td>update inference output text</td>\n",
       "      <td>Updated `03_model_training.ipynb` to create a ...</td>\n",
       "      <td>XXL</td>\n",
       "      <td>MichaelClifford</td>\n",
       "      <td>1670362761</td>\n",
       "      <td>1670426174</td>\n",
       "      <td>MichaelClifford</td>\n",
       "      <td>1670426174</td>\n",
       "      <td>MichaelClifford</td>\n",
       "      <td>1</td>\n",
       "      <td>2</td>\n",
       "      <td>{'github-actions[bot]': 20, 'MichaelClifford':...</td>\n",
       "      <td>{'1207369509': {'author': 'oindrillac', 'words...</td>\n",
       "      <td>[]</td>\n",
       "      <td>[e2bfe03be2fae4095ec22c604c876ae53c4f4c4a]</td>\n",
       "      <td>[03_model_training.ipynb, 04_model_inference.i...</td>\n",
       "      <td>1670362850</td>\n",
       "      <td>1670367056</td>\n",
       "    </tr>\n",
       "    <tr>\n",
       "      <th>0</th>\n",
       "      <td>Update inference.yaml.</td>\n",
       "      <td>test</td>\n",
       "      <td>S</td>\n",
       "      <td>aakankshaduggal</td>\n",
       "      <td>1670273067</td>\n",
       "      <td>1670276461</td>\n",
       "      <td>MichaelClifford</td>\n",
       "      <td>1670276461</td>\n",
       "      <td>MichaelClifford</td>\n",
       "      <td>4</td>\n",
       "      <td>2</td>\n",
       "      <td>{'github-actions[bot]': 40}</td>\n",
       "      <td>{'1205314017': {'author': 'MichaelClifford', '...</td>\n",
       "      <td>[]</td>\n",
       "      <td>[1a92e5f7feba314360bffc318d88d89e6decb4b0, 57a...</td>\n",
       "      <td>[.github/workflows/inference.yaml, action.yml]</td>\n",
       "      <td>1670275829</td>\n",
       "      <td>1670275829</td>\n",
       "    </tr>\n",
       "    <tr>\n",
       "      <th>0</th>\n",
       "      <td>testing 'on PR' functionality. Do Not Merge</td>\n",
       "      <td>:wave:</td>\n",
       "      <td>XS</td>\n",
       "      <td>MichaelClifford</td>\n",
       "      <td>1670272320</td>\n",
       "      <td>1670276415</td>\n",
       "      <td>MichaelClifford</td>\n",
       "      <td>None</td>\n",
       "      <td>None</td>\n",
       "      <td>1</td>\n",
       "      <td>1</td>\n",
       "      <td>{'github-actions[bot]': 10}</td>\n",
       "      <td>{}</td>\n",
       "      <td>[]</td>\n",
       "      <td>[24c6e24399b482bf9f4e7cd5bd94ed418ca919e3]</td>\n",
       "      <td>[test_file.txt]</td>\n",
       "      <td>None</td>\n",
       "      <td>None</td>\n",
       "    </tr>\n",
       "    <tr>\n",
       "      <th>0</th>\n",
       "      <td>Add `with: MODE` functionality</td>\n",
       "      <td>Addresses #32</td>\n",
       "      <td>S</td>\n",
       "      <td>aakankshaduggal</td>\n",
       "      <td>1670259791</td>\n",
       "      <td>1670273808</td>\n",
       "      <td>aakankshaduggal</td>\n",
       "      <td>None</td>\n",
       "      <td>None</td>\n",
       "      <td>3</td>\n",
       "      <td>2</td>\n",
       "      <td>{'github-actions[bot]': 10}</td>\n",
       "      <td>{}</td>\n",
       "      <td>[]</td>\n",
       "      <td>[b00830414636895c2790219c0a4b8b6fb812b44f, 705...</td>\n",
       "      <td>[.github/workflows/inference.yaml, action.yml]</td>\n",
       "      <td>None</td>\n",
       "      <td>None</td>\n",
       "    </tr>\n",
       "    <tr>\n",
       "      <th>0</th>\n",
       "      <td>fix how inference was callingPRs</td>\n",
       "      <td>There was a bug in how the inference notebook ...</td>\n",
       "      <td>L</td>\n",
       "      <td>MichaelClifford</td>\n",
       "      <td>1669906871</td>\n",
       "      <td>1669907261</td>\n",
       "      <td>aakankshaduggal</td>\n",
       "      <td>1669907261</td>\n",
       "      <td>aakankshaduggal</td>\n",
       "      <td>1</td>\n",
       "      <td>1</td>\n",
       "      <td>{}</td>\n",
       "      <td>{'1201160046': {'author': 'oindrillac', 'words...</td>\n",
       "      <td>[]</td>\n",
       "      <td>[f8d860b1f6f4cf770293e5d377bb2bb37b996102]</td>\n",
       "      <td>[04_model_inference.ipynb]</td>\n",
       "      <td>1669907047</td>\n",
       "      <td>1669907047</td>\n",
       "    </tr>\n",
       "  </tbody>\n",
       "</table>\n",
       "</div>"
      ],
      "text/plain": [
       "                                         title  \\\n",
       "0                 update inference output text   \n",
       "0                      Update inference.yaml.    \n",
       "0  testing 'on PR' functionality. Do Not Merge   \n",
       "0              Add `with: MODE` functionality    \n",
       "0             fix how inference was callingPRs   \n",
       "\n",
       "                                                body size       created_by  \\\n",
       "0  Updated `03_model_training.ipynb` to create a ...  XXL  MichaelClifford   \n",
       "0                                              test     S  aakankshaduggal   \n",
       "0                                            :wave:    XS  MichaelClifford   \n",
       "0                                     Addresses #32     S  aakankshaduggal   \n",
       "0  There was a bug in how the inference notebook ...    L  MichaelClifford   \n",
       "\n",
       "   created_at   closed_at        closed_by   merged_at        merged_by  \\\n",
       "0  1670362761  1670426174  MichaelClifford  1670426174  MichaelClifford   \n",
       "0  1670273067  1670276461  MichaelClifford  1670276461  MichaelClifford   \n",
       "0  1670272320  1670276415  MichaelClifford        None             None   \n",
       "0  1670259791  1670273808  aakankshaduggal        None             None   \n",
       "0  1669906871  1669907261  aakankshaduggal  1669907261  aakankshaduggal   \n",
       "\n",
       "   commits_number  changed_files_number  \\\n",
       "0               1                     2   \n",
       "0               4                     2   \n",
       "0               1                     1   \n",
       "0               3                     2   \n",
       "0               1                     1   \n",
       "\n",
       "                                        interactions  \\\n",
       "0  {'github-actions[bot]': 20, 'MichaelClifford':...   \n",
       "0                        {'github-actions[bot]': 40}   \n",
       "0                        {'github-actions[bot]': 10}   \n",
       "0                        {'github-actions[bot]': 10}   \n",
       "0                                                 {}   \n",
       "\n",
       "                                             reviews labels  \\\n",
       "0  {'1207369509': {'author': 'oindrillac', 'words...     []   \n",
       "0  {'1205314017': {'author': 'MichaelClifford', '...     []   \n",
       "0                                                 {}     []   \n",
       "0                                                 {}     []   \n",
       "0  {'1201160046': {'author': 'oindrillac', 'words...     []   \n",
       "\n",
       "                                             commits  \\\n",
       "0         [e2bfe03be2fae4095ec22c604c876ae53c4f4c4a]   \n",
       "0  [1a92e5f7feba314360bffc318d88d89e6decb4b0, 57a...   \n",
       "0         [24c6e24399b482bf9f4e7cd5bd94ed418ca919e3]   \n",
       "0  [b00830414636895c2790219c0a4b8b6fb812b44f, 705...   \n",
       "0         [f8d860b1f6f4cf770293e5d377bb2bb37b996102]   \n",
       "\n",
       "                                       changed_files first_review_at  \\\n",
       "0  [03_model_training.ipynb, 04_model_inference.i...      1670362850   \n",
       "0     [.github/workflows/inference.yaml, action.yml]      1670275829   \n",
       "0                                    [test_file.txt]            None   \n",
       "0     [.github/workflows/inference.yaml, action.yml]            None   \n",
       "0                         [04_model_inference.ipynb]      1669907047   \n",
       "\n",
       "  first_approve_at  \n",
       "0       1670367056  \n",
       "0       1670275829  \n",
       "0             None  \n",
       "0             None  \n",
       "0       1669907047  "
      ]
     },
     "execution_count": 5,
     "metadata": {},
     "output_type": "execute_result"
    }
   ],
   "source": [
    "appended_prs.head()"
   ]
  },
  {
   "cell_type": "code",
   "execution_count": 6,
   "id": "d02d7136-2bb4-4ec8-903c-315afb22c524",
   "metadata": {
    "execution": {
     "iopub.execute_input": "2022-12-07T15:27:45.544647Z",
     "iopub.status.busy": "2022-12-07T15:27:45.543991Z",
     "iopub.status.idle": "2022-12-07T15:27:45.928742Z",
     "shell.execute_reply": "2022-12-07T15:27:45.927644Z"
    }
   },
   "outputs": [
    {
     "data": {
      "text/plain": [
       "{'ResponseMetadata': {'RequestId': 'lbdt0yim-auwjbg-off',\n",
       "  'HostId': 'lbdt0yim-auwjbg-off',\n",
       "  'HTTPStatusCode': 200,\n",
       "  'HTTPHeaders': {'x-amz-request-id': 'lbdt0yim-auwjbg-off',\n",
       "   'x-amz-id-2': 'lbdt0yim-auwjbg-off',\n",
       "   'access-control-allow-origin': '*',\n",
       "   'access-control-allow-credentials': 'true',\n",
       "   'access-control-allow-methods': 'GET,POST,PUT,DELETE,OPTIONS',\n",
       "   'access-control-allow-headers': 'Content-Type,Content-MD5,Authorization,X-Amz-User-Agent,X-Amz-Date,ETag,X-Amz-Content-Sha256',\n",
       "   'access-control-expose-headers': 'ETag,X-Amz-Version-Id',\n",
       "   'etag': '\"f9e31c14d53d2aca9fcb24c1b7ce5f11\"',\n",
       "   'date': 'Wed, 07 Dec 2022 15:27:45 GMT',\n",
       "   'keep-alive': 'timeout=5',\n",
       "   'content-length': '0',\n",
       "   'set-cookie': '1a4aa612fe797ac8466d7ee00e5520d5=b9a4e3efe932781180a9a8945a639f83; path=/; HttpOnly; Secure; SameSite=None'},\n",
       "  'RetryAttempts': 0},\n",
       " 'ETag': '\"f9e31c14d53d2aca9fcb24c1b7ce5f11\"'}"
      ]
     },
     "execution_count": 6,
     "metadata": {},
     "output_type": "execute_result"
    }
   ],
   "source": [
    "cc.upload_to_ceph_as_json(appended_prs, RAW_DATA_PATH, \"PullRequest.json\")"
   ]
  },
  {
   "cell_type": "code",
   "execution_count": 7,
   "id": "4d1b0d9f",
   "metadata": {
    "execution": {
     "iopub.execute_input": "2022-12-07T15:27:45.933378Z",
     "iopub.status.busy": "2022-12-07T15:27:45.932603Z",
     "iopub.status.idle": "2022-12-07T15:27:46.161028Z",
     "shell.execute_reply": "2022-12-07T15:27:46.160055Z"
    }
   },
   "outputs": [
    {
     "name": "stdout",
     "output_type": "stream",
     "text": [
      "getting dataset from ceph\n"
     ]
    }
   ],
   "source": [
    "print(\"getting dataset from ceph\")\n",
    "pr_df = cc.get_json_from_ceph(os.path.join(RAW_DATA_PATH, \"PullRequest.json\"))"
   ]
  },
  {
   "cell_type": "code",
   "execution_count": 8,
   "id": "70c24185-4fbf-4287-98fd-c8d721ef71fa",
   "metadata": {
    "execution": {
     "iopub.execute_input": "2022-12-07T15:27:46.165146Z",
     "iopub.status.busy": "2022-12-07T15:27:46.164653Z",
     "iopub.status.idle": "2022-12-07T15:27:46.193997Z",
     "shell.execute_reply": "2022-12-07T15:27:46.193104Z"
    }
   },
   "outputs": [
    {
     "data": {
      "text/html": [
       "<div>\n",
       "<style scoped>\n",
       "    .dataframe tbody tr th:only-of-type {\n",
       "        vertical-align: middle;\n",
       "    }\n",
       "\n",
       "    .dataframe tbody tr th {\n",
       "        vertical-align: top;\n",
       "    }\n",
       "\n",
       "    .dataframe thead th {\n",
       "        text-align: right;\n",
       "    }\n",
       "</style>\n",
       "<table border=\"1\" class=\"dataframe\">\n",
       "  <thead>\n",
       "    <tr style=\"text-align: right;\">\n",
       "      <th></th>\n",
       "      <th>title</th>\n",
       "      <th>body</th>\n",
       "      <th>size</th>\n",
       "      <th>created_by</th>\n",
       "      <th>created_at</th>\n",
       "      <th>closed_at</th>\n",
       "      <th>closed_by</th>\n",
       "      <th>merged_at</th>\n",
       "      <th>merged_by</th>\n",
       "      <th>commits_number</th>\n",
       "      <th>changed_files_number</th>\n",
       "      <th>interactions</th>\n",
       "      <th>reviews</th>\n",
       "      <th>labels</th>\n",
       "      <th>commits</th>\n",
       "      <th>changed_files</th>\n",
       "      <th>first_review_at</th>\n",
       "      <th>first_approve_at</th>\n",
       "    </tr>\n",
       "  </thead>\n",
       "  <tbody>\n",
       "    <tr>\n",
       "      <th>0</th>\n",
       "      <td>update inference output text</td>\n",
       "      <td>Updated `03_model_training.ipynb` to create a ...</td>\n",
       "      <td>XXL</td>\n",
       "      <td>MichaelClifford</td>\n",
       "      <td>1670362761</td>\n",
       "      <td>1670426174</td>\n",
       "      <td>MichaelClifford</td>\n",
       "      <td>1.670426e+09</td>\n",
       "      <td>MichaelClifford</td>\n",
       "      <td>1</td>\n",
       "      <td>2</td>\n",
       "      <td>{'github-actions[bot]': 20, 'MichaelClifford':...</td>\n",
       "      <td>{'1207369509': {'author': 'oindrillac', 'words...</td>\n",
       "      <td>[]</td>\n",
       "      <td>[e2bfe03be2fae4095ec22c604c876ae53c4f4c4a]</td>\n",
       "      <td>[03_model_training.ipynb, 04_model_inference.i...</td>\n",
       "      <td>1.670363e+09</td>\n",
       "      <td>1.670367e+09</td>\n",
       "    </tr>\n",
       "    <tr>\n",
       "      <th>1</th>\n",
       "      <td>Update inference.yaml.</td>\n",
       "      <td>test</td>\n",
       "      <td>S</td>\n",
       "      <td>aakankshaduggal</td>\n",
       "      <td>1670273067</td>\n",
       "      <td>1670276461</td>\n",
       "      <td>MichaelClifford</td>\n",
       "      <td>1.670276e+09</td>\n",
       "      <td>MichaelClifford</td>\n",
       "      <td>4</td>\n",
       "      <td>2</td>\n",
       "      <td>{'github-actions[bot]': 40}</td>\n",
       "      <td>{'1205314017': {'author': 'MichaelClifford', '...</td>\n",
       "      <td>[]</td>\n",
       "      <td>[1a92e5f7feba314360bffc318d88d89e6decb4b0, 57a...</td>\n",
       "      <td>[.github/workflows/inference.yaml, action.yml]</td>\n",
       "      <td>1.670276e+09</td>\n",
       "      <td>1.670276e+09</td>\n",
       "    </tr>\n",
       "    <tr>\n",
       "      <th>2</th>\n",
       "      <td>testing 'on PR' functionality. Do Not Merge</td>\n",
       "      <td>:wave:</td>\n",
       "      <td>XS</td>\n",
       "      <td>MichaelClifford</td>\n",
       "      <td>1670272320</td>\n",
       "      <td>1670276415</td>\n",
       "      <td>MichaelClifford</td>\n",
       "      <td>NaN</td>\n",
       "      <td>None</td>\n",
       "      <td>1</td>\n",
       "      <td>1</td>\n",
       "      <td>{'github-actions[bot]': 10}</td>\n",
       "      <td>{}</td>\n",
       "      <td>[]</td>\n",
       "      <td>[24c6e24399b482bf9f4e7cd5bd94ed418ca919e3]</td>\n",
       "      <td>[test_file.txt]</td>\n",
       "      <td>NaN</td>\n",
       "      <td>NaN</td>\n",
       "    </tr>\n",
       "    <tr>\n",
       "      <th>3</th>\n",
       "      <td>Add `with: MODE` functionality</td>\n",
       "      <td>Addresses #32</td>\n",
       "      <td>S</td>\n",
       "      <td>aakankshaduggal</td>\n",
       "      <td>1670259791</td>\n",
       "      <td>1670273808</td>\n",
       "      <td>aakankshaduggal</td>\n",
       "      <td>NaN</td>\n",
       "      <td>None</td>\n",
       "      <td>3</td>\n",
       "      <td>2</td>\n",
       "      <td>{'github-actions[bot]': 10}</td>\n",
       "      <td>{}</td>\n",
       "      <td>[]</td>\n",
       "      <td>[b00830414636895c2790219c0a4b8b6fb812b44f, 705...</td>\n",
       "      <td>[.github/workflows/inference.yaml, action.yml]</td>\n",
       "      <td>NaN</td>\n",
       "      <td>NaN</td>\n",
       "    </tr>\n",
       "    <tr>\n",
       "      <th>4</th>\n",
       "      <td>fix how inference was callingPRs</td>\n",
       "      <td>There was a bug in how the inference notebook ...</td>\n",
       "      <td>L</td>\n",
       "      <td>MichaelClifford</td>\n",
       "      <td>1669906871</td>\n",
       "      <td>1669907261</td>\n",
       "      <td>aakankshaduggal</td>\n",
       "      <td>1.669907e+09</td>\n",
       "      <td>aakankshaduggal</td>\n",
       "      <td>1</td>\n",
       "      <td>1</td>\n",
       "      <td>{}</td>\n",
       "      <td>{'1201160046': {'author': 'oindrillac', 'words...</td>\n",
       "      <td>[]</td>\n",
       "      <td>[f8d860b1f6f4cf770293e5d377bb2bb37b996102]</td>\n",
       "      <td>[04_model_inference.ipynb]</td>\n",
       "      <td>1.669907e+09</td>\n",
       "      <td>1.669907e+09</td>\n",
       "    </tr>\n",
       "  </tbody>\n",
       "</table>\n",
       "</div>"
      ],
      "text/plain": [
       "                                         title  \\\n",
       "0                 update inference output text   \n",
       "1                      Update inference.yaml.    \n",
       "2  testing 'on PR' functionality. Do Not Merge   \n",
       "3              Add `with: MODE` functionality    \n",
       "4             fix how inference was callingPRs   \n",
       "\n",
       "                                                body size       created_by  \\\n",
       "0  Updated `03_model_training.ipynb` to create a ...  XXL  MichaelClifford   \n",
       "1                                              test     S  aakankshaduggal   \n",
       "2                                            :wave:    XS  MichaelClifford   \n",
       "3                                     Addresses #32     S  aakankshaduggal   \n",
       "4  There was a bug in how the inference notebook ...    L  MichaelClifford   \n",
       "\n",
       "   created_at   closed_at        closed_by     merged_at        merged_by  \\\n",
       "0  1670362761  1670426174  MichaelClifford  1.670426e+09  MichaelClifford   \n",
       "1  1670273067  1670276461  MichaelClifford  1.670276e+09  MichaelClifford   \n",
       "2  1670272320  1670276415  MichaelClifford           NaN             None   \n",
       "3  1670259791  1670273808  aakankshaduggal           NaN             None   \n",
       "4  1669906871  1669907261  aakankshaduggal  1.669907e+09  aakankshaduggal   \n",
       "\n",
       "   commits_number  changed_files_number  \\\n",
       "0               1                     2   \n",
       "1               4                     2   \n",
       "2               1                     1   \n",
       "3               3                     2   \n",
       "4               1                     1   \n",
       "\n",
       "                                        interactions  \\\n",
       "0  {'github-actions[bot]': 20, 'MichaelClifford':...   \n",
       "1                        {'github-actions[bot]': 40}   \n",
       "2                        {'github-actions[bot]': 10}   \n",
       "3                        {'github-actions[bot]': 10}   \n",
       "4                                                 {}   \n",
       "\n",
       "                                             reviews labels  \\\n",
       "0  {'1207369509': {'author': 'oindrillac', 'words...     []   \n",
       "1  {'1205314017': {'author': 'MichaelClifford', '...     []   \n",
       "2                                                 {}     []   \n",
       "3                                                 {}     []   \n",
       "4  {'1201160046': {'author': 'oindrillac', 'words...     []   \n",
       "\n",
       "                                             commits  \\\n",
       "0         [e2bfe03be2fae4095ec22c604c876ae53c4f4c4a]   \n",
       "1  [1a92e5f7feba314360bffc318d88d89e6decb4b0, 57a...   \n",
       "2         [24c6e24399b482bf9f4e7cd5bd94ed418ca919e3]   \n",
       "3  [b00830414636895c2790219c0a4b8b6fb812b44f, 705...   \n",
       "4         [f8d860b1f6f4cf770293e5d377bb2bb37b996102]   \n",
       "\n",
       "                                       changed_files  first_review_at  \\\n",
       "0  [03_model_training.ipynb, 04_model_inference.i...     1.670363e+09   \n",
       "1     [.github/workflows/inference.yaml, action.yml]     1.670276e+09   \n",
       "2                                    [test_file.txt]              NaN   \n",
       "3     [.github/workflows/inference.yaml, action.yml]              NaN   \n",
       "4                         [04_model_inference.ipynb]     1.669907e+09   \n",
       "\n",
       "   first_approve_at  \n",
       "0      1.670367e+09  \n",
       "1      1.670276e+09  \n",
       "2               NaN  \n",
       "3               NaN  \n",
       "4      1.669907e+09  "
      ]
     },
     "execution_count": 8,
     "metadata": {},
     "output_type": "execute_result"
    }
   ],
   "source": [
    "pr_df.head()"
   ]
  },
  {
   "cell_type": "code",
   "execution_count": 9,
   "id": "13dc895b",
   "metadata": {
    "execution": {
     "iopub.execute_input": "2022-12-07T15:27:46.198018Z",
     "iopub.status.busy": "2022-12-07T15:27:46.197372Z",
     "iopub.status.idle": "2022-12-07T15:27:46.202466Z",
     "shell.execute_reply": "2022-12-07T15:27:46.201698Z"
    }
   },
   "outputs": [
    {
     "data": {
      "text/plain": [
       "(27, 18)"
      ]
     },
     "execution_count": 9,
     "metadata": {},
     "output_type": "execute_result"
    }
   ],
   "source": [
    "pr_df.shape"
   ]
  },
  {
   "cell_type": "markdown",
   "id": "c472ffbd",
   "metadata": {},
   "source": [
    "## Feature engineering\n",
    "\n",
    "In the next section we will do some basic feature engineering and correlation analyis on our dataset to see if anything interesting jumps out at us. "
   ]
  },
  {
   "cell_type": "markdown",
   "id": "4ed68d9a",
   "metadata": {},
   "source": [
    "**Time to Merge**\n",
    "\n",
    "We will derive a new feature called `time_to_merge` which will be the difference between the `created_at` and `merged_at` fields. "
   ]
  },
  {
   "cell_type": "code",
   "execution_count": 10,
   "id": "d67035e7",
   "metadata": {
    "execution": {
     "iopub.execute_input": "2022-12-07T15:27:46.207249Z",
     "iopub.status.busy": "2022-12-07T15:27:46.206508Z",
     "iopub.status.idle": "2022-12-07T15:27:46.212376Z",
     "shell.execute_reply": "2022-12-07T15:27:46.211594Z"
    }
   },
   "outputs": [],
   "source": [
    "# derive time_to_merege\n",
    "pr_df[\"time_to_merge\"] = pr_df[\"merged_at\"] - pr_df[\"created_at\"]\n",
    "pr_df[\"time_to_merge\"] = pr_df[\"time_to_merge\"].astype(\"float\")\n",
    "# NOTE: we cant fill NA with 0 because that would imply the PR got merged instantaneously"
   ]
  },
  {
   "cell_type": "code",
   "execution_count": 11,
   "id": "fddf9750-49f5-4997-8280-e94e1e778ad9",
   "metadata": {
    "execution": {
     "iopub.execute_input": "2022-12-07T15:27:46.215894Z",
     "iopub.status.busy": "2022-12-07T15:27:46.215259Z",
     "iopub.status.idle": "2022-12-07T15:27:46.222151Z",
     "shell.execute_reply": "2022-12-07T15:27:46.221389Z"
    }
   },
   "outputs": [
    {
     "data": {
      "text/plain": [
       "0      63413.0\n",
       "1       3394.0\n",
       "2          NaN\n",
       "3          NaN\n",
       "4        390.0\n",
       "5         93.0\n",
       "6       1355.0\n",
       "7          NaN\n",
       "8        229.0\n",
       "9        309.0\n",
       "10      5860.0\n",
       "11     24070.0\n",
       "12    240653.0\n",
       "13      5822.0\n",
       "14         NaN\n",
       "15      9962.0\n",
       "16    324073.0\n",
       "17      2077.0\n",
       "18      7678.0\n",
       "19      3819.0\n",
       "20         NaN\n",
       "21         NaN\n",
       "22         NaN\n",
       "23    101246.0\n",
       "24     65665.0\n",
       "25      2713.0\n",
       "26    937820.0\n",
       "Name: time_to_merge, dtype: float64"
      ]
     },
     "execution_count": 11,
     "metadata": {},
     "output_type": "execute_result"
    }
   ],
   "source": [
    "pr_df[\"time_to_merge\"]"
   ]
  },
  {
   "cell_type": "markdown",
   "id": "939d196e",
   "metadata": {},
   "source": [
    "Let's look at the distribution of the time to merge column. This can help us determine what the setup for ML problems such as [#236](https://github.com/aicoe-aiops/ocp-ci-analysis/issues/236) could be like. That is, should the time to merge problem be framed as a regression or classification problem.\n",
    "\n",
    "First, lets try to determine what the granularity of the output values should be, in case of a regression setup. That is, should the model predict time to merge in number of seconds, number of hours, number of days, or some other chunk of time."
   ]
  },
  {
   "cell_type": "code",
   "execution_count": 12,
   "id": "b8cc628b",
   "metadata": {
    "execution": {
     "iopub.execute_input": "2022-12-07T15:27:46.226742Z",
     "iopub.status.busy": "2022-12-07T15:27:46.226104Z",
     "iopub.status.idle": "2022-12-07T15:27:46.234489Z",
     "shell.execute_reply": "2022-12-07T15:27:46.233748Z"
    },
    "tags": []
   },
   "outputs": [
    {
     "data": {
      "text/plain": [
       "1.0     0.80\n",
       "3.0     0.05\n",
       "4.0     0.05\n",
       "2.0     0.05\n",
       "11.0    0.05\n",
       "Name: time_to_merge, dtype: float64"
      ]
     },
     "execution_count": 12,
     "metadata": {},
     "output_type": "execute_result"
    }
   ],
   "source": [
    "# what does the distribution of values look like if we choose days as the granularity\n",
    "ttm_days = np.ceil(pr_df.time_to_merge / (60 * 60 * 24))\n",
    "\n",
    "# value counts - to how many PRs have value 1, 2, 3, etc. for days to merge\n",
    "vc = ttm_days.value_counts()\n",
    "\n",
    "# normalized value counts (i.e. percent of PRs instead of raw number)\n",
    "nvc = vc / vc.sum()\n",
    "nvc"
   ]
  },
  {
   "cell_type": "code",
   "execution_count": 13,
   "id": "192aeb22",
   "metadata": {
    "execution": {
     "iopub.execute_input": "2022-12-07T15:27:46.238959Z",
     "iopub.status.busy": "2022-12-07T15:27:46.238296Z",
     "iopub.status.idle": "2022-12-07T15:27:46.247029Z",
     "shell.execute_reply": "2022-12-07T15:27:46.246280Z"
    },
    "tags": []
   },
   "outputs": [
    {
     "data": {
      "text/plain": [
       "1.0     0.65\n",
       "6.0     0.05\n",
       "3.0     0.05\n",
       "23.0    0.05\n",
       "31.0    0.05\n",
       "10.0    0.05\n",
       "7.0     0.05\n",
       "87.0    0.05\n",
       "Name: time_to_merge, dtype: float64"
      ]
     },
     "execution_count": 13,
     "metadata": {},
     "output_type": "execute_result"
    }
   ],
   "source": [
    "# what if we chose some intermediate value e.g. 3 hours as the granularity?\n",
    "ttm_3hours = np.ceil(pr_df.time_to_merge / (60 * 60 * 3))\n",
    "\n",
    "# value counts - to how many PRs have value 1, 2, 3, etc. for num. 3-hours to merge\n",
    "vc = ttm_3hours.value_counts()\n",
    "\n",
    "# normalized value counts (i.e. percent of PRs instead of raw number)\n",
    "nvc = vc / vc.sum()\n",
    "nvc"
   ]
  },
  {
   "cell_type": "code",
   "execution_count": 14,
   "id": "44e09f11",
   "metadata": {
    "execution": {
     "iopub.execute_input": "2022-12-07T15:27:46.251713Z",
     "iopub.status.busy": "2022-12-07T15:27:46.250959Z",
     "iopub.status.idle": "2022-12-07T15:27:46.259585Z",
     "shell.execute_reply": "2022-12-07T15:27:46.258811Z"
    },
    "tags": []
   },
   "outputs": [
    {
     "data": {
      "text/plain": [
       "1.0      0.40\n",
       "2.0      0.15\n",
       "3.0      0.10\n",
       "18.0     0.05\n",
       "7.0      0.05\n",
       "67.0     0.05\n",
       "91.0     0.05\n",
       "29.0     0.05\n",
       "19.0     0.05\n",
       "261.0    0.05\n",
       "Name: time_to_merge, dtype: float64"
      ]
     },
     "execution_count": 14,
     "metadata": {},
     "output_type": "execute_result"
    }
   ],
   "source": [
    "# what if we chose hours as the granularity?\n",
    "ttm_hours = np.ceil(pr_df.time_to_merge / (60 * 60))\n",
    "\n",
    "# value counts - to how many PRs have value 1, 2, 3, etc. for hours to merge\n",
    "vc = ttm_hours.value_counts()\n",
    "\n",
    "# normalized value counts (i.e. percent of PRs instead of raw number)\n",
    "nvc = vc / vc.sum()\n",
    "nvc"
   ]
  },
  {
   "cell_type": "markdown",
   "id": "fb8e316b",
   "metadata": {},
   "source": [
    "Now, lets try to determine, if we were to set this up as a classification problem, what the output classes should be. In the following cell, we'll try to split the time-to-merge values into 10 equally populated buckets."
   ]
  },
  {
   "cell_type": "code",
   "execution_count": 15,
   "id": "0ca35bc5",
   "metadata": {
    "execution": {
     "iopub.execute_input": "2022-12-07T15:27:46.263572Z",
     "iopub.status.busy": "2022-12-07T15:27:46.262922Z",
     "iopub.status.idle": "2022-12-07T15:27:46.271409Z",
     "shell.execute_reply": "2022-12-07T15:27:46.270631Z"
    }
   },
   "outputs": [
    {
     "data": {
      "text/plain": [
       "0.0     0.025833\n",
       "0.1     0.083611\n",
       "0.2     0.322778\n",
       "0.3     0.700611\n",
       "0.4     1.013611\n",
       "0.5     1.622500\n",
       "0.6     2.386556\n",
       "0.7     9.964694\n",
       "0.8    20.217000\n",
       "0.9    69.165278\n",
       "Name: time_to_merge, dtype: float64"
      ]
     },
     "execution_count": 15,
     "metadata": {},
     "output_type": "execute_result"
    }
   ],
   "source": [
    "# lets look at what the 10th, 20th, 30th etc percentiles are, to see what the bin boundaries (in terms of hours)\n",
    "# would be if we were to split the data in 10 equally populated bins\n",
    "n_buckets = 10\n",
    "\n",
    "quantiles = pr_df.time_to_merge.quantile(q=np.arange(0, 1 + 1e-100, 1 / n_buckets))\n",
    "quantiles / 3600"
   ]
  },
  {
   "cell_type": "code",
   "execution_count": 16,
   "id": "7b36d5d4-ec27-4a59-b63f-515830da1ae9",
   "metadata": {
    "execution": {
     "iopub.execute_input": "2022-12-07T15:27:46.274951Z",
     "iopub.status.busy": "2022-12-07T15:27:46.274518Z",
     "iopub.status.idle": "2022-12-07T15:27:46.278079Z",
     "shell.execute_reply": "2022-12-07T15:27:46.277326Z"
    }
   },
   "outputs": [],
   "source": [
    "intervals = quantiles"
   ]
  },
  {
   "cell_type": "code",
   "execution_count": 17,
   "id": "acc2bfd4",
   "metadata": {
    "execution": {
     "iopub.execute_input": "2022-12-07T15:27:46.281389Z",
     "iopub.status.busy": "2022-12-07T15:27:46.281127Z",
     "iopub.status.idle": "2022-12-07T15:27:46.287573Z",
     "shell.execute_reply": "2022-12-07T15:27:46.286822Z"
    }
   },
   "outputs": [
    {
     "data": {
      "text/plain": [
       "0.0          NaN\n",
       "0.1     0.057778\n",
       "0.2     0.239167\n",
       "0.3     0.377833\n",
       "0.4     0.313000\n",
       "0.5     0.608889\n",
       "0.6     0.764056\n",
       "0.7     7.578139\n",
       "0.8    10.252306\n",
       "0.9    48.948278\n",
       "Name: time_to_merge, dtype: float64"
      ]
     },
     "execution_count": 17,
     "metadata": {},
     "output_type": "execute_result"
    }
   ],
   "source": [
    "# gaps between the buckets (i.e. size of each bucket) in hours\n",
    "(quantiles - quantiles.shift()) / 3600"
   ]
  },
  {
   "cell_type": "markdown",
   "id": "7111b3d8",
   "metadata": {},
   "source": [
    "If we want to frame our ML problem as a classification problem, we can use the above buckets to define the classes."
   ]
  },
  {
   "cell_type": "markdown",
   "id": "21dc2dcf",
   "metadata": {},
   "source": [
    "**Body**\n",
    "\n",
    "Here, we will derive a feature called `body_size` which will simply be the number of words in the body of the PR. We can use this numerical value to describe the body of the PR."
   ]
  },
  {
   "cell_type": "code",
   "execution_count": 18,
   "id": "212f8a44",
   "metadata": {
    "execution": {
     "iopub.execute_input": "2022-12-07T15:27:46.291772Z",
     "iopub.status.busy": "2022-12-07T15:27:46.291505Z",
     "iopub.status.idle": "2022-12-07T15:27:46.296418Z",
     "shell.execute_reply": "2022-12-07T15:27:46.295616Z"
    }
   },
   "outputs": [],
   "source": [
    "# derive body_size\n",
    "pr_df[\"body_size\"] = pr_df[\"body\"].fillna(\"\").apply(lambda x: len(x.split()))"
   ]
  },
  {
   "cell_type": "code",
   "execution_count": 19,
   "id": "c62d9484",
   "metadata": {
    "execution": {
     "iopub.execute_input": "2022-12-07T15:27:46.299825Z",
     "iopub.status.busy": "2022-12-07T15:27:46.299559Z",
     "iopub.status.idle": "2022-12-07T15:27:46.305029Z",
     "shell.execute_reply": "2022-12-07T15:27:46.304292Z"
    }
   },
   "outputs": [
    {
     "data": {
      "text/plain": [
       "0      41\n",
       "1       1\n",
       "2       1\n",
       "3       2\n",
       "4      53\n",
       "5       2\n",
       "6       3\n",
       "7      12\n",
       "8       6\n",
       "9      10\n",
       "10      2\n",
       "11     39\n",
       "12    124\n",
       "13      9\n",
       "14     15\n",
       "15     24\n",
       "16    153\n",
       "17      9\n",
       "18     26\n",
       "19     31\n",
       "20     19\n",
       "21      0\n",
       "22      7\n",
       "23     13\n",
       "24     47\n",
       "25     22\n",
       "26      2\n",
       "Name: body_size, dtype: int64"
      ]
     },
     "execution_count": 19,
     "metadata": {},
     "output_type": "execute_result"
    }
   ],
   "source": [
    "pr_df[\"body_size\"]"
   ]
  },
  {
   "cell_type": "markdown",
   "id": "9916fd09",
   "metadata": {},
   "source": [
    "**Size**\n",
    "\n",
    "We can attempt to convert the categorical size label generated by GitHub, which summarizes the size of the changes made to the code base, to a numerical value. "
   ]
  },
  {
   "cell_type": "code",
   "execution_count": 20,
   "id": "cbc553ee-3e0b-45ed-83f6-02ae860bef85",
   "metadata": {
    "execution": {
     "iopub.execute_input": "2022-12-07T15:27:46.309851Z",
     "iopub.status.busy": "2022-12-07T15:27:46.309583Z",
     "iopub.status.idle": "2022-12-07T15:27:46.314663Z",
     "shell.execute_reply": "2022-12-07T15:27:46.313906Z"
    }
   },
   "outputs": [
    {
     "data": {
      "text/plain": [
       "{'L', 'M', 'S', 'XL', 'XS', 'XXL'}"
      ]
     },
     "execution_count": 20,
     "metadata": {},
     "output_type": "execute_result"
    }
   ],
   "source": [
    "set(pr_df['size'])"
   ]
  },
  {
   "cell_type": "code",
   "execution_count": 21,
   "id": "709b4cf9",
   "metadata": {
    "execution": {
     "iopub.execute_input": "2022-12-07T15:27:46.319084Z",
     "iopub.status.busy": "2022-12-07T15:27:46.318584Z",
     "iopub.status.idle": "2022-12-07T15:27:46.325466Z",
     "shell.execute_reply": "2022-12-07T15:27:46.324742Z"
    }
   },
   "outputs": [],
   "source": [
    "convert_size = {\"size\": {\"NaN\": 0, \"XS\": 0, \"S\": 1, \"M\": 2, \"L\": 3, \"XL\": 4, \"XXL\": 5}}\n",
    "pr_df = pr_df.replace(convert_size)"
   ]
  },
  {
   "cell_type": "markdown",
   "id": "0b803d48",
   "metadata": {},
   "source": [
    "**Title**\n",
    "\n",
    "Lets try to see if the PR title text can be used to extract any useful information regarding the PR."
   ]
  },
  {
   "cell_type": "code",
   "execution_count": 22,
   "id": "020f050a",
   "metadata": {
    "execution": {
     "iopub.execute_input": "2022-12-07T15:27:46.329023Z",
     "iopub.status.busy": "2022-12-07T15:27:46.328489Z",
     "iopub.status.idle": "2022-12-07T15:27:46.337096Z",
     "shell.execute_reply": "2022-12-07T15:27:46.336329Z"
    }
   },
   "outputs": [
    {
     "data": {
      "text/plain": [
       "0                          update inference output text\n",
       "1                               update inference yaml  \n",
       "2           testing  on pr  functionality  do not merge\n",
       "3                       add  with  mode  functionality \n",
       "4                      fix how inference was callingprs\n",
       "5                          fixed size condition for prs\n",
       "6                                  update entrypoint sh\n",
       "7                                  update entrypoint sh\n",
       "8                                  update entrypoint sh\n",
       "9                                       test train mode\n",
       "10    add training and inference modes in entrypoint sh\n",
       "11                  minor updates  fix number api calls\n",
       "12                         github api rate optimization\n",
       "13                                update inference yaml\n",
       "14           update inference yaml to use action inputs\n",
       "15                 added github api rate limit handling\n",
       "16    changed data download from srcopsmetrics to py...\n",
       "17                                    update action yml\n",
       "18                                  cleanup action test\n",
       "19                                         basic action\n",
       "20                        test pr trigger from upstream\n",
       "21                           sample pr to test workflow\n",
       "22                                update inference yaml\n",
       "23                          pr inference comment test 1\n",
       "24                             add inference for new pr\n",
       "25    clean feature engineering and choose best mode...\n",
       "26               add inference notebook to the workflow\n",
       "Name: title, dtype: object"
      ]
     },
     "execution_count": 22,
     "metadata": {},
     "output_type": "execute_result"
    }
   ],
   "source": [
    "# first lets preprocess the text available in the titles\n",
    "\n",
    "# convert to lowercase\n",
    "preproc_titles = pr_df[\"title\"].str.lower()\n",
    "\n",
    "# remove punctuations and symbols like : ; , # ( ) [ ] etc\n",
    "preproc_titles = preproc_titles.str.replace(r'[`#-.?!,:;\\/()\\[\\]\"\\']', \" \", regex=True)\n",
    "\n",
    "# remove hash-like strings i.e. 25+ char long strings containing 0-9 or a-f\n",
    "preproc_titles = preproc_titles.str.replace(r\"[0-9a-f]{25,}\", \" \", regex=True)\n",
    "\n",
    "preproc_titles"
   ]
  },
  {
   "cell_type": "code",
   "execution_count": 23,
   "id": "2ecc397e",
   "metadata": {
    "execution": {
     "iopub.execute_input": "2022-12-07T15:27:46.341739Z",
     "iopub.status.busy": "2022-12-07T15:27:46.341080Z",
     "iopub.status.idle": "2022-12-07T15:27:46.347587Z",
     "shell.execute_reply": "2022-12-07T15:27:46.346799Z"
    }
   },
   "outputs": [],
   "source": [
    "# what are the most commonly appearing words in the titles\n",
    "\n",
    "# combin all titles and split into words\n",
    "words = preproc_titles.str.cat(sep=\" \").split()\n",
    "\n",
    "# remove stopwords and numbers (e.g. bugzilla ids)\n",
    "words = [w for w in words if w not in set(STOPWORDS) and not w.isnumeric()]\n",
    "\n",
    "# word frequencies\n",
    "unique_words, counts = np.unique(words, return_counts=True)\n",
    "vc = pd.Series(counts, index=unique_words).sort_values(ascending=False)"
   ]
  },
  {
   "cell_type": "markdown",
   "id": "c52f211c",
   "metadata": {},
   "source": [
    "From the above graph, we can see that titles often contain some keywords that can hint towards the type of changes being made in the PR. We will create a feature which is a vector indicating how many times each word appeared in the title. This way, even if a less prominent word is more correlated with time_to_merge, we will be able to capture that relationship."
   ]
  },
  {
   "cell_type": "code",
   "execution_count": 24,
   "id": "65279268",
   "metadata": {
    "execution": {
     "iopub.execute_input": "2022-12-07T15:27:46.351425Z",
     "iopub.status.busy": "2022-12-07T15:27:46.350792Z",
     "iopub.status.idle": "2022-12-07T15:27:46.389971Z",
     "shell.execute_reply": "2022-12-07T15:27:46.389333Z"
    }
   },
   "outputs": [
    {
     "name": "stderr",
     "output_type": "stream",
     "text": [
      "100%|██████████| 59/59 [00:00<00:00, 1898.27it/s]\n"
     ]
    }
   ],
   "source": [
    "# add word count columns\n",
    "for word in tqdm(unique_words):\n",
    "    pr_df[f\"title_wordcount_{word}\"] = preproc_titles.apply(\n",
    "        lambda x: x.split().count(word)\n",
    "    )"
   ]
  },
  {
   "cell_type": "code",
   "execution_count": 25,
   "id": "41cf9f16",
   "metadata": {
    "execution": {
     "iopub.execute_input": "2022-12-07T15:27:46.393560Z",
     "iopub.status.busy": "2022-12-07T15:27:46.392816Z",
     "iopub.status.idle": "2022-12-07T15:27:46.400702Z",
     "shell.execute_reply": "2022-12-07T15:27:46.400095Z"
    }
   },
   "outputs": [],
   "source": [
    "# collapse the high dim vector into one column\n",
    "wordcount_columns = [c for c in pr_df.columns if \"wordcount\" in c]\n",
    "pr_df[\"title_word_counts_vec\"] = pr_df[wordcount_columns].apply(\n",
    "    lambda x: x.tolist(), axis=1\n",
    ")\n",
    "\n",
    "# drop the individual wordcount columns\n",
    "pr_df = pr_df.drop(columns=wordcount_columns)"
   ]
  },
  {
   "cell_type": "markdown",
   "id": "06f46edc",
   "metadata": {},
   "source": [
    "**Created At**\n",
    "\n",
    "This column can give us information on when the PR was created. Using the `created_at` field, we can derive other features like `time_of_day`, `day_of_week`, `day_of_month`, `month_in_year` each of which can be categorical features that can be useful to our analysis."
   ]
  },
  {
   "cell_type": "code",
   "execution_count": 26,
   "id": "b6db783b",
   "metadata": {
    "execution": {
     "iopub.execute_input": "2022-12-07T15:27:46.404142Z",
     "iopub.status.busy": "2022-12-07T15:27:46.403618Z",
     "iopub.status.idle": "2022-12-07T15:27:46.412600Z",
     "shell.execute_reply": "2022-12-07T15:27:46.411977Z"
    }
   },
   "outputs": [],
   "source": [
    "# convert to datetime object\n",
    "pr_df[\"created_at_datetime\"] = (\n",
    "    pr_df[\"created_at\"].fillna(\"\").apply(lambda x: datetime.datetime.fromtimestamp(x))\n",
    ")\n",
    "# get day as categorical variable\n",
    "pr_df[\"created_at_day\"] = pr_df[\"created_at_datetime\"].apply(lambda x: x.day)\n",
    "\n",
    "# get month as categorical variable\n",
    "pr_df[\"created_at_month\"] = pr_df[\"created_at_datetime\"].apply(lambda x: x.month)\n",
    "\n",
    "# get weekday as categorical variable\n",
    "pr_df[\"created_at_weekday\"] = pr_df[\"created_at_datetime\"].apply(lambda x: x.weekday())\n",
    "\n",
    "# get hour of day as categorical variable\n",
    "pr_df[\"created_at_hour\"] = pr_df[\"created_at_datetime\"].apply(lambda x: x.hour)"
   ]
  },
  {
   "cell_type": "code",
   "execution_count": 27,
   "id": "f6cb1704",
   "metadata": {
    "execution": {
     "iopub.execute_input": "2022-12-07T15:27:46.416072Z",
     "iopub.status.busy": "2022-12-07T15:27:46.415527Z",
     "iopub.status.idle": "2022-12-07T15:27:46.434992Z",
     "shell.execute_reply": "2022-12-07T15:27:46.434152Z"
    }
   },
   "outputs": [
    {
     "data": {
      "text/html": [
       "<div>\n",
       "<style scoped>\n",
       "    .dataframe tbody tr th:only-of-type {\n",
       "        vertical-align: middle;\n",
       "    }\n",
       "\n",
       "    .dataframe tbody tr th {\n",
       "        vertical-align: top;\n",
       "    }\n",
       "\n",
       "    .dataframe thead th {\n",
       "        text-align: right;\n",
       "    }\n",
       "</style>\n",
       "<table border=\"1\" class=\"dataframe\">\n",
       "  <thead>\n",
       "    <tr style=\"text-align: right;\">\n",
       "      <th></th>\n",
       "      <th>title</th>\n",
       "      <th>body</th>\n",
       "      <th>size</th>\n",
       "      <th>created_by</th>\n",
       "      <th>created_at</th>\n",
       "      <th>closed_at</th>\n",
       "      <th>closed_by</th>\n",
       "      <th>merged_at</th>\n",
       "      <th>merged_by</th>\n",
       "      <th>commits_number</th>\n",
       "      <th>...</th>\n",
       "      <th>first_review_at</th>\n",
       "      <th>first_approve_at</th>\n",
       "      <th>time_to_merge</th>\n",
       "      <th>body_size</th>\n",
       "      <th>title_word_counts_vec</th>\n",
       "      <th>created_at_datetime</th>\n",
       "      <th>created_at_day</th>\n",
       "      <th>created_at_month</th>\n",
       "      <th>created_at_weekday</th>\n",
       "      <th>created_at_hour</th>\n",
       "    </tr>\n",
       "  </thead>\n",
       "  <tbody>\n",
       "    <tr>\n",
       "      <th>0</th>\n",
       "      <td>update inference output text</td>\n",
       "      <td>Updated `03_model_training.ipynb` to create a ...</td>\n",
       "      <td>5</td>\n",
       "      <td>MichaelClifford</td>\n",
       "      <td>1670362761</td>\n",
       "      <td>1670426174</td>\n",
       "      <td>MichaelClifford</td>\n",
       "      <td>1.670426e+09</td>\n",
       "      <td>MichaelClifford</td>\n",
       "      <td>1</td>\n",
       "      <td>...</td>\n",
       "      <td>1.670363e+09</td>\n",
       "      <td>1.670367e+09</td>\n",
       "      <td>63413.0</td>\n",
       "      <td>41</td>\n",
       "      <td>[0, 0, 0, 0, 0, 0, 0, 0, 0, 0, 0, 0, 0, 0, 0, ...</td>\n",
       "      <td>2022-12-06 21:39:21</td>\n",
       "      <td>6</td>\n",
       "      <td>12</td>\n",
       "      <td>1</td>\n",
       "      <td>21</td>\n",
       "    </tr>\n",
       "    <tr>\n",
       "      <th>1</th>\n",
       "      <td>Update inference.yaml.</td>\n",
       "      <td>test</td>\n",
       "      <td>1</td>\n",
       "      <td>aakankshaduggal</td>\n",
       "      <td>1670273067</td>\n",
       "      <td>1670276461</td>\n",
       "      <td>MichaelClifford</td>\n",
       "      <td>1.670276e+09</td>\n",
       "      <td>MichaelClifford</td>\n",
       "      <td>4</td>\n",
       "      <td>...</td>\n",
       "      <td>1.670276e+09</td>\n",
       "      <td>1.670276e+09</td>\n",
       "      <td>3394.0</td>\n",
       "      <td>1</td>\n",
       "      <td>[0, 0, 0, 0, 0, 0, 0, 0, 0, 0, 0, 0, 0, 0, 0, ...</td>\n",
       "      <td>2022-12-05 20:44:27</td>\n",
       "      <td>5</td>\n",
       "      <td>12</td>\n",
       "      <td>0</td>\n",
       "      <td>20</td>\n",
       "    </tr>\n",
       "  </tbody>\n",
       "</table>\n",
       "<p>2 rows × 26 columns</p>\n",
       "</div>"
      ],
      "text/plain": [
       "                          title  \\\n",
       "0  update inference output text   \n",
       "1       Update inference.yaml.    \n",
       "\n",
       "                                                body  size       created_by  \\\n",
       "0  Updated `03_model_training.ipynb` to create a ...     5  MichaelClifford   \n",
       "1                                              test      1  aakankshaduggal   \n",
       "\n",
       "   created_at   closed_at        closed_by     merged_at        merged_by  \\\n",
       "0  1670362761  1670426174  MichaelClifford  1.670426e+09  MichaelClifford   \n",
       "1  1670273067  1670276461  MichaelClifford  1.670276e+09  MichaelClifford   \n",
       "\n",
       "   commits_number  ...  first_review_at first_approve_at time_to_merge  \\\n",
       "0               1  ...     1.670363e+09     1.670367e+09       63413.0   \n",
       "1               4  ...     1.670276e+09     1.670276e+09        3394.0   \n",
       "\n",
       "  body_size                              title_word_counts_vec  \\\n",
       "0        41  [0, 0, 0, 0, 0, 0, 0, 0, 0, 0, 0, 0, 0, 0, 0, ...   \n",
       "1         1  [0, 0, 0, 0, 0, 0, 0, 0, 0, 0, 0, 0, 0, 0, 0, ...   \n",
       "\n",
       "  created_at_datetime  created_at_day  created_at_month  created_at_weekday  \\\n",
       "0 2022-12-06 21:39:21               6                12                   1   \n",
       "1 2022-12-05 20:44:27               5                12                   0   \n",
       "\n",
       "   created_at_hour  \n",
       "0               21  \n",
       "1               20  \n",
       "\n",
       "[2 rows x 26 columns]"
      ]
     },
     "execution_count": 27,
     "metadata": {},
     "output_type": "execute_result"
    }
   ],
   "source": [
    "pr_df.head(2)"
   ]
  },
  {
   "cell_type": "markdown",
   "id": "772ea2a9",
   "metadata": {},
   "source": [
    "**Changed Files Number**  \n",
    "Changed files is a numberical variable which captures the numer of files that were modified in the PR."
   ]
  },
  {
   "cell_type": "code",
   "execution_count": 28,
   "id": "b5687644",
   "metadata": {
    "execution": {
     "iopub.execute_input": "2022-12-07T15:27:46.438997Z",
     "iopub.status.busy": "2022-12-07T15:27:46.438439Z",
     "iopub.status.idle": "2022-12-07T15:27:46.445586Z",
     "shell.execute_reply": "2022-12-07T15:27:46.444828Z"
    }
   },
   "outputs": [
    {
     "data": {
      "text/plain": [
       "1     11\n",
       "2      9\n",
       "4      4\n",
       "7      1\n",
       "5      1\n",
       "16     1\n",
       "Name: changed_files_number, dtype: int64"
      ]
     },
     "execution_count": 28,
     "metadata": {},
     "output_type": "execute_result"
    }
   ],
   "source": [
    "# convert changed_files_number to int\n",
    "pr_df[\"changed_files_number\"] = pr_df[\"changed_files_number\"].astype(\"int\")\n",
    "\n",
    "pr_df.changed_files_number.value_counts()"
   ]
  },
  {
   "cell_type": "markdown",
   "id": "2ec4a803",
   "metadata": {},
   "source": [
    "`changed_files_number` has more variability than the `commits_number`. We can incorporate this as a numerical feature."
   ]
  },
  {
   "cell_type": "markdown",
   "id": "360ea47c",
   "metadata": {},
   "source": [
    "**Changed_files**\n",
    "\n",
    "`changed_files` is a list of the paths and filenames for every file changed by this PR. From `changed_files`, we know, for each PR, which file types were changed which can be encoded as a frequency vector. Also we know which directory the change is made in, so that can be encoded as a categorical variable."
   ]
  },
  {
   "cell_type": "code",
   "execution_count": 29,
   "id": "ea080575",
   "metadata": {
    "execution": {
     "iopub.execute_input": "2022-12-07T15:27:46.450186Z",
     "iopub.status.busy": "2022-12-07T15:27:46.449457Z",
     "iopub.status.idle": "2022-12-07T15:27:46.458800Z",
     "shell.execute_reply": "2022-12-07T15:27:46.458035Z"
    }
   },
   "outputs": [
    {
     "data": {
      "text/plain": [
       "0     [03_model_training.ipynb, 04_model_inference.i...\n",
       "1        [.github/workflows/inference.yaml, action.yml]\n",
       "2                                       [test_file.txt]\n",
       "3        [.github/workflows/inference.yaml, action.yml]\n",
       "4                            [04_model_inference.ipynb]\n",
       "5                                       [process_pr.py]\n",
       "6                                       [entrypoint.sh]\n",
       "7                                       [entrypoint.sh]\n",
       "8                                       [entrypoint.sh]\n",
       "9     [.github/workflows/inference.yaml, entrypoint.sh]\n",
       "10    [.github/workflows/inference.yaml, entrypoint.sh]\n",
       "11    [01_data_collection.py, 02_notebook_executed.i...\n",
       "12    [.github/workflows/run-in-container.yaml, 01_d...\n",
       "13       [.github/workflows/inference.yaml, action.yml]\n",
       "14                   [.github/workflows/inference.yaml]\n",
       "15    [01_data_collection.py, 02_notebook_executed.i...\n",
       "16    [.github/workflows/run-in-container.yaml, 01_d...\n",
       "17                                         [action.yml]\n",
       "18    [.github/workflows/inference.yaml, Dockerfile,...\n",
       "19    [Containerfile, action.yml, entrypoint.sh, tes...\n",
       "20                   [.github/workflows/inference.yaml]\n",
       "21                                          [README.md]\n",
       "22                   [.github/workflows/inference.yaml]\n",
       "23    [.github/workflows/inference.yaml, 04_model_in...\n",
       "24         [04_model_inference.ipynb, requirements.txt]\n",
       "25    [02_feature_engineering.ipynb, 03_model_traini...\n",
       "26    [.github/workflows/install-from-config.yaml, ....\n",
       "Name: changed_files, dtype: object"
      ]
     },
     "execution_count": 29,
     "metadata": {},
     "output_type": "execute_result"
    }
   ],
   "source": [
    "pr_df.changed_files"
   ]
  },
  {
   "cell_type": "code",
   "execution_count": 30,
   "id": "ba70b93f",
   "metadata": {
    "execution": {
     "iopub.execute_input": "2022-12-07T15:27:46.462623Z",
     "iopub.status.busy": "2022-12-07T15:27:46.462010Z",
     "iopub.status.idle": "2022-12-07T15:27:46.467644Z",
     "shell.execute_reply": "2022-12-07T15:27:46.466871Z"
    }
   },
   "outputs": [],
   "source": [
    "def filetype(filepath):\n",
    "\n",
    "    # if standard file extension, return file extension\n",
    "    if pathlib.Path(filepath).suffix:\n",
    "        return pathlib.Path(filepath).suffix\n",
    "\n",
    "    else:\n",
    "        # if single file at the root of repo\n",
    "        if \"/\" not in filepath:\n",
    "            # if a file like README/Dockerfile etc\n",
    "            if \".\" not in filepath:\n",
    "                return filepath\n",
    "        # if file not at root\n",
    "        else:\n",
    "            # get file name\n",
    "            file = filepath.rsplit(\"/\", 1)[1]\n",
    "            if \".\" not in file:\n",
    "                return file\n",
    "            elif \".\" in file:\n",
    "                return \".\" + file.rsplit(\".\", 1)[1]"
   ]
  },
  {
   "cell_type": "code",
   "execution_count": 31,
   "id": "2e00c415",
   "metadata": {
    "execution": {
     "iopub.execute_input": "2022-12-07T15:27:46.471317Z",
     "iopub.status.busy": "2022-12-07T15:27:46.470705Z",
     "iopub.status.idle": "2022-12-07T15:27:46.474412Z",
     "shell.execute_reply": "2022-12-07T15:27:46.473633Z"
    }
   },
   "outputs": [],
   "source": [
    "# get list of all file types that were modified across all openshift origin PRs\n",
    "changed_files = list(pr_df[\"changed_files\"])"
   ]
  },
  {
   "cell_type": "code",
   "execution_count": 32,
   "id": "36a1dcda",
   "metadata": {
    "execution": {
     "iopub.execute_input": "2022-12-07T15:27:46.478099Z",
     "iopub.status.busy": "2022-12-07T15:27:46.477392Z",
     "iopub.status.idle": "2022-12-07T15:27:46.482040Z",
     "shell.execute_reply": "2022-12-07T15:27:46.481323Z"
    }
   },
   "outputs": [],
   "source": [
    "all_changed_files = [filetype(filepath) for pr in changed_files for filepath in pr]"
   ]
  },
  {
   "cell_type": "code",
   "execution_count": 33,
   "id": "d7de1e91",
   "metadata": {
    "execution": {
     "iopub.execute_input": "2022-12-07T15:27:46.485202Z",
     "iopub.status.busy": "2022-12-07T15:27:46.484763Z",
     "iopub.status.idle": "2022-12-07T15:27:46.488329Z",
     "shell.execute_reply": "2022-12-07T15:27:46.487559Z"
    }
   },
   "outputs": [],
   "source": [
    "count = Counter(all_changed_files)"
   ]
  },
  {
   "cell_type": "code",
   "execution_count": 34,
   "id": "17e5fd80",
   "metadata": {
    "execution": {
     "iopub.execute_input": "2022-12-07T15:27:46.491862Z",
     "iopub.status.busy": "2022-12-07T15:27:46.491265Z",
     "iopub.status.idle": "2022-12-07T15:27:46.495104Z",
     "shell.execute_reply": "2022-12-07T15:27:46.494342Z"
    }
   },
   "outputs": [],
   "source": [
    "# save 100 most commonly occuring file extensions across PRs\n",
    "top_fileextensions_freq = count.most_common(100)\n",
    "top_fileextensions = [ext[0] for ext in top_fileextensions_freq]"
   ]
  },
  {
   "cell_type": "code",
   "execution_count": 35,
   "id": "25a14da8",
   "metadata": {
    "execution": {
     "iopub.execute_input": "2022-12-07T15:27:46.498635Z",
     "iopub.status.busy": "2022-12-07T15:27:46.498019Z",
     "iopub.status.idle": "2022-12-07T15:27:46.503073Z",
     "shell.execute_reply": "2022-12-07T15:27:46.502319Z"
    }
   },
   "outputs": [
    {
     "data": {
      "text/plain": [
       "['.ipynb',\n",
       " '.yaml',\n",
       " '.py',\n",
       " '.sh',\n",
       " '.yml',\n",
       " '.txt',\n",
       " '.md',\n",
       " 'LICENSE',\n",
       " 'Dockerfile',\n",
       " 'Containerfile']"
      ]
     },
     "execution_count": 35,
     "metadata": {},
     "output_type": "execute_result"
    }
   ],
   "source": [
    "top_fileextensions"
   ]
  },
  {
   "cell_type": "code",
   "execution_count": 36,
   "id": "ecd11700",
   "metadata": {
    "execution": {
     "iopub.execute_input": "2022-12-07T15:27:46.507145Z",
     "iopub.status.busy": "2022-12-07T15:27:46.506735Z",
     "iopub.status.idle": "2022-12-07T15:27:46.511782Z",
     "shell.execute_reply": "2022-12-07T15:27:46.511032Z"
    }
   },
   "outputs": [],
   "source": [
    "def file_type_freq(list_of_filepaths):\n",
    "    \"\"\"\n",
    "    For a given PR's list of changed files,\n",
    "    return a changed files frequency vector\n",
    "    ( a vector which holds the frequency of\n",
    "    changed files of the type  for every\n",
    "    file type in top_fileextensions )\n",
    "    \"\"\"\n",
    "\n",
    "    file_extensions = [filetype(f) for f in list_of_filepaths]\n",
    "    ext_dict = {key: 0 for key in top_fileextensions}\n",
    "    for f in file_extensions:\n",
    "        if f in ext_dict:\n",
    "            ext_dict[f] += 1\n",
    "\n",
    "    return list(ext_dict.values())"
   ]
  },
  {
   "cell_type": "code",
   "execution_count": 37,
   "id": "cc0b7906",
   "metadata": {
    "execution": {
     "iopub.execute_input": "2022-12-07T15:27:46.515073Z",
     "iopub.status.busy": "2022-12-07T15:27:46.514817Z",
     "iopub.status.idle": "2022-12-07T15:27:46.520004Z",
     "shell.execute_reply": "2022-12-07T15:27:46.519227Z"
    }
   },
   "outputs": [],
   "source": [
    "pr_df[\"changed_file_type_vec\"] = pr_df[\"changed_files\"].apply(\n",
    "    lambda x: file_type_freq(x)\n",
    ")"
   ]
  },
  {
   "cell_type": "code",
   "execution_count": 38,
   "id": "4fe7bb1d",
   "metadata": {
    "execution": {
     "iopub.execute_input": "2022-12-07T15:27:46.523311Z",
     "iopub.status.busy": "2022-12-07T15:27:46.523052Z",
     "iopub.status.idle": "2022-12-07T15:27:46.543058Z",
     "shell.execute_reply": "2022-12-07T15:27:46.542240Z"
    }
   },
   "outputs": [
    {
     "data": {
      "text/html": [
       "<div>\n",
       "<style scoped>\n",
       "    .dataframe tbody tr th:only-of-type {\n",
       "        vertical-align: middle;\n",
       "    }\n",
       "\n",
       "    .dataframe tbody tr th {\n",
       "        vertical-align: top;\n",
       "    }\n",
       "\n",
       "    .dataframe thead th {\n",
       "        text-align: right;\n",
       "    }\n",
       "</style>\n",
       "<table border=\"1\" class=\"dataframe\">\n",
       "  <thead>\n",
       "    <tr style=\"text-align: right;\">\n",
       "      <th></th>\n",
       "      <th>title</th>\n",
       "      <th>body</th>\n",
       "      <th>size</th>\n",
       "      <th>created_by</th>\n",
       "      <th>created_at</th>\n",
       "      <th>closed_at</th>\n",
       "      <th>closed_by</th>\n",
       "      <th>merged_at</th>\n",
       "      <th>merged_by</th>\n",
       "      <th>commits_number</th>\n",
       "      <th>...</th>\n",
       "      <th>first_approve_at</th>\n",
       "      <th>time_to_merge</th>\n",
       "      <th>body_size</th>\n",
       "      <th>title_word_counts_vec</th>\n",
       "      <th>created_at_datetime</th>\n",
       "      <th>created_at_day</th>\n",
       "      <th>created_at_month</th>\n",
       "      <th>created_at_weekday</th>\n",
       "      <th>created_at_hour</th>\n",
       "      <th>changed_file_type_vec</th>\n",
       "    </tr>\n",
       "  </thead>\n",
       "  <tbody>\n",
       "    <tr>\n",
       "      <th>0</th>\n",
       "      <td>update inference output text</td>\n",
       "      <td>Updated `03_model_training.ipynb` to create a ...</td>\n",
       "      <td>5</td>\n",
       "      <td>MichaelClifford</td>\n",
       "      <td>1670362761</td>\n",
       "      <td>1670426174</td>\n",
       "      <td>MichaelClifford</td>\n",
       "      <td>1.670426e+09</td>\n",
       "      <td>MichaelClifford</td>\n",
       "      <td>1</td>\n",
       "      <td>...</td>\n",
       "      <td>1.670367e+09</td>\n",
       "      <td>63413.0</td>\n",
       "      <td>41</td>\n",
       "      <td>[0, 0, 0, 0, 0, 0, 0, 0, 0, 0, 0, 0, 0, 0, 0, ...</td>\n",
       "      <td>2022-12-06 21:39:21</td>\n",
       "      <td>6</td>\n",
       "      <td>12</td>\n",
       "      <td>1</td>\n",
       "      <td>21</td>\n",
       "      <td>[2, 0, 0, 0, 0, 0, 0, 0, 0, 0]</td>\n",
       "    </tr>\n",
       "    <tr>\n",
       "      <th>1</th>\n",
       "      <td>Update inference.yaml.</td>\n",
       "      <td>test</td>\n",
       "      <td>1</td>\n",
       "      <td>aakankshaduggal</td>\n",
       "      <td>1670273067</td>\n",
       "      <td>1670276461</td>\n",
       "      <td>MichaelClifford</td>\n",
       "      <td>1.670276e+09</td>\n",
       "      <td>MichaelClifford</td>\n",
       "      <td>4</td>\n",
       "      <td>...</td>\n",
       "      <td>1.670276e+09</td>\n",
       "      <td>3394.0</td>\n",
       "      <td>1</td>\n",
       "      <td>[0, 0, 0, 0, 0, 0, 0, 0, 0, 0, 0, 0, 0, 0, 0, ...</td>\n",
       "      <td>2022-12-05 20:44:27</td>\n",
       "      <td>5</td>\n",
       "      <td>12</td>\n",
       "      <td>0</td>\n",
       "      <td>20</td>\n",
       "      <td>[0, 1, 0, 0, 1, 0, 0, 0, 0, 0]</td>\n",
       "    </tr>\n",
       "  </tbody>\n",
       "</table>\n",
       "<p>2 rows × 27 columns</p>\n",
       "</div>"
      ],
      "text/plain": [
       "                          title  \\\n",
       "0  update inference output text   \n",
       "1       Update inference.yaml.    \n",
       "\n",
       "                                                body  size       created_by  \\\n",
       "0  Updated `03_model_training.ipynb` to create a ...     5  MichaelClifford   \n",
       "1                                              test      1  aakankshaduggal   \n",
       "\n",
       "   created_at   closed_at        closed_by     merged_at        merged_by  \\\n",
       "0  1670362761  1670426174  MichaelClifford  1.670426e+09  MichaelClifford   \n",
       "1  1670273067  1670276461  MichaelClifford  1.670276e+09  MichaelClifford   \n",
       "\n",
       "   commits_number  ...  first_approve_at time_to_merge body_size  \\\n",
       "0               1  ...      1.670367e+09       63413.0        41   \n",
       "1               4  ...      1.670276e+09        3394.0         1   \n",
       "\n",
       "                               title_word_counts_vec created_at_datetime  \\\n",
       "0  [0, 0, 0, 0, 0, 0, 0, 0, 0, 0, 0, 0, 0, 0, 0, ... 2022-12-06 21:39:21   \n",
       "1  [0, 0, 0, 0, 0, 0, 0, 0, 0, 0, 0, 0, 0, 0, 0, ... 2022-12-05 20:44:27   \n",
       "\n",
       "  created_at_day  created_at_month  created_at_weekday  created_at_hour  \\\n",
       "0              6                12                   1               21   \n",
       "1              5                12                   0               20   \n",
       "\n",
       "            changed_file_type_vec  \n",
       "0  [2, 0, 0, 0, 0, 0, 0, 0, 0, 0]  \n",
       "1  [0, 1, 0, 0, 1, 0, 0, 0, 0, 0]  \n",
       "\n",
       "[2 rows x 27 columns]"
      ]
     },
     "execution_count": 38,
     "metadata": {},
     "output_type": "execute_result"
    }
   ],
   "source": [
    "pr_df.head(2)"
   ]
  },
  {
   "cell_type": "markdown",
   "id": "8102f95e-6175-4b46-99c1-66175f20325c",
   "metadata": {},
   "source": [
    "## Create PR trends dashboard"
   ]
  },
  {
   "cell_type": "markdown",
   "id": "5e502b7f-49c4-4024-aebc-3c9720a94209",
   "metadata": {},
   "source": [
    "## Infer dataframe columns as Features"
   ]
  },
  {
   "cell_type": "markdown",
   "id": "70443afd",
   "metadata": {},
   "source": [
    "We can see above that some PRs have 0 for all directory fields since the directory structure of the repo has changed over time and we are interested in only the latest directory structure."
   ]
  },
  {
   "cell_type": "code",
   "execution_count": 39,
   "id": "64e7a822",
   "metadata": {
    "execution": {
     "iopub.execute_input": "2022-12-07T15:27:46.547819Z",
     "iopub.status.busy": "2022-12-07T15:27:46.547294Z",
     "iopub.status.idle": "2022-12-07T15:27:46.552811Z",
     "shell.execute_reply": "2022-12-07T15:27:46.552018Z"
    }
   },
   "outputs": [],
   "source": [
    "# subset DataFrame to use as features\n",
    "feature_df = pr_df[\n",
    "    [\n",
    "        \"time_to_merge\",\n",
    "        \"changed_files_number\",\n",
    "        \"body_size\",\n",
    "        \"size\",\n",
    "        \"title_word_counts_vec\",\n",
    "        \"created_at_day\",\n",
    "        \"created_at_month\",\n",
    "        \"created_at_weekday\",\n",
    "        \"created_at_hour\",\n",
    "        \"commits_number\",\n",
    "        \"changed_file_type_vec\",\n",
    "    ]\n",
    "]"
   ]
  },
  {
   "cell_type": "markdown",
   "id": "0b08a241",
   "metadata": {},
   "source": [
    "### Add PR TTM Class Column \n",
    "\n",
    "Lets split up the time to merge values into 10 discrete bins (as discussed above) to use as our prediction classes."
   ]
  },
  {
   "cell_type": "code",
   "execution_count": 40,
   "id": "b1a5adc0-e8e2-4159-af36-a6fdc938de17",
   "metadata": {
    "execution": {
     "iopub.execute_input": "2022-12-07T15:27:46.556572Z",
     "iopub.status.busy": "2022-12-07T15:27:46.556125Z",
     "iopub.status.idle": "2022-12-07T15:27:46.564686Z",
     "shell.execute_reply": "2022-12-07T15:27:46.564006Z"
    }
   },
   "outputs": [
    {
     "data": {
      "text/plain": [
       "0.0        93.0\n",
       "0.1       301.0\n",
       "0.2      1162.0\n",
       "0.3      2522.2\n",
       "0.4      3649.0\n",
       "0.5      5841.0\n",
       "0.6      8591.6\n",
       "0.7     35872.9\n",
       "0.8     72781.2\n",
       "0.9    248995.0\n",
       "Name: time_to_merge, dtype: float64"
      ]
     },
     "execution_count": 40,
     "metadata": {},
     "output_type": "execute_result"
    }
   ],
   "source": [
    "intervals"
   ]
  },
  {
   "cell_type": "code",
   "execution_count": 41,
   "id": "ec16152d-0fb3-4775-913a-9e476382d713",
   "metadata": {
    "execution": {
     "iopub.execute_input": "2022-12-07T15:27:46.568701Z",
     "iopub.status.busy": "2022-12-07T15:27:46.568083Z",
     "iopub.status.idle": "2022-12-07T15:27:46.793609Z",
     "shell.execute_reply": "2022-12-07T15:27:46.792846Z"
    }
   },
   "outputs": [
    {
     "name": "stderr",
     "output_type": "stream",
     "text": [
      "/tmp/ipykernel_143/2436122750.py:9: SettingWithCopyWarning: \n",
      "A value is trying to be set on a copy of a slice from a DataFrame.\n",
      "Try using .loc[row_indexer,col_indexer] = value instead\n",
      "\n",
      "See the caveats in the documentation: https://pandas.pydata.org/pandas-docs/stable/user_guide/indexing.html#returning-a-view-versus-a-copy\n",
      "  feature_df[\"ttm_class\"] = (feature_df[\"time_to_merge\"]).apply(get_ttm_class)\n"
     ]
    },
    {
     "data": {
      "text/html": [
       "<div>\n",
       "<style scoped>\n",
       "    .dataframe tbody tr th:only-of-type {\n",
       "        vertical-align: middle;\n",
       "    }\n",
       "\n",
       "    .dataframe tbody tr th {\n",
       "        vertical-align: top;\n",
       "    }\n",
       "\n",
       "    .dataframe thead th {\n",
       "        text-align: right;\n",
       "    }\n",
       "</style>\n",
       "<table border=\"1\" class=\"dataframe\">\n",
       "  <thead>\n",
       "    <tr style=\"text-align: right;\">\n",
       "      <th></th>\n",
       "      <th>time_to_merge</th>\n",
       "      <th>changed_files_number</th>\n",
       "      <th>body_size</th>\n",
       "      <th>size</th>\n",
       "      <th>title_word_counts_vec</th>\n",
       "      <th>created_at_day</th>\n",
       "      <th>created_at_month</th>\n",
       "      <th>created_at_weekday</th>\n",
       "      <th>created_at_hour</th>\n",
       "      <th>commits_number</th>\n",
       "      <th>changed_file_type_vec</th>\n",
       "      <th>ttm_class</th>\n",
       "    </tr>\n",
       "  </thead>\n",
       "  <tbody>\n",
       "    <tr>\n",
       "      <th>0</th>\n",
       "      <td>63413.0</td>\n",
       "      <td>2</td>\n",
       "      <td>41</td>\n",
       "      <td>5</td>\n",
       "      <td>[0, 0, 0, 0, 0, 0, 0, 0, 0, 0, 0, 0, 0, 0, 0, ...</td>\n",
       "      <td>6</td>\n",
       "      <td>12</td>\n",
       "      <td>1</td>\n",
       "      <td>21</td>\n",
       "      <td>1</td>\n",
       "      <td>[2, 0, 0, 0, 0, 0, 0, 0, 0, 0]</td>\n",
       "      <td>7</td>\n",
       "    </tr>\n",
       "    <tr>\n",
       "      <th>1</th>\n",
       "      <td>3394.0</td>\n",
       "      <td>2</td>\n",
       "      <td>1</td>\n",
       "      <td>1</td>\n",
       "      <td>[0, 0, 0, 0, 0, 0, 0, 0, 0, 0, 0, 0, 0, 0, 0, ...</td>\n",
       "      <td>5</td>\n",
       "      <td>12</td>\n",
       "      <td>0</td>\n",
       "      <td>20</td>\n",
       "      <td>4</td>\n",
       "      <td>[0, 1, 0, 0, 1, 0, 0, 0, 0, 0]</td>\n",
       "      <td>3</td>\n",
       "    </tr>\n",
       "    <tr>\n",
       "      <th>2</th>\n",
       "      <td>NaN</td>\n",
       "      <td>1</td>\n",
       "      <td>1</td>\n",
       "      <td>0</td>\n",
       "      <td>[0, 0, 0, 0, 0, 0, 0, 0, 0, 0, 0, 0, 0, 0, 0, ...</td>\n",
       "      <td>5</td>\n",
       "      <td>12</td>\n",
       "      <td>0</td>\n",
       "      <td>20</td>\n",
       "      <td>1</td>\n",
       "      <td>[0, 0, 0, 0, 0, 1, 0, 0, 0, 0]</td>\n",
       "      <td>9</td>\n",
       "    </tr>\n",
       "    <tr>\n",
       "      <th>3</th>\n",
       "      <td>NaN</td>\n",
       "      <td>2</td>\n",
       "      <td>2</td>\n",
       "      <td>1</td>\n",
       "      <td>[0, 1, 0, 0, 0, 0, 0, 0, 0, 0, 0, 0, 0, 0, 0, ...</td>\n",
       "      <td>5</td>\n",
       "      <td>12</td>\n",
       "      <td>0</td>\n",
       "      <td>17</td>\n",
       "      <td>3</td>\n",
       "      <td>[0, 1, 0, 0, 1, 0, 0, 0, 0, 0]</td>\n",
       "      <td>9</td>\n",
       "    </tr>\n",
       "    <tr>\n",
       "      <th>4</th>\n",
       "      <td>390.0</td>\n",
       "      <td>1</td>\n",
       "      <td>53</td>\n",
       "      <td>3</td>\n",
       "      <td>[0, 0, 0, 0, 0, 0, 1, 0, 0, 0, 0, 0, 0, 0, 0, ...</td>\n",
       "      <td>1</td>\n",
       "      <td>12</td>\n",
       "      <td>3</td>\n",
       "      <td>15</td>\n",
       "      <td>1</td>\n",
       "      <td>[1, 0, 0, 0, 0, 0, 0, 0, 0, 0]</td>\n",
       "      <td>1</td>\n",
       "    </tr>\n",
       "  </tbody>\n",
       "</table>\n",
       "</div>"
      ],
      "text/plain": [
       "   time_to_merge  changed_files_number  body_size  size  \\\n",
       "0        63413.0                     2         41     5   \n",
       "1         3394.0                     2          1     1   \n",
       "2            NaN                     1          1     0   \n",
       "3            NaN                     2          2     1   \n",
       "4          390.0                     1         53     3   \n",
       "\n",
       "                               title_word_counts_vec  created_at_day  \\\n",
       "0  [0, 0, 0, 0, 0, 0, 0, 0, 0, 0, 0, 0, 0, 0, 0, ...               6   \n",
       "1  [0, 0, 0, 0, 0, 0, 0, 0, 0, 0, 0, 0, 0, 0, 0, ...               5   \n",
       "2  [0, 0, 0, 0, 0, 0, 0, 0, 0, 0, 0, 0, 0, 0, 0, ...               5   \n",
       "3  [0, 1, 0, 0, 0, 0, 0, 0, 0, 0, 0, 0, 0, 0, 0, ...               5   \n",
       "4  [0, 0, 0, 0, 0, 0, 1, 0, 0, 0, 0, 0, 0, 0, 0, ...               1   \n",
       "\n",
       "   created_at_month  created_at_weekday  created_at_hour  commits_number  \\\n",
       "0                12                   1               21               1   \n",
       "1                12                   0               20               4   \n",
       "2                12                   0               20               1   \n",
       "3                12                   0               17               3   \n",
       "4                12                   3               15               1   \n",
       "\n",
       "            changed_file_type_vec  ttm_class  \n",
       "0  [2, 0, 0, 0, 0, 0, 0, 0, 0, 0]          7  \n",
       "1  [0, 1, 0, 0, 1, 0, 0, 0, 0, 0]          3  \n",
       "2  [0, 0, 0, 0, 0, 1, 0, 0, 0, 0]          9  \n",
       "3  [0, 1, 0, 0, 1, 0, 0, 0, 0, 0]          9  \n",
       "4  [1, 0, 0, 0, 0, 0, 0, 0, 0, 0]          1  "
      ]
     },
     "execution_count": 41,
     "metadata": {},
     "output_type": "execute_result"
    }
   ],
   "source": [
    "def get_ttm_class(ttm):\n",
    "\n",
    "    for rownum, (indx, val) in enumerate(intervals.iteritems()):\n",
    "        if ttm < val:\n",
    "            return rownum - 1\n",
    "    return 9\n",
    "\n",
    "\n",
    "feature_df[\"ttm_class\"] = (feature_df[\"time_to_merge\"]).apply(get_ttm_class)\n",
    "feature_df.head()"
   ]
  },
  {
   "cell_type": "markdown",
   "id": "04749f45",
   "metadata": {},
   "source": [
    "## Evaluating Feature Importances\n",
    "\n",
    "### Categorical Features\n",
    "\n",
    "First, lets try to determine what categorical featuers are powerful influencers for time to merge of a PR"
   ]
  },
  {
   "cell_type": "code",
   "execution_count": 42,
   "id": "e353c92b",
   "metadata": {
    "execution": {
     "iopub.execute_input": "2022-12-07T15:27:46.797688Z",
     "iopub.status.busy": "2022-12-07T15:27:46.797236Z",
     "iopub.status.idle": "2022-12-07T15:27:46.802982Z",
     "shell.execute_reply": "2022-12-07T15:27:46.802276Z"
    }
   },
   "outputs": [],
   "source": [
    "# feature selection helper function\n",
    "def select_features(x, y, func):\n",
    "    fs = SelectKBest(score_func=func, k=\"all\")\n",
    "    fs.fit(x, y)\n",
    "    x_fs = fs.transform(x)\n",
    "    return x_fs, fs\n",
    "\n",
    "\n",
    "selected_features = []"
   ]
  },
  {
   "cell_type": "code",
   "execution_count": 43,
   "id": "986b3424-0401-4c7a-8f28-a860b87e14ef",
   "metadata": {
    "execution": {
     "iopub.execute_input": "2022-12-07T15:27:46.806870Z",
     "iopub.status.busy": "2022-12-07T15:27:46.806147Z",
     "iopub.status.idle": "2022-12-07T15:27:46.810709Z",
     "shell.execute_reply": "2022-12-07T15:27:46.810048Z"
    }
   },
   "outputs": [],
   "source": [
    "cat_features = [\n",
    "    \"size\",\n",
    "    \"created_at_day\",\n",
    "    \"created_at_month\",\n",
    "    \"created_at_weekday\",\n",
    "    \"created_at_hour\",\n",
    "    \"ttm_class\",\n",
    "]"
   ]
  },
  {
   "cell_type": "code",
   "execution_count": 44,
   "id": "3e1d24a4",
   "metadata": {
    "execution": {
     "iopub.execute_input": "2022-12-07T15:27:46.814604Z",
     "iopub.status.busy": "2022-12-07T15:27:46.814024Z",
     "iopub.status.idle": "2022-12-07T15:27:46.825465Z",
     "shell.execute_reply": "2022-12-07T15:27:46.824688Z"
    }
   },
   "outputs": [
    {
     "data": {
      "text/html": [
       "<div>\n",
       "<style scoped>\n",
       "    .dataframe tbody tr th:only-of-type {\n",
       "        vertical-align: middle;\n",
       "    }\n",
       "\n",
       "    .dataframe tbody tr th {\n",
       "        vertical-align: top;\n",
       "    }\n",
       "\n",
       "    .dataframe thead th {\n",
       "        text-align: right;\n",
       "    }\n",
       "</style>\n",
       "<table border=\"1\" class=\"dataframe\">\n",
       "  <thead>\n",
       "    <tr style=\"text-align: right;\">\n",
       "      <th></th>\n",
       "      <th>size</th>\n",
       "      <th>created_at_day</th>\n",
       "      <th>created_at_month</th>\n",
       "      <th>created_at_weekday</th>\n",
       "      <th>created_at_hour</th>\n",
       "      <th>ttm_class</th>\n",
       "    </tr>\n",
       "  </thead>\n",
       "  <tbody>\n",
       "    <tr>\n",
       "      <th>0</th>\n",
       "      <td>5</td>\n",
       "      <td>6</td>\n",
       "      <td>12</td>\n",
       "      <td>1</td>\n",
       "      <td>21</td>\n",
       "      <td>7</td>\n",
       "    </tr>\n",
       "    <tr>\n",
       "      <th>1</th>\n",
       "      <td>1</td>\n",
       "      <td>5</td>\n",
       "      <td>12</td>\n",
       "      <td>0</td>\n",
       "      <td>20</td>\n",
       "      <td>3</td>\n",
       "    </tr>\n",
       "    <tr>\n",
       "      <th>2</th>\n",
       "      <td>0</td>\n",
       "      <td>5</td>\n",
       "      <td>12</td>\n",
       "      <td>0</td>\n",
       "      <td>20</td>\n",
       "      <td>9</td>\n",
       "    </tr>\n",
       "    <tr>\n",
       "      <th>3</th>\n",
       "      <td>1</td>\n",
       "      <td>5</td>\n",
       "      <td>12</td>\n",
       "      <td>0</td>\n",
       "      <td>17</td>\n",
       "      <td>9</td>\n",
       "    </tr>\n",
       "    <tr>\n",
       "      <th>4</th>\n",
       "      <td>3</td>\n",
       "      <td>1</td>\n",
       "      <td>12</td>\n",
       "      <td>3</td>\n",
       "      <td>15</td>\n",
       "      <td>1</td>\n",
       "    </tr>\n",
       "  </tbody>\n",
       "</table>\n",
       "</div>"
      ],
      "text/plain": [
       "   size  created_at_day  created_at_month  created_at_weekday  \\\n",
       "0     5               6                12                   1   \n",
       "1     1               5                12                   0   \n",
       "2     0               5                12                   0   \n",
       "3     1               5                12                   0   \n",
       "4     3               1                12                   3   \n",
       "\n",
       "   created_at_hour  ttm_class  \n",
       "0               21          7  \n",
       "1               20          3  \n",
       "2               20          9  \n",
       "3               17          9  \n",
       "4               15          1  "
      ]
     },
     "execution_count": 44,
     "metadata": {},
     "output_type": "execute_result"
    }
   ],
   "source": [
    "cat_df = feature_df[cat_features]\n",
    "\n",
    "cat_df.head()"
   ]
  },
  {
   "cell_type": "code",
   "execution_count": 45,
   "id": "278e3073",
   "metadata": {
    "execution": {
     "iopub.execute_input": "2022-12-07T15:27:46.829082Z",
     "iopub.status.busy": "2022-12-07T15:27:46.828811Z",
     "iopub.status.idle": "2022-12-07T15:27:46.834545Z",
     "shell.execute_reply": "2022-12-07T15:27:46.833831Z"
    }
   },
   "outputs": [],
   "source": [
    "# split into input (x) and output (y) variables\n",
    "X_inp = cat_df.drop(columns=[\"ttm_class\"])\n",
    "y = cat_df[\"ttm_class\"]"
   ]
  },
  {
   "cell_type": "code",
   "execution_count": 46,
   "id": "2df4fb8d",
   "metadata": {
    "execution": {
     "iopub.execute_input": "2022-12-07T15:27:46.838107Z",
     "iopub.status.busy": "2022-12-07T15:27:46.837494Z",
     "iopub.status.idle": "2022-12-07T15:27:47.047011Z",
     "shell.execute_reply": "2022-12-07T15:27:47.045990Z"
    }
   },
   "outputs": [],
   "source": [
    "# rank using mutual_info_classif\n",
    "X_fs, fs = select_features(X_inp, y, mutual_info_classif)"
   ]
  },
  {
   "cell_type": "code",
   "execution_count": 47,
   "id": "418becb1",
   "metadata": {
    "execution": {
     "iopub.execute_input": "2022-12-07T15:27:47.051453Z",
     "iopub.status.busy": "2022-12-07T15:27:47.050846Z",
     "iopub.status.idle": "2022-12-07T15:27:47.057460Z",
     "shell.execute_reply": "2022-12-07T15:27:47.056654Z"
    }
   },
   "outputs": [
    {
     "name": "stdout",
     "output_type": "stream",
     "text": [
      "Feature size: 0.294949\n",
      "Feature created_at_day: 0.286521\n",
      "Feature created_at_month: 0.562814\n",
      "Feature created_at_weekday: 0.155237\n",
      "Feature created_at_hour: 0.000000\n"
     ]
    }
   ],
   "source": [
    "for i in range(len(fs.scores_)):\n",
    "    print(\"Feature %s: %f\" % (X_inp.columns[i], fs.scores_[i]))"
   ]
  },
  {
   "cell_type": "code",
   "execution_count": 48,
   "id": "b08ea157",
   "metadata": {
    "execution": {
     "iopub.execute_input": "2022-12-07T15:27:47.060915Z",
     "iopub.status.busy": "2022-12-07T15:27:47.060459Z",
     "iopub.status.idle": "2022-12-07T15:27:47.220336Z",
     "shell.execute_reply": "2022-12-07T15:27:47.219594Z"
    }
   },
   "outputs": [
    {
     "data": {
      "image/png": "[encoded data removed]",
      "text/plain": [
       "<Figure size 432x288 with 1 Axes>"
      ]
     },
     "metadata": {
      "needs_background": "light"
     },
     "output_type": "display_data"
    }
   ],
   "source": [
    "# visualize scores of all features\n",
    "sns.barplot(x=X_inp.columns, y=fs.scores_)\n",
    "plt.title(\"Feature importance scores for Mutual Information Statistic\")\n",
    "plt.xticks(rotation=60)\n",
    "plt.xlabel(\"Features\")\n",
    "plt.ylabel(\"Scores\")\n",
    "plt.show()"
   ]
  },
  {
   "cell_type": "code",
   "execution_count": 49,
   "id": "176c1d98",
   "metadata": {
    "execution": {
     "iopub.execute_input": "2022-12-07T15:27:47.224030Z",
     "iopub.status.busy": "2022-12-07T15:27:47.223461Z",
     "iopub.status.idle": "2022-12-07T15:27:47.227397Z",
     "shell.execute_reply": "2022-12-07T15:27:47.226780Z"
    }
   },
   "outputs": [],
   "source": [
    "# Lets get a list of the top 10 feature indices based on Mutual Info Stat feature scores\n",
    "top_mis = fs.scores_.argsort()[-10:][::-1]"
   ]
  },
  {
   "cell_type": "code",
   "execution_count": 50,
   "id": "c33dc4f2",
   "metadata": {
    "execution": {
     "iopub.execute_input": "2022-12-07T15:27:47.230698Z",
     "iopub.status.busy": "2022-12-07T15:27:47.230182Z",
     "iopub.status.idle": "2022-12-07T15:27:47.237941Z",
     "shell.execute_reply": "2022-12-07T15:27:47.237323Z"
    }
   },
   "outputs": [],
   "source": [
    "# rank using chi_sq\n",
    "X_fs, fs = select_features(X_inp, y, chi2)"
   ]
  },
  {
   "cell_type": "code",
   "execution_count": 51,
   "id": "313c6906",
   "metadata": {
    "execution": {
     "iopub.execute_input": "2022-12-07T15:27:47.241327Z",
     "iopub.status.busy": "2022-12-07T15:27:47.240800Z",
     "iopub.status.idle": "2022-12-07T15:27:47.245436Z",
     "shell.execute_reply": "2022-12-07T15:27:47.244840Z"
    }
   },
   "outputs": [
    {
     "name": "stdout",
     "output_type": "stream",
     "text": [
      "Feature size: 27.967213\n",
      "Feature created_at_day: 66.087500\n",
      "Feature created_at_month: 0.091362\n",
      "Feature created_at_weekday: 5.304688\n",
      "Feature created_at_hour: 3.253074\n"
     ]
    }
   ],
   "source": [
    "for i in range(len(fs.scores_)):\n",
    "    print(\"Feature %s: %f\" % (X_inp.columns[i], fs.scores_[i]))"
   ]
  },
  {
   "cell_type": "code",
   "execution_count": 52,
   "id": "460daed6",
   "metadata": {
    "execution": {
     "iopub.execute_input": "2022-12-07T15:27:47.248996Z",
     "iopub.status.busy": "2022-12-07T15:27:47.248205Z",
     "iopub.status.idle": "2022-12-07T15:27:47.386265Z",
     "shell.execute_reply": "2022-12-07T15:27:47.385563Z"
    }
   },
   "outputs": [
    {
     "data": {
      "image/png": "[encoded data removed]",
      "text/plain": [
       "<Figure size 432x288 with 1 Axes>"
      ]
     },
     "metadata": {
      "needs_background": "light"
     },
     "output_type": "display_data"
    }
   ],
   "source": [
    "# visualize scores of all features\n",
    "sns.barplot(x=X_inp.columns, y=fs.scores_)\n",
    "plt.title(\"Feature importance scores for Chi Squared\")\n",
    "plt.xticks(rotation=60)\n",
    "plt.xlabel(\"Features\")\n",
    "plt.ylabel(\"Scores\")\n",
    "plt.show()"
   ]
  },
  {
   "cell_type": "code",
   "execution_count": 53,
   "id": "9874b4b4",
   "metadata": {
    "execution": {
     "iopub.execute_input": "2022-12-07T15:27:47.390212Z",
     "iopub.status.busy": "2022-12-07T15:27:47.389379Z",
     "iopub.status.idle": "2022-12-07T15:27:47.393488Z",
     "shell.execute_reply": "2022-12-07T15:27:47.392845Z"
    }
   },
   "outputs": [],
   "source": [
    "# Lets get a list of the top 10 feature indices based on Chi Sq feature scores\n",
    "top_chi2 = fs.scores_.argsort()[-10:][::-1]"
   ]
  },
  {
   "cell_type": "markdown",
   "id": "5861b291",
   "metadata": {},
   "source": [
    "Let's get a Union of the top 10 features derived from features based on both scores of both Mutual Info Statistic and Chi Squared"
   ]
  },
  {
   "cell_type": "code",
   "execution_count": 54,
   "id": "fae59295",
   "metadata": {
    "execution": {
     "iopub.execute_input": "2022-12-07T15:27:47.397319Z",
     "iopub.status.busy": "2022-12-07T15:27:47.396507Z",
     "iopub.status.idle": "2022-12-07T15:27:47.402746Z",
     "shell.execute_reply": "2022-12-07T15:27:47.402128Z"
    }
   },
   "outputs": [
    {
     "name": "stdout",
     "output_type": "stream",
     "text": [
      "5\n"
     ]
    },
    {
     "data": {
      "text/plain": [
       "{0, 1, 2, 3, 4}"
      ]
     },
     "execution_count": 54,
     "metadata": {},
     "output_type": "execute_result"
    }
   ],
   "source": [
    "union = set(top_mis).union(set(top_chi2))\n",
    "print(len(union))\n",
    "union"
   ]
  },
  {
   "cell_type": "code",
   "execution_count": 55,
   "id": "4778b695-9ec8-4d9f-a1dd-26d749b43a95",
   "metadata": {
    "execution": {
     "iopub.execute_input": "2022-12-07T15:27:47.406329Z",
     "iopub.status.busy": "2022-12-07T15:27:47.405540Z",
     "iopub.status.idle": "2022-12-07T15:27:47.410956Z",
     "shell.execute_reply": "2022-12-07T15:27:47.410320Z"
    }
   },
   "outputs": [
    {
     "data": {
      "text/plain": [
       "['size',\n",
       " 'created_at_day',\n",
       " 'created_at_month',\n",
       " 'created_at_weekday',\n",
       " 'created_at_hour']"
      ]
     },
     "execution_count": 55,
     "metadata": {},
     "output_type": "execute_result"
    }
   ],
   "source": [
    "selected_cat_features = [cat_features[i] for i in union]\n",
    "selected_cat_features"
   ]
  },
  {
   "cell_type": "code",
   "execution_count": 56,
   "id": "5b0ce173",
   "metadata": {
    "execution": {
     "iopub.execute_input": "2022-12-07T15:27:47.414540Z",
     "iopub.status.busy": "2022-12-07T15:27:47.413741Z",
     "iopub.status.idle": "2022-12-07T15:27:47.417453Z",
     "shell.execute_reply": "2022-12-07T15:27:47.416819Z"
    }
   },
   "outputs": [],
   "source": [
    "# update list of features to keep for training\n",
    "selected_features += selected_cat_features"
   ]
  },
  {
   "cell_type": "markdown",
   "id": "33f4387d",
   "metadata": {},
   "source": [
    "### Numerical Features\n",
    "\n",
    "Now, lets try to determine what numerical featuers are powerful influencers for time to merge of a PR"
   ]
  },
  {
   "cell_type": "code",
   "execution_count": 57,
   "id": "29683916-4ef7-474a-80ac-11a5d210b6fa",
   "metadata": {
    "execution": {
     "iopub.execute_input": "2022-12-07T15:27:47.421271Z",
     "iopub.status.busy": "2022-12-07T15:27:47.420457Z",
     "iopub.status.idle": "2022-12-07T15:27:47.424368Z",
     "shell.execute_reply": "2022-12-07T15:27:47.423715Z"
    }
   },
   "outputs": [],
   "source": [
    "numerical_features = [\n",
    "    \"changed_files_number\",\n",
    "    \"body_size\",\n",
    "    \"commits_number\",\n",
    "    \"ttm_class\",\n",
    "]"
   ]
  },
  {
   "cell_type": "code",
   "execution_count": 58,
   "id": "b0d608dd",
   "metadata": {
    "execution": {
     "iopub.execute_input": "2022-12-07T15:27:47.427818Z",
     "iopub.status.busy": "2022-12-07T15:27:47.427270Z",
     "iopub.status.idle": "2022-12-07T15:27:47.436715Z",
     "shell.execute_reply": "2022-12-07T15:27:47.436063Z"
    }
   },
   "outputs": [
    {
     "data": {
      "text/html": [
       "<div>\n",
       "<style scoped>\n",
       "    .dataframe tbody tr th:only-of-type {\n",
       "        vertical-align: middle;\n",
       "    }\n",
       "\n",
       "    .dataframe tbody tr th {\n",
       "        vertical-align: top;\n",
       "    }\n",
       "\n",
       "    .dataframe thead th {\n",
       "        text-align: right;\n",
       "    }\n",
       "</style>\n",
       "<table border=\"1\" class=\"dataframe\">\n",
       "  <thead>\n",
       "    <tr style=\"text-align: right;\">\n",
       "      <th></th>\n",
       "      <th>changed_files_number</th>\n",
       "      <th>body_size</th>\n",
       "      <th>commits_number</th>\n",
       "      <th>ttm_class</th>\n",
       "    </tr>\n",
       "  </thead>\n",
       "  <tbody>\n",
       "    <tr>\n",
       "      <th>0</th>\n",
       "      <td>2</td>\n",
       "      <td>41</td>\n",
       "      <td>1</td>\n",
       "      <td>7</td>\n",
       "    </tr>\n",
       "    <tr>\n",
       "      <th>1</th>\n",
       "      <td>2</td>\n",
       "      <td>1</td>\n",
       "      <td>4</td>\n",
       "      <td>3</td>\n",
       "    </tr>\n",
       "    <tr>\n",
       "      <th>2</th>\n",
       "      <td>1</td>\n",
       "      <td>1</td>\n",
       "      <td>1</td>\n",
       "      <td>9</td>\n",
       "    </tr>\n",
       "    <tr>\n",
       "      <th>3</th>\n",
       "      <td>2</td>\n",
       "      <td>2</td>\n",
       "      <td>3</td>\n",
       "      <td>9</td>\n",
       "    </tr>\n",
       "    <tr>\n",
       "      <th>4</th>\n",
       "      <td>1</td>\n",
       "      <td>53</td>\n",
       "      <td>1</td>\n",
       "      <td>1</td>\n",
       "    </tr>\n",
       "  </tbody>\n",
       "</table>\n",
       "</div>"
      ],
      "text/plain": [
       "   changed_files_number  body_size  commits_number  ttm_class\n",
       "0                     2         41               1          7\n",
       "1                     2          1               4          3\n",
       "2                     1          1               1          9\n",
       "3                     2          2               3          9\n",
       "4                     1         53               1          1"
      ]
     },
     "execution_count": 58,
     "metadata": {},
     "output_type": "execute_result"
    }
   ],
   "source": [
    "numerical_df = feature_df[numerical_features]\n",
    "numerical_df.head()"
   ]
  },
  {
   "cell_type": "code",
   "execution_count": 59,
   "id": "9ff2919e",
   "metadata": {
    "execution": {
     "iopub.execute_input": "2022-12-07T15:27:47.440178Z",
     "iopub.status.busy": "2022-12-07T15:27:47.439612Z",
     "iopub.status.idle": "2022-12-07T15:27:47.444394Z",
     "shell.execute_reply": "2022-12-07T15:27:47.443735Z"
    }
   },
   "outputs": [],
   "source": [
    "# split into input features and target\n",
    "X_inp = numerical_df.drop(columns=[\"ttm_class\"])\n",
    "y = numerical_df[\"ttm_class\"]"
   ]
  },
  {
   "cell_type": "code",
   "execution_count": 60,
   "id": "cc733746",
   "metadata": {
    "execution": {
     "iopub.execute_input": "2022-12-07T15:27:47.447821Z",
     "iopub.status.busy": "2022-12-07T15:27:47.447167Z",
     "iopub.status.idle": "2022-12-07T15:27:47.586918Z",
     "shell.execute_reply": "2022-12-07T15:27:47.586219Z"
    },
    "tags": []
   },
   "outputs": [
    {
     "data": {
      "image/png": "[encoded data removed]",
      "text/plain": [
       "<Figure size 432x288 with 1 Axes>"
      ]
     },
     "metadata": {
      "needs_background": "light"
     },
     "output_type": "display_data"
    }
   ],
   "source": [
    "# create k best feature selector object based on mutual information\n",
    "numerical_feats_mi, k_best_selector_mi = select_features(\n",
    "    X_inp,\n",
    "    y,\n",
    "    partial(\n",
    "        mutual_info_classif,\n",
    "        discrete_features=False,\n",
    "        random_state=42,\n",
    "        n_neighbors=3,\n",
    "    ),\n",
    ")\n",
    "\n",
    "# visualize the MI scores of all features\n",
    "sns.barplot(x=X_inp.columns, y=k_best_selector_mi.scores_)\n",
    "plt.title(\"Feature importance based on Mutual Information\")\n",
    "plt.xticks(rotation=60)\n",
    "plt.xlabel(\"Features\")\n",
    "plt.ylabel(\"Scores\")\n",
    "plt.show()"
   ]
  },
  {
   "cell_type": "code",
   "execution_count": 61,
   "id": "7bdf2192",
   "metadata": {
    "execution": {
     "iopub.execute_input": "2022-12-07T15:27:47.590427Z",
     "iopub.status.busy": "2022-12-07T15:27:47.589963Z",
     "iopub.status.idle": "2022-12-07T15:27:47.767377Z",
     "shell.execute_reply": "2022-12-07T15:27:47.766691Z"
    }
   },
   "outputs": [
    {
     "data": {
      "image/png": "[encoded data removed]",
      "text/plain": [
       "<Figure size 432x288 with 2 Axes>"
      ]
     },
     "metadata": {
      "needs_background": "light"
     },
     "output_type": "display_data"
    }
   ],
   "source": [
    "# create k best feature selector object based on anova f statistic\n",
    "numerical_feats_f, k_best_selector_f = select_features(\n",
    "    X_inp,\n",
    "    y,\n",
    "    f_classif,\n",
    ")\n",
    "\n",
    "# visualize the f stat scores and pvalues of all features\n",
    "fig, axes = plt.subplots(2, 1, sharex=True)\n",
    "fig.suptitle(\"Feature importance based on ANOVA F stat\")\n",
    "sns.barplot(x=X_inp.columns, y=k_best_selector_f.scores_, ax=axes[0])\n",
    "sns.barplot(x=X_inp.columns, y=k_best_selector_f.pvalues_, ax=axes[1])\n",
    "plt.xticks(rotation=60)\n",
    "plt.xlabel(\"Features\")\n",
    "axes[0].set_ylabel(\"Scores\")\n",
    "axes[1].set_ylabel(\"p-values\")\n",
    "plt.show()"
   ]
  },
  {
   "cell_type": "code",
   "execution_count": 62,
   "id": "6134ddb1-994f-42ee-8a68-7111540b6481",
   "metadata": {
    "execution": {
     "iopub.execute_input": "2022-12-07T15:27:47.771179Z",
     "iopub.status.busy": "2022-12-07T15:27:47.770625Z",
     "iopub.status.idle": "2022-12-07T15:27:47.776685Z",
     "shell.execute_reply": "2022-12-07T15:27:47.776005Z"
    }
   },
   "outputs": [
    {
     "data": {
      "text/plain": [
       "{0, 1, 2}"
      ]
     },
     "execution_count": 62,
     "metadata": {},
     "output_type": "execute_result"
    }
   ],
   "source": [
    "top_mi = k_best_selector_mi.scores_.argsort()[-3:][::-1]\n",
    "top_anova = k_best_selector_f.scores_.argsort()[-3:][::-1]\n",
    "union = set(top_mi).union(set(top_anova))\n",
    "union"
   ]
  },
  {
   "cell_type": "code",
   "execution_count": 63,
   "id": "2d5a9368-bfaf-4348-b140-13e6d725f59c",
   "metadata": {
    "execution": {
     "iopub.execute_input": "2022-12-07T15:27:47.780190Z",
     "iopub.status.busy": "2022-12-07T15:27:47.779634Z",
     "iopub.status.idle": "2022-12-07T15:27:47.784589Z",
     "shell.execute_reply": "2022-12-07T15:27:47.784001Z"
    }
   },
   "outputs": [
    {
     "data": {
      "text/plain": [
       "['changed_files_number', 'body_size', 'commits_number']"
      ]
     },
     "execution_count": 63,
     "metadata": {},
     "output_type": "execute_result"
    }
   ],
   "source": [
    "selected_num_features = [numerical_features[i] for i in union]\n",
    "selected_num_features"
   ]
  },
  {
   "cell_type": "code",
   "execution_count": 64,
   "id": "cc984a01",
   "metadata": {
    "execution": {
     "iopub.execute_input": "2022-12-07T15:27:47.787967Z",
     "iopub.status.busy": "2022-12-07T15:27:47.787437Z",
     "iopub.status.idle": "2022-12-07T15:27:47.790845Z",
     "shell.execute_reply": "2022-12-07T15:27:47.790255Z"
    }
   },
   "outputs": [],
   "source": [
    "# update list of features to keep for training\n",
    "selected_features += selected_num_features"
   ]
  },
  {
   "cell_type": "markdown",
   "id": "11a86b36",
   "metadata": {},
   "source": [
    "### Count Vector Type Features\n",
    "\n",
    "Finally, lets determine the most important features from the count vector type columns."
   ]
  },
  {
   "cell_type": "code",
   "execution_count": 65,
   "id": "f07d0334",
   "metadata": {
    "execution": {
     "iopub.execute_input": "2022-12-07T15:27:47.794447Z",
     "iopub.status.busy": "2022-12-07T15:27:47.793948Z",
     "iopub.status.idle": "2022-12-07T15:27:47.799418Z",
     "shell.execute_reply": "2022-12-07T15:27:47.798807Z"
    },
    "scrolled": true
   },
   "outputs": [],
   "source": [
    "# explode the list column so that there is 1 column representing frequency of each file type\n",
    "filetype_df = pd.DataFrame(feature_df.changed_file_type_vec.to_list())\n",
    "filetype_df.index = feature_df.index\n",
    "filetype_df.columns = [f\"filetype_{f}\" for f in top_fileextensions]"
   ]
  },
  {
   "cell_type": "code",
   "execution_count": 66,
   "id": "35f93d4e",
   "metadata": {
    "execution": {
     "iopub.execute_input": "2022-12-07T15:27:47.803034Z",
     "iopub.status.busy": "2022-12-07T15:27:47.802511Z",
     "iopub.status.idle": "2022-12-07T15:27:47.812727Z",
     "shell.execute_reply": "2022-12-07T15:27:47.812103Z"
    }
   },
   "outputs": [
    {
     "data": {
      "text/plain": [
       "filetype_.txt             0.373649\n",
       "filetype_.yaml            0.363663\n",
       "filetype_.md              0.298142\n",
       "filetype_LICENSE          0.206725\n",
       "filetype_.ipynb           0.194111\n",
       "filetype_.py              0.173720\n",
       "filetype_Dockerfile      -0.041345\n",
       "filetype_Containerfile   -0.103362\n",
       "filetype_.yml            -0.197203\n",
       "filetype_.sh             -0.365257\n",
       "dtype: float64"
      ]
     },
     "execution_count": 66,
     "metadata": {},
     "output_type": "execute_result"
    }
   ],
   "source": [
    "# compute correlation with ttm\n",
    "corr = filetype_df.corrwith(feature_df[\"ttm_class\"])\n",
    "corr.sort_values(ascending=False)"
   ]
  },
  {
   "cell_type": "code",
   "execution_count": 67,
   "id": "d5ae2981",
   "metadata": {
    "execution": {
     "iopub.execute_input": "2022-12-07T15:27:47.816287Z",
     "iopub.status.busy": "2022-12-07T15:27:47.815731Z",
     "iopub.status.idle": "2022-12-07T15:27:47.822317Z",
     "shell.execute_reply": "2022-12-07T15:27:47.821699Z"
    }
   },
   "outputs": [
    {
     "data": {
      "text/plain": [
       "filetype_.ipynb           0.194111\n",
       "filetype_.yaml            0.363663\n",
       "filetype_.py              0.173720\n",
       "filetype_.sh             -0.365257\n",
       "filetype_.yml            -0.197203\n",
       "filetype_.txt             0.373649\n",
       "filetype_.md              0.298142\n",
       "filetype_LICENSE          0.206725\n",
       "filetype_Dockerfile      -0.041345\n",
       "filetype_Containerfile   -0.103362\n",
       "dtype: float64"
      ]
     },
     "execution_count": 67,
     "metadata": {},
     "output_type": "execute_result"
    }
   ],
   "source": [
    "corr[corr.abs() > 0.01]"
   ]
  },
  {
   "cell_type": "code",
   "execution_count": 68,
   "id": "9d5e19bd",
   "metadata": {
    "execution": {
     "iopub.execute_input": "2022-12-07T15:27:47.825789Z",
     "iopub.status.busy": "2022-12-07T15:27:47.825287Z",
     "iopub.status.idle": "2022-12-07T15:27:47.830315Z",
     "shell.execute_reply": "2022-12-07T15:27:47.829719Z"
    }
   },
   "outputs": [],
   "source": [
    "# update list of features to keep for training\n",
    "# take everything that has more than 0.01 correlation magnitude\n",
    "filetype_keep_cols = corr[corr.abs() > 0.01].index.tolist()\n",
    "selected_features += filetype_keep_cols\n",
    "\n",
    "# only keep the relevant columns now\n",
    "filetype_df = filetype_df[filetype_keep_cols]"
   ]
  },
  {
   "cell_type": "code",
   "execution_count": 69,
   "id": "2eab2fb8-ee9e-4a4e-9d2e-7629f9c56cb9",
   "metadata": {
    "execution": {
     "iopub.execute_input": "2022-12-07T15:27:47.833644Z",
     "iopub.status.busy": "2022-12-07T15:27:47.833152Z",
     "iopub.status.idle": "2022-12-07T15:27:47.838013Z",
     "shell.execute_reply": "2022-12-07T15:27:47.837449Z"
    }
   },
   "outputs": [
    {
     "data": {
      "text/plain": [
       "['.ipynb',\n",
       " '.yaml',\n",
       " '.py',\n",
       " '.sh',\n",
       " '.yml',\n",
       " '.txt',\n",
       " '.md',\n",
       " 'LICENSE',\n",
       " 'Dockerfile',\n",
       " 'Containerfile']"
      ]
     },
     "execution_count": 69,
     "metadata": {},
     "output_type": "execute_result"
    }
   ],
   "source": [
    "filetype_keep_cols = [i[9:] for i in filetype_keep_cols]\n",
    "filetype_keep_cols"
   ]
  },
  {
   "cell_type": "code",
   "execution_count": 70,
   "id": "2b2da9ab-de61-44f5-91f1-a897e8f7a962",
   "metadata": {
    "execution": {
     "iopub.execute_input": "2022-12-07T15:27:47.841272Z",
     "iopub.status.busy": "2022-12-07T15:27:47.840783Z",
     "iopub.status.idle": "2022-12-07T15:27:47.844664Z",
     "shell.execute_reply": "2022-12-07T15:27:47.844085Z"
    }
   },
   "outputs": [],
   "source": [
    "filetype_keep_cols_df = pd.DataFrame(filetype_keep_cols, columns=[\"filetype\"])"
   ]
  },
  {
   "cell_type": "code",
   "execution_count": 71,
   "id": "773682ad-cda8-42ec-9275-dc611004d913",
   "metadata": {
    "execution": {
     "iopub.execute_input": "2022-12-07T15:27:47.848054Z",
     "iopub.status.busy": "2022-12-07T15:27:47.847529Z",
     "iopub.status.idle": "2022-12-07T15:27:47.854368Z",
     "shell.execute_reply": "2022-12-07T15:27:47.853654Z"
    }
   },
   "outputs": [
    {
     "data": {
      "text/html": [
       "<div>\n",
       "<style scoped>\n",
       "    .dataframe tbody tr th:only-of-type {\n",
       "        vertical-align: middle;\n",
       "    }\n",
       "\n",
       "    .dataframe tbody tr th {\n",
       "        vertical-align: top;\n",
       "    }\n",
       "\n",
       "    .dataframe thead th {\n",
       "        text-align: right;\n",
       "    }\n",
       "</style>\n",
       "<table border=\"1\" class=\"dataframe\">\n",
       "  <thead>\n",
       "    <tr style=\"text-align: right;\">\n",
       "      <th></th>\n",
       "      <th>filetype</th>\n",
       "    </tr>\n",
       "  </thead>\n",
       "  <tbody>\n",
       "    <tr>\n",
       "      <th>0</th>\n",
       "      <td>.ipynb</td>\n",
       "    </tr>\n",
       "    <tr>\n",
       "      <th>1</th>\n",
       "      <td>.yaml</td>\n",
       "    </tr>\n",
       "    <tr>\n",
       "      <th>2</th>\n",
       "      <td>.py</td>\n",
       "    </tr>\n",
       "    <tr>\n",
       "      <th>3</th>\n",
       "      <td>.sh</td>\n",
       "    </tr>\n",
       "    <tr>\n",
       "      <th>4</th>\n",
       "      <td>.yml</td>\n",
       "    </tr>\n",
       "    <tr>\n",
       "      <th>5</th>\n",
       "      <td>.txt</td>\n",
       "    </tr>\n",
       "    <tr>\n",
       "      <th>6</th>\n",
       "      <td>.md</td>\n",
       "    </tr>\n",
       "    <tr>\n",
       "      <th>7</th>\n",
       "      <td>LICENSE</td>\n",
       "    </tr>\n",
       "    <tr>\n",
       "      <th>8</th>\n",
       "      <td>Dockerfile</td>\n",
       "    </tr>\n",
       "    <tr>\n",
       "      <th>9</th>\n",
       "      <td>Containerfile</td>\n",
       "    </tr>\n",
       "  </tbody>\n",
       "</table>\n",
       "</div>"
      ],
      "text/plain": [
       "        filetype\n",
       "0         .ipynb\n",
       "1          .yaml\n",
       "2            .py\n",
       "3            .sh\n",
       "4           .yml\n",
       "5           .txt\n",
       "6            .md\n",
       "7        LICENSE\n",
       "8     Dockerfile\n",
       "9  Containerfile"
      ]
     },
     "execution_count": 71,
     "metadata": {},
     "output_type": "execute_result"
    }
   ],
   "source": [
    "filetype_keep_cols_df"
   ]
  },
  {
   "cell_type": "code",
   "execution_count": 72,
   "id": "7333e449-4e2a-42aa-b728-3f36d205ed1f",
   "metadata": {
    "execution": {
     "iopub.execute_input": "2022-12-07T15:27:47.857691Z",
     "iopub.status.busy": "2022-12-07T15:27:47.857193Z",
     "iopub.status.idle": "2022-12-07T15:27:48.219347Z",
     "shell.execute_reply": "2022-12-07T15:27:48.218493Z"
    }
   },
   "outputs": [
    {
     "data": {
      "text/plain": [
       "{'ResponseMetadata': {'RequestId': 'lbdt10aw-g1m31l-vny',\n",
       "  'HostId': 'lbdt10aw-g1m31l-vny',\n",
       "  'HTTPStatusCode': 200,\n",
       "  'HTTPHeaders': {'x-amz-request-id': 'lbdt10aw-g1m31l-vny',\n",
       "   'x-amz-id-2': 'lbdt10aw-g1m31l-vny',\n",
       "   'access-control-allow-origin': '*',\n",
       "   'access-control-allow-credentials': 'true',\n",
       "   'access-control-allow-methods': 'GET,POST,PUT,DELETE,OPTIONS',\n",
       "   'access-control-allow-headers': 'Content-Type,Content-MD5,Authorization,X-Amz-User-Agent,X-Amz-Date,ETag,X-Amz-Content-Sha256',\n",
       "   'access-control-expose-headers': 'ETag,X-Amz-Version-Id',\n",
       "   'etag': '\"13c872c2169c9f1e43d1da390ef4ad2e\"',\n",
       "   'date': 'Wed, 07 Dec 2022 15:27:48 GMT',\n",
       "   'keep-alive': 'timeout=5',\n",
       "   'content-length': '0',\n",
       "   'set-cookie': '1a4aa612fe797ac8466d7ee00e5520d5=b9a4e3efe932781180a9a8945a639f83; path=/; HttpOnly; Secure; SameSite=None'},\n",
       "  'RetryAttempts': 0},\n",
       " 'ETag': '\"13c872c2169c9f1e43d1da390ef4ad2e\"'}"
      ]
     },
     "execution_count": 72,
     "metadata": {},
     "output_type": "execute_result"
    }
   ],
   "source": [
    "FILETYPE_FEATURES_FILENAME = os.path.join(ORG + REPO + \"FILETYPE.parquet\")\n",
    "FILETYPE_FEATURES_KEY = os.path.join(s3_input_data_path, ORG, REPO, \"features\")\n",
    "cc.upload_to_ceph(\n",
    "    filetype_keep_cols_df, FILETYPE_FEATURES_KEY, FILETYPE_FEATURES_FILENAME\n",
    ")"
   ]
  },
  {
   "cell_type": "code",
   "execution_count": 73,
   "id": "618842b5",
   "metadata": {
    "execution": {
     "iopub.execute_input": "2022-12-07T15:27:48.223198Z",
     "iopub.status.busy": "2022-12-07T15:27:48.222752Z",
     "iopub.status.idle": "2022-12-07T15:27:48.231007Z",
     "shell.execute_reply": "2022-12-07T15:27:48.230302Z"
    }
   },
   "outputs": [],
   "source": [
    "# explode the list column so that there is 1 column representing frequency of each word\n",
    "title_wordcount_df = pd.DataFrame(feature_df.title_word_counts_vec.to_list())\n",
    "\n",
    "title_wordcount_df.index = feature_df.index\n",
    "title_wordcount_df.columns = [f\"title_wordcount_{w}\" for w in unique_words]"
   ]
  },
  {
   "cell_type": "code",
   "execution_count": 74,
   "id": "457f28ed",
   "metadata": {
    "execution": {
     "iopub.execute_input": "2022-12-07T15:27:48.234488Z",
     "iopub.status.busy": "2022-12-07T15:27:48.234059Z",
     "iopub.status.idle": "2022-12-07T15:27:48.257077Z",
     "shell.execute_reply": "2022-12-07T15:27:48.256166Z"
    },
    "scrolled": true
   },
   "outputs": [
    {
     "data": {
      "text/plain": [
       "title_wordcount_pr               0.412066\n",
       "title_wordcount_workflow         0.298142\n",
       "title_wordcount_functionality    0.298142\n",
       "title_wordcount_add              0.241773\n",
       "title_wordcount_api              0.208804\n",
       "title_wordcount_use              0.206725\n",
       "title_wordcount_inputs           0.206725\n",
       "title_wordcount_srcopsmetrics    0.206725\n",
       "title_wordcount_data             0.206725\n",
       "title_wordcount_pygithub         0.206725\n",
       "title_wordcount_changed          0.206725\n",
       "title_wordcount_testing          0.206725\n",
       "title_wordcount_merge            0.206725\n",
       "title_wordcount_download         0.206725\n",
       "title_wordcount_trigger          0.206725\n",
       "title_wordcount_sample           0.206725\n",
       "title_wordcount_upstream         0.206725\n",
       "title_wordcount_notebook         0.206725\n",
       "title_wordcount_optimization     0.144707\n",
       "title_wordcount_comment          0.144707\n",
       "title_wordcount_inference        0.129352\n",
       "title_wordcount_rate             0.119257\n",
       "title_wordcount_github           0.119257\n",
       "title_wordcount_test             0.110554\n",
       "title_wordcount_text             0.082690\n",
       "title_wordcount_output           0.082690\n",
       "title_wordcount_new              0.082690\n",
       "title_wordcount_yaml             0.076928\n",
       "title_wordcount_handling         0.020672\n",
       "title_wordcount_limit            0.020672\n",
       "title_wordcount_minor            0.020672\n",
       "title_wordcount_updates          0.020672\n",
       "title_wordcount_calls            0.020672\n",
       "title_wordcount_number           0.020672\n",
       "title_wordcount_added            0.020672\n",
       "title_wordcount_training        -0.041345\n",
       "title_wordcount_cleanup         -0.041345\n",
       "title_wordcount_modes           -0.041345\n",
       "title_wordcount_mode            -0.059628\n",
       "title_wordcount_action          -0.087917\n",
       "title_wordcount_basic           -0.103362\n",
       "title_wordcount_update          -0.149071\n",
       "title_wordcount_clean           -0.165380\n",
       "title_wordcount_model           -0.165380\n",
       "title_wordcount_best            -0.165380\n",
       "title_wordcount_feature         -0.165380\n",
       "title_wordcount_notebook3       -0.165380\n",
       "title_wordcount_engineering     -0.165380\n",
       "title_wordcount_choose          -0.165380\n",
       "title_wordcount_fix             -0.193793\n",
       "title_wordcount_sh              -0.219793\n",
       "title_wordcount_entrypoint      -0.219793\n",
       "title_wordcount_yml             -0.227397\n",
       "title_wordcount_train           -0.289414\n",
       "title_wordcount_callingprs      -0.289414\n",
       "title_wordcount_condition       -0.351432\n",
       "title_wordcount_fixed           -0.351432\n",
       "title_wordcount_size            -0.351432\n",
       "title_wordcount_prs             -0.351432\n",
       "dtype: float64"
      ]
     },
     "execution_count": 74,
     "metadata": {},
     "output_type": "execute_result"
    }
   ],
   "source": [
    "# compute correlation with ttm\n",
    "corr = title_wordcount_df.corrwith(feature_df[\"ttm_class\"])\n",
    "corr = corr.dropna()\n",
    "corr.sort_values(ascending=False)"
   ]
  },
  {
   "cell_type": "code",
   "execution_count": 75,
   "id": "0f1495a6",
   "metadata": {
    "execution": {
     "iopub.execute_input": "2022-12-07T15:27:48.260974Z",
     "iopub.status.busy": "2022-12-07T15:27:48.260510Z",
     "iopub.status.idle": "2022-12-07T15:27:48.267940Z",
     "shell.execute_reply": "2022-12-07T15:27:48.267183Z"
    }
   },
   "outputs": [
    {
     "data": {
      "text/plain": [
       "title_wordcount_action          -0.087917\n",
       "title_wordcount_add              0.241773\n",
       "title_wordcount_api              0.208804\n",
       "title_wordcount_basic           -0.103362\n",
       "title_wordcount_best            -0.165380\n",
       "title_wordcount_callingprs      -0.289414\n",
       "title_wordcount_changed          0.206725\n",
       "title_wordcount_choose          -0.165380\n",
       "title_wordcount_clean           -0.165380\n",
       "title_wordcount_cleanup         -0.041345\n",
       "title_wordcount_comment          0.144707\n",
       "title_wordcount_condition       -0.351432\n",
       "title_wordcount_data             0.206725\n",
       "title_wordcount_download         0.206725\n",
       "title_wordcount_engineering     -0.165380\n",
       "title_wordcount_entrypoint      -0.219793\n",
       "title_wordcount_feature         -0.165380\n",
       "title_wordcount_fix             -0.193793\n",
       "title_wordcount_fixed           -0.351432\n",
       "title_wordcount_functionality    0.298142\n",
       "title_wordcount_github           0.119257\n",
       "title_wordcount_inference        0.129352\n",
       "title_wordcount_inputs           0.206725\n",
       "title_wordcount_merge            0.206725\n",
       "title_wordcount_mode            -0.059628\n",
       "title_wordcount_model           -0.165380\n",
       "title_wordcount_modes           -0.041345\n",
       "title_wordcount_new              0.082690\n",
       "title_wordcount_notebook         0.206725\n",
       "title_wordcount_notebook3       -0.165380\n",
       "title_wordcount_optimization     0.144707\n",
       "title_wordcount_output           0.082690\n",
       "title_wordcount_pr               0.412066\n",
       "title_wordcount_prs             -0.351432\n",
       "title_wordcount_pygithub         0.206725\n",
       "title_wordcount_rate             0.119257\n",
       "title_wordcount_sample           0.206725\n",
       "title_wordcount_sh              -0.219793\n",
       "title_wordcount_size            -0.351432\n",
       "title_wordcount_srcopsmetrics    0.206725\n",
       "title_wordcount_test             0.110554\n",
       "title_wordcount_testing          0.206725\n",
       "title_wordcount_text             0.082690\n",
       "title_wordcount_train           -0.289414\n",
       "title_wordcount_training        -0.041345\n",
       "title_wordcount_trigger          0.206725\n",
       "title_wordcount_update          -0.149071\n",
       "title_wordcount_upstream         0.206725\n",
       "title_wordcount_use              0.206725\n",
       "title_wordcount_workflow         0.298142\n",
       "title_wordcount_yaml             0.076928\n",
       "title_wordcount_yml             -0.227397\n",
       "dtype: float64"
      ]
     },
     "execution_count": 75,
     "metadata": {},
     "output_type": "execute_result"
    }
   ],
   "source": [
    "corr[corr.abs() > 0.04]"
   ]
  },
  {
   "cell_type": "code",
   "execution_count": 76,
   "id": "624b3504",
   "metadata": {
    "execution": {
     "iopub.execute_input": "2022-12-07T15:27:48.271629Z",
     "iopub.status.busy": "2022-12-07T15:27:48.270995Z",
     "iopub.status.idle": "2022-12-07T15:27:48.276623Z",
     "shell.execute_reply": "2022-12-07T15:27:48.275850Z"
    }
   },
   "outputs": [],
   "source": [
    "# update list of features to keep for training\n",
    "# take everything that has more than 0.01 correlation magnitude\n",
    "title_word_keep_cols = corr[corr.abs() > 0.04].index.tolist()\n",
    "selected_features += title_word_keep_cols\n",
    "\n",
    "title_wordcount_df = title_wordcount_df[title_word_keep_cols]"
   ]
  },
  {
   "cell_type": "code",
   "execution_count": 77,
   "id": "45cd6a78-361c-444f-8065-4127f2e29313",
   "metadata": {
    "execution": {
     "iopub.execute_input": "2022-12-07T15:27:48.280388Z",
     "iopub.status.busy": "2022-12-07T15:27:48.279713Z",
     "iopub.status.idle": "2022-12-07T15:27:48.287740Z",
     "shell.execute_reply": "2022-12-07T15:27:48.287078Z"
    }
   },
   "outputs": [
    {
     "data": {
      "text/plain": [
       "['action',\n",
       " 'add',\n",
       " 'api',\n",
       " 'basic',\n",
       " 'best',\n",
       " 'callingprs',\n",
       " 'changed',\n",
       " 'choose',\n",
       " 'clean',\n",
       " 'cleanup',\n",
       " 'comment',\n",
       " 'condition',\n",
       " 'data',\n",
       " 'download',\n",
       " 'engineering',\n",
       " 'entrypoint',\n",
       " 'feature',\n",
       " 'fix',\n",
       " 'fixed',\n",
       " 'functionality',\n",
       " 'github',\n",
       " 'inference',\n",
       " 'inputs',\n",
       " 'merge',\n",
       " 'mode',\n",
       " 'model',\n",
       " 'modes',\n",
       " 'new',\n",
       " 'notebook',\n",
       " 'notebook3',\n",
       " 'optimization',\n",
       " 'output',\n",
       " 'pr',\n",
       " 'prs',\n",
       " 'pygithub',\n",
       " 'rate',\n",
       " 'sample',\n",
       " 'sh',\n",
       " 'size',\n",
       " 'srcopsmetrics',\n",
       " 'test',\n",
       " 'testing',\n",
       " 'text',\n",
       " 'train',\n",
       " 'training',\n",
       " 'trigger',\n",
       " 'update',\n",
       " 'upstream',\n",
       " 'use',\n",
       " 'workflow',\n",
       " 'yaml',\n",
       " 'yml']"
      ]
     },
     "execution_count": 77,
     "metadata": {},
     "output_type": "execute_result"
    }
   ],
   "source": [
    "title_word_keep_cols = [i[16:] for i in title_word_keep_cols]\n",
    "title_word_keep_cols"
   ]
  },
  {
   "cell_type": "code",
   "execution_count": 78,
   "id": "8b937135-f983-4d6c-961e-f9c7158d108c",
   "metadata": {
    "execution": {
     "iopub.execute_input": "2022-12-07T15:27:48.291312Z",
     "iopub.status.busy": "2022-12-07T15:27:48.290908Z",
     "iopub.status.idle": "2022-12-07T15:27:48.296365Z",
     "shell.execute_reply": "2022-12-07T15:27:48.295689Z"
    }
   },
   "outputs": [],
   "source": [
    "title_word_keep_cols_df = pd.DataFrame(title_word_keep_cols, columns=[\"title\"])"
   ]
  },
  {
   "cell_type": "code",
   "execution_count": 79,
   "id": "63f382a4-5826-4d65-aa9f-5f3b56f1aad9",
   "metadata": {
    "execution": {
     "iopub.execute_input": "2022-12-07T15:27:48.300161Z",
     "iopub.status.busy": "2022-12-07T15:27:48.299575Z",
     "iopub.status.idle": "2022-12-07T15:27:48.309674Z",
     "shell.execute_reply": "2022-12-07T15:27:48.308943Z"
    }
   },
   "outputs": [
    {
     "data": {
      "text/html": [
       "<div>\n",
       "<style scoped>\n",
       "    .dataframe tbody tr th:only-of-type {\n",
       "        vertical-align: middle;\n",
       "    }\n",
       "\n",
       "    .dataframe tbody tr th {\n",
       "        vertical-align: top;\n",
       "    }\n",
       "\n",
       "    .dataframe thead th {\n",
       "        text-align: right;\n",
       "    }\n",
       "</style>\n",
       "<table border=\"1\" class=\"dataframe\">\n",
       "  <thead>\n",
       "    <tr style=\"text-align: right;\">\n",
       "      <th></th>\n",
       "      <th>title</th>\n",
       "    </tr>\n",
       "  </thead>\n",
       "  <tbody>\n",
       "    <tr>\n",
       "      <th>0</th>\n",
       "      <td>action</td>\n",
       "    </tr>\n",
       "    <tr>\n",
       "      <th>1</th>\n",
       "      <td>add</td>\n",
       "    </tr>\n",
       "    <tr>\n",
       "      <th>2</th>\n",
       "      <td>api</td>\n",
       "    </tr>\n",
       "    <tr>\n",
       "      <th>3</th>\n",
       "      <td>basic</td>\n",
       "    </tr>\n",
       "    <tr>\n",
       "      <th>4</th>\n",
       "      <td>best</td>\n",
       "    </tr>\n",
       "    <tr>\n",
       "      <th>5</th>\n",
       "      <td>callingprs</td>\n",
       "    </tr>\n",
       "    <tr>\n",
       "      <th>6</th>\n",
       "      <td>changed</td>\n",
       "    </tr>\n",
       "    <tr>\n",
       "      <th>7</th>\n",
       "      <td>choose</td>\n",
       "    </tr>\n",
       "    <tr>\n",
       "      <th>8</th>\n",
       "      <td>clean</td>\n",
       "    </tr>\n",
       "    <tr>\n",
       "      <th>9</th>\n",
       "      <td>cleanup</td>\n",
       "    </tr>\n",
       "    <tr>\n",
       "      <th>10</th>\n",
       "      <td>comment</td>\n",
       "    </tr>\n",
       "    <tr>\n",
       "      <th>11</th>\n",
       "      <td>condition</td>\n",
       "    </tr>\n",
       "    <tr>\n",
       "      <th>12</th>\n",
       "      <td>data</td>\n",
       "    </tr>\n",
       "    <tr>\n",
       "      <th>13</th>\n",
       "      <td>download</td>\n",
       "    </tr>\n",
       "    <tr>\n",
       "      <th>14</th>\n",
       "      <td>engineering</td>\n",
       "    </tr>\n",
       "    <tr>\n",
       "      <th>15</th>\n",
       "      <td>entrypoint</td>\n",
       "    </tr>\n",
       "    <tr>\n",
       "      <th>16</th>\n",
       "      <td>feature</td>\n",
       "    </tr>\n",
       "    <tr>\n",
       "      <th>17</th>\n",
       "      <td>fix</td>\n",
       "    </tr>\n",
       "    <tr>\n",
       "      <th>18</th>\n",
       "      <td>fixed</td>\n",
       "    </tr>\n",
       "    <tr>\n",
       "      <th>19</th>\n",
       "      <td>functionality</td>\n",
       "    </tr>\n",
       "    <tr>\n",
       "      <th>20</th>\n",
       "      <td>github</td>\n",
       "    </tr>\n",
       "    <tr>\n",
       "      <th>21</th>\n",
       "      <td>inference</td>\n",
       "    </tr>\n",
       "    <tr>\n",
       "      <th>22</th>\n",
       "      <td>inputs</td>\n",
       "    </tr>\n",
       "    <tr>\n",
       "      <th>23</th>\n",
       "      <td>merge</td>\n",
       "    </tr>\n",
       "    <tr>\n",
       "      <th>24</th>\n",
       "      <td>mode</td>\n",
       "    </tr>\n",
       "    <tr>\n",
       "      <th>25</th>\n",
       "      <td>model</td>\n",
       "    </tr>\n",
       "    <tr>\n",
       "      <th>26</th>\n",
       "      <td>modes</td>\n",
       "    </tr>\n",
       "    <tr>\n",
       "      <th>27</th>\n",
       "      <td>new</td>\n",
       "    </tr>\n",
       "    <tr>\n",
       "      <th>28</th>\n",
       "      <td>notebook</td>\n",
       "    </tr>\n",
       "    <tr>\n",
       "      <th>29</th>\n",
       "      <td>notebook3</td>\n",
       "    </tr>\n",
       "    <tr>\n",
       "      <th>30</th>\n",
       "      <td>optimization</td>\n",
       "    </tr>\n",
       "    <tr>\n",
       "      <th>31</th>\n",
       "      <td>output</td>\n",
       "    </tr>\n",
       "    <tr>\n",
       "      <th>32</th>\n",
       "      <td>pr</td>\n",
       "    </tr>\n",
       "    <tr>\n",
       "      <th>33</th>\n",
       "      <td>prs</td>\n",
       "    </tr>\n",
       "    <tr>\n",
       "      <th>34</th>\n",
       "      <td>pygithub</td>\n",
       "    </tr>\n",
       "    <tr>\n",
       "      <th>35</th>\n",
       "      <td>rate</td>\n",
       "    </tr>\n",
       "    <tr>\n",
       "      <th>36</th>\n",
       "      <td>sample</td>\n",
       "    </tr>\n",
       "    <tr>\n",
       "      <th>37</th>\n",
       "      <td>sh</td>\n",
       "    </tr>\n",
       "    <tr>\n",
       "      <th>38</th>\n",
       "      <td>size</td>\n",
       "    </tr>\n",
       "    <tr>\n",
       "      <th>39</th>\n",
       "      <td>srcopsmetrics</td>\n",
       "    </tr>\n",
       "    <tr>\n",
       "      <th>40</th>\n",
       "      <td>test</td>\n",
       "    </tr>\n",
       "    <tr>\n",
       "      <th>41</th>\n",
       "      <td>testing</td>\n",
       "    </tr>\n",
       "    <tr>\n",
       "      <th>42</th>\n",
       "      <td>text</td>\n",
       "    </tr>\n",
       "    <tr>\n",
       "      <th>43</th>\n",
       "      <td>train</td>\n",
       "    </tr>\n",
       "    <tr>\n",
       "      <th>44</th>\n",
       "      <td>training</td>\n",
       "    </tr>\n",
       "    <tr>\n",
       "      <th>45</th>\n",
       "      <td>trigger</td>\n",
       "    </tr>\n",
       "    <tr>\n",
       "      <th>46</th>\n",
       "      <td>update</td>\n",
       "    </tr>\n",
       "    <tr>\n",
       "      <th>47</th>\n",
       "      <td>upstream</td>\n",
       "    </tr>\n",
       "    <tr>\n",
       "      <th>48</th>\n",
       "      <td>use</td>\n",
       "    </tr>\n",
       "    <tr>\n",
       "      <th>49</th>\n",
       "      <td>workflow</td>\n",
       "    </tr>\n",
       "    <tr>\n",
       "      <th>50</th>\n",
       "      <td>yaml</td>\n",
       "    </tr>\n",
       "    <tr>\n",
       "      <th>51</th>\n",
       "      <td>yml</td>\n",
       "    </tr>\n",
       "  </tbody>\n",
       "</table>\n",
       "</div>"
      ],
      "text/plain": [
       "            title\n",
       "0          action\n",
       "1             add\n",
       "2             api\n",
       "3           basic\n",
       "4            best\n",
       "5      callingprs\n",
       "6         changed\n",
       "7          choose\n",
       "8           clean\n",
       "9         cleanup\n",
       "10        comment\n",
       "11      condition\n",
       "12           data\n",
       "13       download\n",
       "14    engineering\n",
       "15     entrypoint\n",
       "16        feature\n",
       "17            fix\n",
       "18          fixed\n",
       "19  functionality\n",
       "20         github\n",
       "21      inference\n",
       "22         inputs\n",
       "23          merge\n",
       "24           mode\n",
       "25          model\n",
       "26          modes\n",
       "27            new\n",
       "28       notebook\n",
       "29      notebook3\n",
       "30   optimization\n",
       "31         output\n",
       "32             pr\n",
       "33            prs\n",
       "34       pygithub\n",
       "35           rate\n",
       "36         sample\n",
       "37             sh\n",
       "38           size\n",
       "39  srcopsmetrics\n",
       "40           test\n",
       "41        testing\n",
       "42           text\n",
       "43          train\n",
       "44       training\n",
       "45        trigger\n",
       "46         update\n",
       "47       upstream\n",
       "48            use\n",
       "49       workflow\n",
       "50           yaml\n",
       "51            yml"
      ]
     },
     "execution_count": 79,
     "metadata": {},
     "output_type": "execute_result"
    }
   ],
   "source": [
    "title_word_keep_cols_df"
   ]
  },
  {
   "cell_type": "code",
   "execution_count": 80,
   "id": "2c67ed79-0555-4f0d-9557-3e6d335baeac",
   "metadata": {
    "execution": {
     "iopub.execute_input": "2022-12-07T15:27:48.313022Z",
     "iopub.status.busy": "2022-12-07T15:27:48.312750Z",
     "iopub.status.idle": "2022-12-07T15:27:48.661575Z",
     "shell.execute_reply": "2022-12-07T15:27:48.660729Z"
    }
   },
   "outputs": [
    {
     "data": {
      "text/plain": [
       "{'ResponseMetadata': {'RequestId': 'lbdt10ni-70m67c-105s',\n",
       "  'HostId': 'lbdt10ni-70m67c-105s',\n",
       "  'HTTPStatusCode': 200,\n",
       "  'HTTPHeaders': {'x-amz-request-id': 'lbdt10ni-70m67c-105s',\n",
       "   'x-amz-id-2': 'lbdt10ni-70m67c-105s',\n",
       "   'access-control-allow-origin': '*',\n",
       "   'access-control-allow-credentials': 'true',\n",
       "   'access-control-allow-methods': 'GET,POST,PUT,DELETE,OPTIONS',\n",
       "   'access-control-allow-headers': 'Content-Type,Content-MD5,Authorization,X-Amz-User-Agent,X-Amz-Date,ETag,X-Amz-Content-Sha256',\n",
       "   'access-control-expose-headers': 'ETag,X-Amz-Version-Id',\n",
       "   'etag': '\"787c188d178b2dffa928c3f901603b10\"',\n",
       "   'date': 'Wed, 07 Dec 2022 15:27:48 GMT',\n",
       "   'keep-alive': 'timeout=5',\n",
       "   'content-length': '0',\n",
       "   'set-cookie': '1a4aa612fe797ac8466d7ee00e5520d5=b9a4e3efe932781180a9a8945a639f83; path=/; HttpOnly; Secure; SameSite=None'},\n",
       "  'RetryAttempts': 0},\n",
       " 'ETag': '\"787c188d178b2dffa928c3f901603b10\"'}"
      ]
     },
     "execution_count": 80,
     "metadata": {},
     "output_type": "execute_result"
    }
   ],
   "source": [
    "TITLE_FEATURES_FILENAME = os.path.join(ORG + REPO + \"titlewords.parquet\")\n",
    "TITLE_FEATURES_KEY = os.path.join(s3_input_data_path, ORG, REPO, \"features\")\n",
    "cc.upload_to_ceph(title_word_keep_cols_df, TITLE_FEATURES_KEY, TITLE_FEATURES_FILENAME)"
   ]
  },
  {
   "cell_type": "markdown",
   "id": "105e4b18",
   "metadata": {},
   "source": [
    "Using various feature importance scores such as chi-squared, mutual information statistic, correlation values, we have selected the most relevant features amongst all of our features. "
   ]
  },
  {
   "cell_type": "code",
   "execution_count": 81,
   "id": "4cdafdae",
   "metadata": {
    "execution": {
     "iopub.execute_input": "2022-12-07T15:27:48.665869Z",
     "iopub.status.busy": "2022-12-07T15:27:48.665299Z",
     "iopub.status.idle": "2022-12-07T15:27:48.672529Z",
     "shell.execute_reply": "2022-12-07T15:27:48.671742Z"
    },
    "tags": []
   },
   "outputs": [
    {
     "data": {
      "text/plain": [
       "['size',\n",
       " 'created_at_day',\n",
       " 'created_at_month',\n",
       " 'created_at_weekday',\n",
       " 'created_at_hour',\n",
       " 'changed_files_number',\n",
       " 'body_size',\n",
       " 'commits_number',\n",
       " 'filetype_.ipynb',\n",
       " 'filetype_.yaml',\n",
       " 'filetype_.py',\n",
       " 'filetype_.sh',\n",
       " 'filetype_.yml',\n",
       " 'filetype_.txt',\n",
       " 'filetype_.md',\n",
       " 'filetype_LICENSE',\n",
       " 'filetype_Dockerfile',\n",
       " 'filetype_Containerfile',\n",
       " 'title_wordcount_action',\n",
       " 'title_wordcount_add',\n",
       " 'title_wordcount_api',\n",
       " 'title_wordcount_basic',\n",
       " 'title_wordcount_best',\n",
       " 'title_wordcount_callingprs',\n",
       " 'title_wordcount_changed',\n",
       " 'title_wordcount_choose',\n",
       " 'title_wordcount_clean',\n",
       " 'title_wordcount_cleanup',\n",
       " 'title_wordcount_comment',\n",
       " 'title_wordcount_condition',\n",
       " 'title_wordcount_data',\n",
       " 'title_wordcount_download',\n",
       " 'title_wordcount_engineering',\n",
       " 'title_wordcount_entrypoint',\n",
       " 'title_wordcount_feature',\n",
       " 'title_wordcount_fix',\n",
       " 'title_wordcount_fixed',\n",
       " 'title_wordcount_functionality',\n",
       " 'title_wordcount_github',\n",
       " 'title_wordcount_inference',\n",
       " 'title_wordcount_inputs',\n",
       " 'title_wordcount_merge',\n",
       " 'title_wordcount_mode',\n",
       " 'title_wordcount_model',\n",
       " 'title_wordcount_modes',\n",
       " 'title_wordcount_new',\n",
       " 'title_wordcount_notebook',\n",
       " 'title_wordcount_notebook3',\n",
       " 'title_wordcount_optimization',\n",
       " 'title_wordcount_output',\n",
       " 'title_wordcount_pr',\n",
       " 'title_wordcount_prs',\n",
       " 'title_wordcount_pygithub',\n",
       " 'title_wordcount_rate',\n",
       " 'title_wordcount_sample',\n",
       " 'title_wordcount_sh',\n",
       " 'title_wordcount_size',\n",
       " 'title_wordcount_srcopsmetrics',\n",
       " 'title_wordcount_test',\n",
       " 'title_wordcount_testing',\n",
       " 'title_wordcount_text',\n",
       " 'title_wordcount_train',\n",
       " 'title_wordcount_training',\n",
       " 'title_wordcount_trigger',\n",
       " 'title_wordcount_update',\n",
       " 'title_wordcount_upstream',\n",
       " 'title_wordcount_use',\n",
       " 'title_wordcount_workflow',\n",
       " 'title_wordcount_yaml',\n",
       " 'title_wordcount_yml']"
      ]
     },
     "execution_count": 81,
     "metadata": {},
     "output_type": "execute_result"
    }
   ],
   "source": [
    "selected_features"
   ]
  },
  {
   "cell_type": "markdown",
   "id": "ddda4924",
   "metadata": {},
   "source": [
    "## Save Feature Engineered Dataset"
   ]
  },
  {
   "cell_type": "code",
   "execution_count": 82,
   "id": "894941f7-9815-44af-867a-9e206502cd7a",
   "metadata": {
    "execution": {
     "iopub.execute_input": "2022-12-07T15:27:48.676374Z",
     "iopub.status.busy": "2022-12-07T15:27:48.675748Z",
     "iopub.status.idle": "2022-12-07T15:27:48.692665Z",
     "shell.execute_reply": "2022-12-07T15:27:48.691902Z"
    }
   },
   "outputs": [
    {
     "data": {
      "text/html": [
       "<div>\n",
       "<style scoped>\n",
       "    .dataframe tbody tr th:only-of-type {\n",
       "        vertical-align: middle;\n",
       "    }\n",
       "\n",
       "    .dataframe tbody tr th {\n",
       "        vertical-align: top;\n",
       "    }\n",
       "\n",
       "    .dataframe thead th {\n",
       "        text-align: right;\n",
       "    }\n",
       "</style>\n",
       "<table border=\"1\" class=\"dataframe\">\n",
       "  <thead>\n",
       "    <tr style=\"text-align: right;\">\n",
       "      <th></th>\n",
       "      <th>size</th>\n",
       "      <th>created_at_day</th>\n",
       "      <th>created_at_month</th>\n",
       "      <th>created_at_weekday</th>\n",
       "      <th>created_at_hour</th>\n",
       "      <th>changed_files_number</th>\n",
       "      <th>body_size</th>\n",
       "      <th>commits_number</th>\n",
       "      <th>filetype_.ipynb</th>\n",
       "      <th>filetype_.yaml</th>\n",
       "      <th>...</th>\n",
       "      <th>title_wordcount_training</th>\n",
       "      <th>title_wordcount_trigger</th>\n",
       "      <th>title_wordcount_update</th>\n",
       "      <th>title_wordcount_upstream</th>\n",
       "      <th>title_wordcount_use</th>\n",
       "      <th>title_wordcount_workflow</th>\n",
       "      <th>title_wordcount_yaml</th>\n",
       "      <th>title_wordcount_yml</th>\n",
       "      <th>ttm_class</th>\n",
       "      <th>time_to_merge</th>\n",
       "    </tr>\n",
       "  </thead>\n",
       "  <tbody>\n",
       "    <tr>\n",
       "      <th>0</th>\n",
       "      <td>5</td>\n",
       "      <td>6</td>\n",
       "      <td>12</td>\n",
       "      <td>1</td>\n",
       "      <td>21</td>\n",
       "      <td>2</td>\n",
       "      <td>41</td>\n",
       "      <td>1</td>\n",
       "      <td>2</td>\n",
       "      <td>0</td>\n",
       "      <td>...</td>\n",
       "      <td>0</td>\n",
       "      <td>0</td>\n",
       "      <td>1</td>\n",
       "      <td>0</td>\n",
       "      <td>0</td>\n",
       "      <td>0</td>\n",
       "      <td>0</td>\n",
       "      <td>0</td>\n",
       "      <td>7</td>\n",
       "      <td>63413.0</td>\n",
       "    </tr>\n",
       "    <tr>\n",
       "      <th>1</th>\n",
       "      <td>1</td>\n",
       "      <td>5</td>\n",
       "      <td>12</td>\n",
       "      <td>0</td>\n",
       "      <td>20</td>\n",
       "      <td>2</td>\n",
       "      <td>1</td>\n",
       "      <td>4</td>\n",
       "      <td>0</td>\n",
       "      <td>1</td>\n",
       "      <td>...</td>\n",
       "      <td>0</td>\n",
       "      <td>0</td>\n",
       "      <td>1</td>\n",
       "      <td>0</td>\n",
       "      <td>0</td>\n",
       "      <td>0</td>\n",
       "      <td>1</td>\n",
       "      <td>0</td>\n",
       "      <td>3</td>\n",
       "      <td>3394.0</td>\n",
       "    </tr>\n",
       "    <tr>\n",
       "      <th>2</th>\n",
       "      <td>0</td>\n",
       "      <td>5</td>\n",
       "      <td>12</td>\n",
       "      <td>0</td>\n",
       "      <td>20</td>\n",
       "      <td>1</td>\n",
       "      <td>1</td>\n",
       "      <td>1</td>\n",
       "      <td>0</td>\n",
       "      <td>0</td>\n",
       "      <td>...</td>\n",
       "      <td>0</td>\n",
       "      <td>0</td>\n",
       "      <td>0</td>\n",
       "      <td>0</td>\n",
       "      <td>0</td>\n",
       "      <td>0</td>\n",
       "      <td>0</td>\n",
       "      <td>0</td>\n",
       "      <td>9</td>\n",
       "      <td>NaN</td>\n",
       "    </tr>\n",
       "    <tr>\n",
       "      <th>3</th>\n",
       "      <td>1</td>\n",
       "      <td>5</td>\n",
       "      <td>12</td>\n",
       "      <td>0</td>\n",
       "      <td>17</td>\n",
       "      <td>2</td>\n",
       "      <td>2</td>\n",
       "      <td>3</td>\n",
       "      <td>0</td>\n",
       "      <td>1</td>\n",
       "      <td>...</td>\n",
       "      <td>0</td>\n",
       "      <td>0</td>\n",
       "      <td>0</td>\n",
       "      <td>0</td>\n",
       "      <td>0</td>\n",
       "      <td>0</td>\n",
       "      <td>0</td>\n",
       "      <td>0</td>\n",
       "      <td>9</td>\n",
       "      <td>NaN</td>\n",
       "    </tr>\n",
       "    <tr>\n",
       "      <th>4</th>\n",
       "      <td>3</td>\n",
       "      <td>1</td>\n",
       "      <td>12</td>\n",
       "      <td>3</td>\n",
       "      <td>15</td>\n",
       "      <td>1</td>\n",
       "      <td>53</td>\n",
       "      <td>1</td>\n",
       "      <td>1</td>\n",
       "      <td>0</td>\n",
       "      <td>...</td>\n",
       "      <td>0</td>\n",
       "      <td>0</td>\n",
       "      <td>0</td>\n",
       "      <td>0</td>\n",
       "      <td>0</td>\n",
       "      <td>0</td>\n",
       "      <td>0</td>\n",
       "      <td>0</td>\n",
       "      <td>1</td>\n",
       "      <td>390.0</td>\n",
       "    </tr>\n",
       "  </tbody>\n",
       "</table>\n",
       "<p>5 rows × 72 columns</p>\n",
       "</div>"
      ],
      "text/plain": [
       "   size  created_at_day  created_at_month  created_at_weekday  \\\n",
       "0     5               6                12                   1   \n",
       "1     1               5                12                   0   \n",
       "2     0               5                12                   0   \n",
       "3     1               5                12                   0   \n",
       "4     3               1                12                   3   \n",
       "\n",
       "   created_at_hour  changed_files_number  body_size  commits_number  \\\n",
       "0               21                     2         41               1   \n",
       "1               20                     2          1               4   \n",
       "2               20                     1          1               1   \n",
       "3               17                     2          2               3   \n",
       "4               15                     1         53               1   \n",
       "\n",
       "   filetype_.ipynb  filetype_.yaml  ...  title_wordcount_training  \\\n",
       "0                2               0  ...                         0   \n",
       "1                0               1  ...                         0   \n",
       "2                0               0  ...                         0   \n",
       "3                0               1  ...                         0   \n",
       "4                1               0  ...                         0   \n",
       "\n",
       "   title_wordcount_trigger  title_wordcount_update  title_wordcount_upstream  \\\n",
       "0                        0                       1                         0   \n",
       "1                        0                       1                         0   \n",
       "2                        0                       0                         0   \n",
       "3                        0                       0                         0   \n",
       "4                        0                       0                         0   \n",
       "\n",
       "   title_wordcount_use  title_wordcount_workflow  title_wordcount_yaml  \\\n",
       "0                    0                         0                     0   \n",
       "1                    0                         0                     1   \n",
       "2                    0                         0                     0   \n",
       "3                    0                         0                     0   \n",
       "4                    0                         0                     0   \n",
       "\n",
       "   title_wordcount_yml  ttm_class  time_to_merge  \n",
       "0                    0          7        63413.0  \n",
       "1                    0          3         3394.0  \n",
       "2                    0          9            NaN  \n",
       "3                    0          9            NaN  \n",
       "4                    0          1          390.0  \n",
       "\n",
       "[5 rows x 72 columns]"
      ]
     },
     "execution_count": 82,
     "metadata": {},
     "output_type": "execute_result"
    }
   ],
   "source": [
    "# join all types of features\n",
    "ttm_dataset = pd.concat(\n",
    "    [feature_df, filetype_df, title_wordcount_df], axis=1, ignore_index=False\n",
    ")\n",
    "\n",
    "# keep only the selected features and the prediction label\n",
    "ttm_dataset = ttm_dataset[selected_features + [\"ttm_class\", \"time_to_merge\"]]\n",
    "\n",
    "ttm_dataset.head()"
   ]
  },
  {
   "cell_type": "code",
   "execution_count": 83,
   "id": "4fd9e422-eaf1-4c80-9375-5d71ac985171",
   "metadata": {
    "execution": {
     "iopub.execute_input": "2022-12-07T15:27:48.696304Z",
     "iopub.status.busy": "2022-12-07T15:27:48.696023Z",
     "iopub.status.idle": "2022-12-07T15:27:48.711170Z",
     "shell.execute_reply": "2022-12-07T15:27:48.710473Z"
    }
   },
   "outputs": [
    {
     "name": "stdout",
     "output_type": "stream",
     "text": [
      "<class 'pandas.core.frame.DataFrame'>\n",
      "RangeIndex: 27 entries, 0 to 26\n",
      "Data columns (total 72 columns):\n",
      " #   Column                         Non-Null Count  Dtype  \n",
      "---  ------                         --------------  -----  \n",
      " 0   size                           27 non-null     int64  \n",
      " 1   created_at_day                 27 non-null     int64  \n",
      " 2   created_at_month               27 non-null     int64  \n",
      " 3   created_at_weekday             27 non-null     int64  \n",
      " 4   created_at_hour                27 non-null     int64  \n",
      " 5   changed_files_number           27 non-null     int64  \n",
      " 6   body_size                      27 non-null     int64  \n",
      " 7   commits_number                 27 non-null     int64  \n",
      " 8   filetype_.ipynb                27 non-null     int64  \n",
      " 9   filetype_.yaml                 27 non-null     int64  \n",
      " 10  filetype_.py                   27 non-null     int64  \n",
      " 11  filetype_.sh                   27 non-null     int64  \n",
      " 12  filetype_.yml                  27 non-null     int64  \n",
      " 13  filetype_.txt                  27 non-null     int64  \n",
      " 14  filetype_.md                   27 non-null     int64  \n",
      " 15  filetype_LICENSE               27 non-null     int64  \n",
      " 16  filetype_Dockerfile            27 non-null     int64  \n",
      " 17  filetype_Containerfile         27 non-null     int64  \n",
      " 18  title_wordcount_action         27 non-null     int64  \n",
      " 19  title_wordcount_add            27 non-null     int64  \n",
      " 20  title_wordcount_api            27 non-null     int64  \n",
      " 21  title_wordcount_basic          27 non-null     int64  \n",
      " 22  title_wordcount_best           27 non-null     int64  \n",
      " 23  title_wordcount_callingprs     27 non-null     int64  \n",
      " 24  title_wordcount_changed        27 non-null     int64  \n",
      " 25  title_wordcount_choose         27 non-null     int64  \n",
      " 26  title_wordcount_clean          27 non-null     int64  \n",
      " 27  title_wordcount_cleanup        27 non-null     int64  \n",
      " 28  title_wordcount_comment        27 non-null     int64  \n",
      " 29  title_wordcount_condition      27 non-null     int64  \n",
      " 30  title_wordcount_data           27 non-null     int64  \n",
      " 31  title_wordcount_download       27 non-null     int64  \n",
      " 32  title_wordcount_engineering    27 non-null     int64  \n",
      " 33  title_wordcount_entrypoint     27 non-null     int64  \n",
      " 34  title_wordcount_feature        27 non-null     int64  \n",
      " 35  title_wordcount_fix            27 non-null     int64  \n",
      " 36  title_wordcount_fixed          27 non-null     int64  \n",
      " 37  title_wordcount_functionality  27 non-null     int64  \n",
      " 38  title_wordcount_github         27 non-null     int64  \n",
      " 39  title_wordcount_inference      27 non-null     int64  \n",
      " 40  title_wordcount_inputs         27 non-null     int64  \n",
      " 41  title_wordcount_merge          27 non-null     int64  \n",
      " 42  title_wordcount_mode           27 non-null     int64  \n",
      " 43  title_wordcount_model          27 non-null     int64  \n",
      " 44  title_wordcount_modes          27 non-null     int64  \n",
      " 45  title_wordcount_new            27 non-null     int64  \n",
      " 46  title_wordcount_notebook       27 non-null     int64  \n",
      " 47  title_wordcount_notebook3      27 non-null     int64  \n",
      " 48  title_wordcount_optimization   27 non-null     int64  \n",
      " 49  title_wordcount_output         27 non-null     int64  \n",
      " 50  title_wordcount_pr             27 non-null     int64  \n",
      " 51  title_wordcount_prs            27 non-null     int64  \n",
      " 52  title_wordcount_pygithub       27 non-null     int64  \n",
      " 53  title_wordcount_rate           27 non-null     int64  \n",
      " 54  title_wordcount_sample         27 non-null     int64  \n",
      " 55  title_wordcount_sh             27 non-null     int64  \n",
      " 56  title_wordcount_size           27 non-null     int64  \n",
      " 57  title_wordcount_srcopsmetrics  27 non-null     int64  \n",
      " 58  title_wordcount_test           27 non-null     int64  \n",
      " 59  title_wordcount_testing        27 non-null     int64  \n",
      " 60  title_wordcount_text           27 non-null     int64  \n",
      " 61  title_wordcount_train          27 non-null     int64  \n",
      " 62  title_wordcount_training       27 non-null     int64  \n",
      " 63  title_wordcount_trigger        27 non-null     int64  \n",
      " 64  title_wordcount_update         27 non-null     int64  \n",
      " 65  title_wordcount_upstream       27 non-null     int64  \n",
      " 66  title_wordcount_use            27 non-null     int64  \n",
      " 67  title_wordcount_workflow       27 non-null     int64  \n",
      " 68  title_wordcount_yaml           27 non-null     int64  \n",
      " 69  title_wordcount_yml            27 non-null     int64  \n",
      " 70  ttm_class                      27 non-null     int64  \n",
      " 71  time_to_merge                  20 non-null     float64\n",
      "dtypes: float64(1), int64(71)\n",
      "memory usage: 15.3 KB\n"
     ]
    }
   ],
   "source": [
    "ttm_dataset.info()"
   ]
  },
  {
   "cell_type": "markdown",
   "id": "4a949795",
   "metadata": {},
   "source": [
    "## Save results to Ceph or locally\n",
    "\n",
    "Using the helper function to save the data frame in a parquet format on the Ceph bucket if we are running in automation, and locally if not."
   ]
  },
  {
   "cell_type": "code",
   "execution_count": 84,
   "id": "ecd03940-1b27-4472-ae97-469a4ad8a25a",
   "metadata": {
    "execution": {
     "iopub.execute_input": "2022-12-07T15:27:48.715066Z",
     "iopub.status.busy": "2022-12-07T15:27:48.714469Z",
     "iopub.status.idle": "2022-12-07T15:27:48.719508Z",
     "shell.execute_reply": "2022-12-07T15:27:48.718675Z"
    }
   },
   "outputs": [],
   "source": [
    "TTM_DATASET_PATH = os.path.join(s3_input_data_path, ORG, REPO)"
   ]
  },
  {
   "cell_type": "code",
   "execution_count": 85,
   "id": "adfdfb1b",
   "metadata": {
    "execution": {
     "iopub.execute_input": "2022-12-07T15:27:48.723125Z",
     "iopub.status.busy": "2022-12-07T15:27:48.722701Z",
     "iopub.status.idle": "2022-12-07T15:27:49.264566Z",
     "shell.execute_reply": "2022-12-07T15:27:49.263493Z"
    }
   },
   "outputs": [],
   "source": [
    "## Sanity check to see if the dataset is the same\n",
    "\n",
    "try:\n",
    "    cc.upload_to_ceph(\n",
    "        ttm_dataset,\n",
    "        TTM_DATASET_PATH,\n",
    "        \"ttm_feature_engineered_dataset.parquet\",\n",
    "    )\n",
    "except ValueError as ve:\n",
    "    print(ve)\n",
    "    print(\"Files already uploaded to S3\")"
   ]
  },
  {
   "cell_type": "markdown",
   "id": "165910c8",
   "metadata": {},
   "source": [
    "# Conclusion\n",
    "\n",
    "This notebook walked through how to access saved raw Pull Requests data from the previous data collection notebook and we engineered some possible features which can be used to predict time to merge of a PR. \n",
    "\n",
    "The features we engineered are as following:\n",
    "\n",
    "- time_to_merge: time taken to merge a PR in seconds, this is feature we will try to predict\n",
    "- changed_files_number: integer indicating the number of files changed, this is an available column\n",
    "- body_size: integer indicating the number of words in the body of the PR, derived from body\n",
    "- size: integer corresponding to a categorical label generated by GitHub which summarizes the size of the changes made to the code base \n",
    "- title_word_counts_vec: vector or list indicating how many times each word appeared in the title\n",
    "- created_at_day: categorical variable indicating the day of month the PR has been created, derived from created_at\n",
    "- created_at_month: categorical variable indicating the month of the year that the PR has been created, derived from created_at\n",
    "- created_at_weekday: categorical variable indicating the day of the week the PR has been created, derived from created_at\n",
    "- created_at_hour: categorical variable indicating the hour of the day the PR has been created, derived from created_at\n",
    "- commits_number: integer indicating the number of commits in the PR\n",
    "- changed_file_type_vec:  vector or list consisting of number of files changed for the top 100 most frequently occurring data types, derived from changed_files\n",
    "\n",
    "\n",
    "# Next Step\n",
    "\n",
    "In the next [notebook](./03_model_training.ipynb), we will train a classifier to predict time to merge of a PR using the features."
   ]
  }
 ],
 "metadata": {
  "kernelspec": {
   "display_name": "Python 3 (ipykernel)",
   "language": "python",
   "name": "python3"
  },
  "language_info": {
   "codemirror_mode": {
    "name": "ipython",
    "version": 3
   },
   "file_extension": ".py",
   "mimetype": "text/x-python",
   "name": "python",
   "nbconvert_exporter": "python",
   "pygments_lexer": "ipython3",
   "version": "3.8.8"
  }
 },
 "nbformat": 4,
 "nbformat_minor": 5
}
